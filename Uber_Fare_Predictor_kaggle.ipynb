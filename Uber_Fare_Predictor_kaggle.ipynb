{
 "cells": [
  {
   "cell_type": "markdown",
   "metadata": {},
   "source": [
    "### The below notebook analyzes the uber fare data for each trip & predicts the uber fare "
   ]
  },
  {
   "cell_type": "code",
   "execution_count": 2,
   "metadata": {
    "execution": {
     "iopub.execute_input": "2022-01-13T10:38:25.591114Z",
     "iopub.status.busy": "2022-01-13T10:38:25.590216Z",
     "iopub.status.idle": "2022-01-13T10:38:27.473388Z",
     "shell.execute_reply": "2022-01-13T10:38:27.472001Z",
     "shell.execute_reply.started": "2022-01-13T09:05:41.783295Z"
    },
    "papermill": {
     "duration": 1.957008,
     "end_time": "2022-01-13T10:38:27.473565",
     "exception": false,
     "start_time": "2022-01-13T10:38:25.516557",
     "status": "completed"
    },
    "tags": []
   },
   "outputs": [],
   "source": [
    "#import libraries\n",
    "import pandas as pd\n",
    "import numpy as np\n",
    "import seaborn as sb\n",
    "import matplotlib.pyplot as plt\n",
    "import datetime\n",
    "#from geopy.geocoders import Nominatim\n",
    "#import plotly.express as px\n",
    "from statsmodels.stats.outliers_influence import variance_inflation_factor\n",
    "import statsmodels.api as sm"
   ]
  },
  {
   "cell_type": "code",
   "execution_count": 3,
   "metadata": {
    "execution": {
     "iopub.execute_input": "2022-01-13T10:38:27.617779Z",
     "iopub.status.busy": "2022-01-13T10:38:27.616694Z",
     "iopub.status.idle": "2022-01-13T10:38:27.619277Z",
     "shell.execute_reply": "2022-01-13T10:38:27.618653Z",
     "shell.execute_reply.started": "2022-01-13T09:05:42.563663Z"
    },
    "papermill": {
     "duration": 0.077775,
     "end_time": "2022-01-13T10:38:27.619429",
     "exception": false,
     "start_time": "2022-01-13T10:38:27.541654",
     "status": "completed"
    },
    "tags": []
   },
   "outputs": [],
   "source": [
    "#create a function for distance calculation between the two locations latitudes and logitudes\n",
    "from math import radians, cos, sin, asin, sqrt\n",
    "def calculate_distance(lat1, lat2, lon1, lon2):\n",
    "\t\n",
    "\t# The math module contains a function named\n",
    "\t# radians which converts from degrees to radians.\n",
    "\tlon1 = radians(lon1)\n",
    "\tlon2 = radians(lon2)\n",
    "\tlat1 = radians(lat1)\n",
    "\tlat2 = radians(lat2)\n",
    "\t\n",
    "\t# Haversine formula\n",
    "\tdlon = lon2 - lon1\n",
    "\tdlat = lat2 - lat1\n",
    "\ta = sin(dlat / 2)**2 + cos(lat1) * cos(lat2) * sin(dlon / 2)**2\n",
    "\n",
    "\tc = 2 * asin(sqrt(a))\n",
    "\t\n",
    "\t# Radius of earth in kilometers. Use 3956 for miles\n",
    "\tr = 6371\n",
    "\t\n",
    "\t# calculate the result\n",
    "\treturn(c * r)\n",
    "\t\n",
    "\t\n"
   ]
  },
  {
   "cell_type": "code",
   "execution_count": 4,
   "metadata": {
    "execution": {
     "iopub.execute_input": "2022-01-13T10:38:27.760876Z",
     "iopub.status.busy": "2022-01-13T10:38:27.760196Z",
     "iopub.status.idle": "2022-01-13T10:38:28.564517Z",
     "shell.execute_reply": "2022-01-13T10:38:28.563854Z",
     "shell.execute_reply.started": "2022-01-13T09:05:42.574657Z"
    },
    "papermill": {
     "duration": 0.876991,
     "end_time": "2022-01-13T10:38:28.564667",
     "exception": false,
     "start_time": "2022-01-13T10:38:27.687676",
     "status": "completed"
    },
    "tags": []
   },
   "outputs": [],
   "source": [
    "#read the data \n",
    "uber_fare_df= pd.read_csv('../input/uber-fares-dataset/uber.csv')"
   ]
  },
  {
   "cell_type": "code",
   "execution_count": 5,
   "metadata": {
    "execution": {
     "iopub.execute_input": "2022-01-13T10:38:28.706105Z",
     "iopub.status.busy": "2022-01-13T10:38:28.705463Z",
     "iopub.status.idle": "2022-01-13T10:38:28.728145Z",
     "shell.execute_reply": "2022-01-13T10:38:28.728669Z",
     "shell.execute_reply.started": "2022-01-13T09:05:43.209487Z"
    },
    "papermill": {
     "duration": 0.095534,
     "end_time": "2022-01-13T10:38:28.728875",
     "exception": false,
     "start_time": "2022-01-13T10:38:28.633341",
     "status": "completed"
    },
    "tags": []
   },
   "outputs": [
    {
     "data": {
      "text/html": [
       "<div>\n",
       "<style scoped>\n",
       "    .dataframe tbody tr th:only-of-type {\n",
       "        vertical-align: middle;\n",
       "    }\n",
       "\n",
       "    .dataframe tbody tr th {\n",
       "        vertical-align: top;\n",
       "    }\n",
       "\n",
       "    .dataframe thead th {\n",
       "        text-align: right;\n",
       "    }\n",
       "</style>\n",
       "<table border=\"1\" class=\"dataframe\">\n",
       "  <thead>\n",
       "    <tr style=\"text-align: right;\">\n",
       "      <th></th>\n",
       "      <th>Unnamed: 0</th>\n",
       "      <th>key</th>\n",
       "      <th>fare_amount</th>\n",
       "      <th>pickup_datetime</th>\n",
       "      <th>pickup_longitude</th>\n",
       "      <th>pickup_latitude</th>\n",
       "      <th>dropoff_longitude</th>\n",
       "      <th>dropoff_latitude</th>\n",
       "      <th>passenger_count</th>\n",
       "    </tr>\n",
       "  </thead>\n",
       "  <tbody>\n",
       "    <tr>\n",
       "      <th>0</th>\n",
       "      <td>24238194</td>\n",
       "      <td>2015-05-07 19:52:06.0000003</td>\n",
       "      <td>7.5</td>\n",
       "      <td>2015-05-07 19:52:06 UTC</td>\n",
       "      <td>-73.999817</td>\n",
       "      <td>40.738354</td>\n",
       "      <td>-73.999512</td>\n",
       "      <td>40.723217</td>\n",
       "      <td>1</td>\n",
       "    </tr>\n",
       "    <tr>\n",
       "      <th>1</th>\n",
       "      <td>27835199</td>\n",
       "      <td>2009-07-17 20:04:56.0000002</td>\n",
       "      <td>7.7</td>\n",
       "      <td>2009-07-17 20:04:56 UTC</td>\n",
       "      <td>-73.994355</td>\n",
       "      <td>40.728225</td>\n",
       "      <td>-73.994710</td>\n",
       "      <td>40.750325</td>\n",
       "      <td>1</td>\n",
       "    </tr>\n",
       "    <tr>\n",
       "      <th>2</th>\n",
       "      <td>44984355</td>\n",
       "      <td>2009-08-24 21:45:00.00000061</td>\n",
       "      <td>12.9</td>\n",
       "      <td>2009-08-24 21:45:00 UTC</td>\n",
       "      <td>-74.005043</td>\n",
       "      <td>40.740770</td>\n",
       "      <td>-73.962565</td>\n",
       "      <td>40.772647</td>\n",
       "      <td>1</td>\n",
       "    </tr>\n",
       "    <tr>\n",
       "      <th>3</th>\n",
       "      <td>25894730</td>\n",
       "      <td>2009-06-26 08:22:21.0000001</td>\n",
       "      <td>5.3</td>\n",
       "      <td>2009-06-26 08:22:21 UTC</td>\n",
       "      <td>-73.976124</td>\n",
       "      <td>40.790844</td>\n",
       "      <td>-73.965316</td>\n",
       "      <td>40.803349</td>\n",
       "      <td>3</td>\n",
       "    </tr>\n",
       "    <tr>\n",
       "      <th>4</th>\n",
       "      <td>17610152</td>\n",
       "      <td>2014-08-28 17:47:00.000000188</td>\n",
       "      <td>16.0</td>\n",
       "      <td>2014-08-28 17:47:00 UTC</td>\n",
       "      <td>-73.925023</td>\n",
       "      <td>40.744085</td>\n",
       "      <td>-73.973082</td>\n",
       "      <td>40.761247</td>\n",
       "      <td>5</td>\n",
       "    </tr>\n",
       "  </tbody>\n",
       "</table>\n",
       "</div>"
      ],
      "text/plain": [
       "   Unnamed: 0                            key  fare_amount  \\\n",
       "0    24238194    2015-05-07 19:52:06.0000003          7.5   \n",
       "1    27835199    2009-07-17 20:04:56.0000002          7.7   \n",
       "2    44984355   2009-08-24 21:45:00.00000061         12.9   \n",
       "3    25894730    2009-06-26 08:22:21.0000001          5.3   \n",
       "4    17610152  2014-08-28 17:47:00.000000188         16.0   \n",
       "\n",
       "           pickup_datetime  pickup_longitude  pickup_latitude  \\\n",
       "0  2015-05-07 19:52:06 UTC        -73.999817        40.738354   \n",
       "1  2009-07-17 20:04:56 UTC        -73.994355        40.728225   \n",
       "2  2009-08-24 21:45:00 UTC        -74.005043        40.740770   \n",
       "3  2009-06-26 08:22:21 UTC        -73.976124        40.790844   \n",
       "4  2014-08-28 17:47:00 UTC        -73.925023        40.744085   \n",
       "\n",
       "   dropoff_longitude  dropoff_latitude  passenger_count  \n",
       "0         -73.999512         40.723217                1  \n",
       "1         -73.994710         40.750325                1  \n",
       "2         -73.962565         40.772647                1  \n",
       "3         -73.965316         40.803349                3  \n",
       "4         -73.973082         40.761247                5  "
      ]
     },
     "execution_count": 5,
     "metadata": {},
     "output_type": "execute_result"
    }
   ],
   "source": [
    "uber_fare_df.head()"
   ]
  },
  {
   "cell_type": "code",
   "execution_count": 6,
   "metadata": {
    "execution": {
     "iopub.execute_input": "2022-01-13T10:38:28.875071Z",
     "iopub.status.busy": "2022-01-13T10:38:28.874102Z",
     "iopub.status.idle": "2022-01-13T10:38:28.878067Z",
     "shell.execute_reply": "2022-01-13T10:38:28.877496Z",
     "shell.execute_reply.started": "2022-01-13T09:05:43.234904Z"
    },
    "papermill": {
     "duration": 0.079474,
     "end_time": "2022-01-13T10:38:28.878216",
     "exception": false,
     "start_time": "2022-01-13T10:38:28.798742",
     "status": "completed"
    },
    "tags": []
   },
   "outputs": [
    {
     "data": {
      "text/plain": [
       "Index(['Unnamed: 0', 'key', 'fare_amount', 'pickup_datetime',\n",
       "       'pickup_longitude', 'pickup_latitude', 'dropoff_longitude',\n",
       "       'dropoff_latitude', 'passenger_count'],\n",
       "      dtype='object')"
      ]
     },
     "execution_count": 6,
     "metadata": {},
     "output_type": "execute_result"
    }
   ],
   "source": [
    "uber_fare_df.columns"
   ]
  },
  {
   "cell_type": "code",
   "execution_count": 7,
   "metadata": {
    "execution": {
     "iopub.execute_input": "2022-01-13T10:38:29.021395Z",
     "iopub.status.busy": "2022-01-13T10:38:29.020747Z",
     "iopub.status.idle": "2022-01-13T10:38:29.039798Z",
     "shell.execute_reply": "2022-01-13T10:38:29.039203Z",
     "shell.execute_reply.started": "2022-01-13T09:05:43.664774Z"
    },
    "papermill": {
     "duration": 0.091362,
     "end_time": "2022-01-13T10:38:29.039944",
     "exception": false,
     "start_time": "2022-01-13T10:38:28.948582",
     "status": "completed"
    },
    "tags": []
   },
   "outputs": [],
   "source": [
    "uber_fare_df_1= uber_fare_df.drop(['Unnamed: 0','key'],axis=1) # key and Unnamed ID seems to have no impact on our study\n"
   ]
  },
  {
   "cell_type": "code",
   "execution_count": 8,
   "metadata": {
    "execution": {
     "iopub.execute_input": "2022-01-13T10:38:29.185157Z",
     "iopub.status.busy": "2022-01-13T10:38:29.184464Z",
     "iopub.status.idle": "2022-01-13T10:38:29.217231Z",
     "shell.execute_reply": "2022-01-13T10:38:29.216654Z",
     "shell.execute_reply.started": "2022-01-13T09:05:43.785292Z"
    },
    "papermill": {
     "duration": 0.107034,
     "end_time": "2022-01-13T10:38:29.217377",
     "exception": false,
     "start_time": "2022-01-13T10:38:29.110343",
     "status": "completed"
    },
    "tags": []
   },
   "outputs": [
    {
     "data": {
      "text/plain": [
       "fare_amount          0\n",
       "pickup_datetime      0\n",
       "pickup_longitude     0\n",
       "pickup_latitude      0\n",
       "dropoff_longitude    1\n",
       "dropoff_latitude     1\n",
       "passenger_count      0\n",
       "dtype: int64"
      ]
     },
     "execution_count": 8,
     "metadata": {},
     "output_type": "execute_result"
    }
   ],
   "source": [
    "#study how many missing data are there ?\n",
    "uber_fare_df_1.isnull().sum()"
   ]
  },
  {
   "cell_type": "code",
   "execution_count": 9,
   "metadata": {
    "execution": {
     "iopub.execute_input": "2022-01-13T10:38:29.365897Z",
     "iopub.status.busy": "2022-01-13T10:38:29.365191Z",
     "iopub.status.idle": "2022-01-13T10:38:29.412538Z",
     "shell.execute_reply": "2022-01-13T10:38:29.411946Z",
     "shell.execute_reply.started": "2022-01-13T09:05:44.074317Z"
    },
    "papermill": {
     "duration": 0.1245,
     "end_time": "2022-01-13T10:38:29.412685",
     "exception": false,
     "start_time": "2022-01-13T10:38:29.288185",
     "status": "completed"
    },
    "tags": []
   },
   "outputs": [],
   "source": [
    "#since there are 2 values which are missing , we can remove it ....\n",
    "uber_fare_df_1.dropna(axis=0,inplace=True)"
   ]
  },
  {
   "cell_type": "code",
   "execution_count": 10,
   "metadata": {
    "execution": {
     "iopub.execute_input": "2022-01-13T10:38:29.570668Z",
     "iopub.status.busy": "2022-01-13T10:38:29.557108Z",
     "iopub.status.idle": "2022-01-13T10:38:29.575148Z",
     "shell.execute_reply": "2022-01-13T10:38:29.574574Z",
     "shell.execute_reply.started": "2022-01-13T09:05:44.351229Z"
    },
    "papermill": {
     "duration": 0.093617,
     "end_time": "2022-01-13T10:38:29.575300",
     "exception": false,
     "start_time": "2022-01-13T10:38:29.481683",
     "status": "completed"
    },
    "tags": []
   },
   "outputs": [
    {
     "data": {
      "text/html": [
       "<div>\n",
       "<style scoped>\n",
       "    .dataframe tbody tr th:only-of-type {\n",
       "        vertical-align: middle;\n",
       "    }\n",
       "\n",
       "    .dataframe tbody tr th {\n",
       "        vertical-align: top;\n",
       "    }\n",
       "\n",
       "    .dataframe thead th {\n",
       "        text-align: right;\n",
       "    }\n",
       "</style>\n",
       "<table border=\"1\" class=\"dataframe\">\n",
       "  <thead>\n",
       "    <tr style=\"text-align: right;\">\n",
       "      <th></th>\n",
       "      <th>fare_amount</th>\n",
       "      <th>pickup_datetime</th>\n",
       "      <th>pickup_longitude</th>\n",
       "      <th>pickup_latitude</th>\n",
       "      <th>dropoff_longitude</th>\n",
       "      <th>dropoff_latitude</th>\n",
       "      <th>passenger_count</th>\n",
       "    </tr>\n",
       "  </thead>\n",
       "  <tbody>\n",
       "    <tr>\n",
       "      <th>0</th>\n",
       "      <td>7.5</td>\n",
       "      <td>2015-05-07 19:52:06 UTC</td>\n",
       "      <td>-73.999817</td>\n",
       "      <td>40.738354</td>\n",
       "      <td>-73.999512</td>\n",
       "      <td>40.723217</td>\n",
       "      <td>1</td>\n",
       "    </tr>\n",
       "    <tr>\n",
       "      <th>1</th>\n",
       "      <td>7.7</td>\n",
       "      <td>2009-07-17 20:04:56 UTC</td>\n",
       "      <td>-73.994355</td>\n",
       "      <td>40.728225</td>\n",
       "      <td>-73.994710</td>\n",
       "      <td>40.750325</td>\n",
       "      <td>1</td>\n",
       "    </tr>\n",
       "    <tr>\n",
       "      <th>2</th>\n",
       "      <td>12.9</td>\n",
       "      <td>2009-08-24 21:45:00 UTC</td>\n",
       "      <td>-74.005043</td>\n",
       "      <td>40.740770</td>\n",
       "      <td>-73.962565</td>\n",
       "      <td>40.772647</td>\n",
       "      <td>1</td>\n",
       "    </tr>\n",
       "    <tr>\n",
       "      <th>3</th>\n",
       "      <td>5.3</td>\n",
       "      <td>2009-06-26 08:22:21 UTC</td>\n",
       "      <td>-73.976124</td>\n",
       "      <td>40.790844</td>\n",
       "      <td>-73.965316</td>\n",
       "      <td>40.803349</td>\n",
       "      <td>3</td>\n",
       "    </tr>\n",
       "    <tr>\n",
       "      <th>4</th>\n",
       "      <td>16.0</td>\n",
       "      <td>2014-08-28 17:47:00 UTC</td>\n",
       "      <td>-73.925023</td>\n",
       "      <td>40.744085</td>\n",
       "      <td>-73.973082</td>\n",
       "      <td>40.761247</td>\n",
       "      <td>5</td>\n",
       "    </tr>\n",
       "    <tr>\n",
       "      <th>...</th>\n",
       "      <td>...</td>\n",
       "      <td>...</td>\n",
       "      <td>...</td>\n",
       "      <td>...</td>\n",
       "      <td>...</td>\n",
       "      <td>...</td>\n",
       "      <td>...</td>\n",
       "    </tr>\n",
       "    <tr>\n",
       "      <th>199995</th>\n",
       "      <td>3.0</td>\n",
       "      <td>2012-10-28 10:49:00 UTC</td>\n",
       "      <td>-73.987042</td>\n",
       "      <td>40.739367</td>\n",
       "      <td>-73.986525</td>\n",
       "      <td>40.740297</td>\n",
       "      <td>1</td>\n",
       "    </tr>\n",
       "    <tr>\n",
       "      <th>199996</th>\n",
       "      <td>7.5</td>\n",
       "      <td>2014-03-14 01:09:00 UTC</td>\n",
       "      <td>-73.984722</td>\n",
       "      <td>40.736837</td>\n",
       "      <td>-74.006672</td>\n",
       "      <td>40.739620</td>\n",
       "      <td>1</td>\n",
       "    </tr>\n",
       "    <tr>\n",
       "      <th>199997</th>\n",
       "      <td>30.9</td>\n",
       "      <td>2009-06-29 00:42:00 UTC</td>\n",
       "      <td>-73.986017</td>\n",
       "      <td>40.756487</td>\n",
       "      <td>-73.858957</td>\n",
       "      <td>40.692588</td>\n",
       "      <td>2</td>\n",
       "    </tr>\n",
       "    <tr>\n",
       "      <th>199998</th>\n",
       "      <td>14.5</td>\n",
       "      <td>2015-05-20 14:56:25 UTC</td>\n",
       "      <td>-73.997124</td>\n",
       "      <td>40.725452</td>\n",
       "      <td>-73.983215</td>\n",
       "      <td>40.695415</td>\n",
       "      <td>1</td>\n",
       "    </tr>\n",
       "    <tr>\n",
       "      <th>199999</th>\n",
       "      <td>14.1</td>\n",
       "      <td>2010-05-15 04:08:00 UTC</td>\n",
       "      <td>-73.984395</td>\n",
       "      <td>40.720077</td>\n",
       "      <td>-73.985508</td>\n",
       "      <td>40.768793</td>\n",
       "      <td>1</td>\n",
       "    </tr>\n",
       "  </tbody>\n",
       "</table>\n",
       "<p>199999 rows × 7 columns</p>\n",
       "</div>"
      ],
      "text/plain": [
       "        fare_amount          pickup_datetime  pickup_longitude  \\\n",
       "0               7.5  2015-05-07 19:52:06 UTC        -73.999817   \n",
       "1               7.7  2009-07-17 20:04:56 UTC        -73.994355   \n",
       "2              12.9  2009-08-24 21:45:00 UTC        -74.005043   \n",
       "3               5.3  2009-06-26 08:22:21 UTC        -73.976124   \n",
       "4              16.0  2014-08-28 17:47:00 UTC        -73.925023   \n",
       "...             ...                      ...               ...   \n",
       "199995          3.0  2012-10-28 10:49:00 UTC        -73.987042   \n",
       "199996          7.5  2014-03-14 01:09:00 UTC        -73.984722   \n",
       "199997         30.9  2009-06-29 00:42:00 UTC        -73.986017   \n",
       "199998         14.5  2015-05-20 14:56:25 UTC        -73.997124   \n",
       "199999         14.1  2010-05-15 04:08:00 UTC        -73.984395   \n",
       "\n",
       "        pickup_latitude  dropoff_longitude  dropoff_latitude  passenger_count  \n",
       "0             40.738354         -73.999512         40.723217                1  \n",
       "1             40.728225         -73.994710         40.750325                1  \n",
       "2             40.740770         -73.962565         40.772647                1  \n",
       "3             40.790844         -73.965316         40.803349                3  \n",
       "4             40.744085         -73.973082         40.761247                5  \n",
       "...                 ...                ...               ...              ...  \n",
       "199995        40.739367         -73.986525         40.740297                1  \n",
       "199996        40.736837         -74.006672         40.739620                1  \n",
       "199997        40.756487         -73.858957         40.692588                2  \n",
       "199998        40.725452         -73.983215         40.695415                1  \n",
       "199999        40.720077         -73.985508         40.768793                1  \n",
       "\n",
       "[199999 rows x 7 columns]"
      ]
     },
     "execution_count": 10,
     "metadata": {},
     "output_type": "execute_result"
    }
   ],
   "source": [
    "uber_fare_df_1"
   ]
  },
  {
   "cell_type": "code",
   "execution_count": 11,
   "metadata": {
    "execution": {
     "iopub.execute_input": "2022-01-13T10:38:29.760998Z",
     "iopub.status.busy": "2022-01-13T10:38:29.724504Z",
     "iopub.status.idle": "2022-01-13T10:38:58.186051Z",
     "shell.execute_reply": "2022-01-13T10:38:58.185424Z",
     "shell.execute_reply.started": "2022-01-13T09:05:44.612255Z"
    },
    "papermill": {
     "duration": 28.540773,
     "end_time": "2022-01-13T10:38:58.186200",
     "exception": false,
     "start_time": "2022-01-13T10:38:29.645427",
     "status": "completed"
    },
    "tags": []
   },
   "outputs": [],
   "source": [
    "#splitting up the date (pickup date) to extract meaningful datas\n",
    "\n",
    "#extract the time out of date and bin it to the morning, afternoon, evening, night\n",
    "uber_fare_df_1['pickup_datetime'] = pd.to_datetime(uber_fare_df_1.pickup_datetime,utc=True)"
   ]
  },
  {
   "cell_type": "code",
   "execution_count": 12,
   "metadata": {
    "execution": {
     "iopub.execute_input": "2022-01-13T10:38:58.335569Z",
     "iopub.status.busy": "2022-01-13T10:38:58.334876Z",
     "iopub.status.idle": "2022-01-13T10:39:05.924275Z",
     "shell.execute_reply": "2022-01-13T10:39:05.923705Z",
     "shell.execute_reply.started": "2022-01-13T09:06:09.840029Z"
    },
    "papermill": {
     "duration": 7.667189,
     "end_time": "2022-01-13T10:39:05.924466",
     "exception": false,
     "start_time": "2022-01-13T10:38:58.257277",
     "status": "completed"
    },
    "tags": []
   },
   "outputs": [],
   "source": [
    "uber_fare_df_1['pickup_timehour']= uber_fare_df_1['pickup_datetime'].apply(lambda x: x.hour)\n",
    "uber_fare_df_1['Day']= uber_fare_df_1['pickup_datetime'].dt.day_name()\n",
    "uber_fare_df_1['Day Part']= pd.cut(uber_fare_df_1['pickup_timehour'],bins=[-1,4,12,17,21,23],labels=['Night','Morning','Afternoon','Evening','Night'],ordered=False)\n",
    "uber_fare_df_1['pickup_month']= uber_fare_df_1['pickup_datetime'].apply(lambda x: x.month)\n",
    "uber_fare_df_1['pickup_year']= uber_fare_df_1['pickup_datetime'].apply(lambda x: x.year)\n",
    "uber_fare_df_1['distance_travelled (KM)']= uber_fare_df_1.apply(lambda x: calculate_distance(x['pickup_latitude'],x['dropoff_latitude'],x['pickup_longitude'],x['dropoff_longitude']),axis=1)\n"
   ]
  },
  {
   "cell_type": "code",
   "execution_count": 13,
   "metadata": {
    "execution": {
     "iopub.execute_input": "2022-01-13T10:39:06.091556Z",
     "iopub.status.busy": "2022-01-13T10:39:06.084146Z",
     "iopub.status.idle": "2022-01-13T10:39:06.095920Z",
     "shell.execute_reply": "2022-01-13T10:39:06.095344Z",
     "shell.execute_reply.started": "2022-01-13T09:06:16.436075Z"
    },
    "papermill": {
     "duration": 0.101457,
     "end_time": "2022-01-13T10:39:06.096069",
     "exception": false,
     "start_time": "2022-01-13T10:39:05.994612",
     "status": "completed"
    },
    "tags": []
   },
   "outputs": [
    {
     "data": {
      "text/html": [
       "<div>\n",
       "<style scoped>\n",
       "    .dataframe tbody tr th:only-of-type {\n",
       "        vertical-align: middle;\n",
       "    }\n",
       "\n",
       "    .dataframe tbody tr th {\n",
       "        vertical-align: top;\n",
       "    }\n",
       "\n",
       "    .dataframe thead th {\n",
       "        text-align: right;\n",
       "    }\n",
       "</style>\n",
       "<table border=\"1\" class=\"dataframe\">\n",
       "  <thead>\n",
       "    <tr style=\"text-align: right;\">\n",
       "      <th></th>\n",
       "      <th>fare_amount</th>\n",
       "      <th>pickup_datetime</th>\n",
       "      <th>pickup_longitude</th>\n",
       "      <th>pickup_latitude</th>\n",
       "      <th>dropoff_longitude</th>\n",
       "      <th>dropoff_latitude</th>\n",
       "      <th>passenger_count</th>\n",
       "      <th>pickup_timehour</th>\n",
       "      <th>Day</th>\n",
       "      <th>Day Part</th>\n",
       "      <th>pickup_month</th>\n",
       "      <th>pickup_year</th>\n",
       "      <th>distance_travelled (KM)</th>\n",
       "    </tr>\n",
       "  </thead>\n",
       "  <tbody>\n",
       "    <tr>\n",
       "      <th>0</th>\n",
       "      <td>7.5</td>\n",
       "      <td>2015-05-07 19:52:06+00:00</td>\n",
       "      <td>-73.999817</td>\n",
       "      <td>40.738354</td>\n",
       "      <td>-73.999512</td>\n",
       "      <td>40.723217</td>\n",
       "      <td>1</td>\n",
       "      <td>19</td>\n",
       "      <td>Thursday</td>\n",
       "      <td>Evening</td>\n",
       "      <td>5</td>\n",
       "      <td>2015</td>\n",
       "      <td>1.683323</td>\n",
       "    </tr>\n",
       "    <tr>\n",
       "      <th>1</th>\n",
       "      <td>7.7</td>\n",
       "      <td>2009-07-17 20:04:56+00:00</td>\n",
       "      <td>-73.994355</td>\n",
       "      <td>40.728225</td>\n",
       "      <td>-73.994710</td>\n",
       "      <td>40.750325</td>\n",
       "      <td>1</td>\n",
       "      <td>20</td>\n",
       "      <td>Friday</td>\n",
       "      <td>Evening</td>\n",
       "      <td>7</td>\n",
       "      <td>2009</td>\n",
       "      <td>2.457590</td>\n",
       "    </tr>\n",
       "    <tr>\n",
       "      <th>2</th>\n",
       "      <td>12.9</td>\n",
       "      <td>2009-08-24 21:45:00+00:00</td>\n",
       "      <td>-74.005043</td>\n",
       "      <td>40.740770</td>\n",
       "      <td>-73.962565</td>\n",
       "      <td>40.772647</td>\n",
       "      <td>1</td>\n",
       "      <td>21</td>\n",
       "      <td>Monday</td>\n",
       "      <td>Evening</td>\n",
       "      <td>8</td>\n",
       "      <td>2009</td>\n",
       "      <td>5.036377</td>\n",
       "    </tr>\n",
       "    <tr>\n",
       "      <th>3</th>\n",
       "      <td>5.3</td>\n",
       "      <td>2009-06-26 08:22:21+00:00</td>\n",
       "      <td>-73.976124</td>\n",
       "      <td>40.790844</td>\n",
       "      <td>-73.965316</td>\n",
       "      <td>40.803349</td>\n",
       "      <td>3</td>\n",
       "      <td>8</td>\n",
       "      <td>Friday</td>\n",
       "      <td>Morning</td>\n",
       "      <td>6</td>\n",
       "      <td>2009</td>\n",
       "      <td>1.661683</td>\n",
       "    </tr>\n",
       "    <tr>\n",
       "      <th>4</th>\n",
       "      <td>16.0</td>\n",
       "      <td>2014-08-28 17:47:00+00:00</td>\n",
       "      <td>-73.925023</td>\n",
       "      <td>40.744085</td>\n",
       "      <td>-73.973082</td>\n",
       "      <td>40.761247</td>\n",
       "      <td>5</td>\n",
       "      <td>17</td>\n",
       "      <td>Thursday</td>\n",
       "      <td>Afternoon</td>\n",
       "      <td>8</td>\n",
       "      <td>2014</td>\n",
       "      <td>4.475450</td>\n",
       "    </tr>\n",
       "    <tr>\n",
       "      <th>...</th>\n",
       "      <td>...</td>\n",
       "      <td>...</td>\n",
       "      <td>...</td>\n",
       "      <td>...</td>\n",
       "      <td>...</td>\n",
       "      <td>...</td>\n",
       "      <td>...</td>\n",
       "      <td>...</td>\n",
       "      <td>...</td>\n",
       "      <td>...</td>\n",
       "      <td>...</td>\n",
       "      <td>...</td>\n",
       "      <td>...</td>\n",
       "    </tr>\n",
       "    <tr>\n",
       "      <th>199995</th>\n",
       "      <td>3.0</td>\n",
       "      <td>2012-10-28 10:49:00+00:00</td>\n",
       "      <td>-73.987042</td>\n",
       "      <td>40.739367</td>\n",
       "      <td>-73.986525</td>\n",
       "      <td>40.740297</td>\n",
       "      <td>1</td>\n",
       "      <td>10</td>\n",
       "      <td>Sunday</td>\n",
       "      <td>Morning</td>\n",
       "      <td>10</td>\n",
       "      <td>2012</td>\n",
       "      <td>0.112210</td>\n",
       "    </tr>\n",
       "    <tr>\n",
       "      <th>199996</th>\n",
       "      <td>7.5</td>\n",
       "      <td>2014-03-14 01:09:00+00:00</td>\n",
       "      <td>-73.984722</td>\n",
       "      <td>40.736837</td>\n",
       "      <td>-74.006672</td>\n",
       "      <td>40.739620</td>\n",
       "      <td>1</td>\n",
       "      <td>1</td>\n",
       "      <td>Friday</td>\n",
       "      <td>Night</td>\n",
       "      <td>3</td>\n",
       "      <td>2014</td>\n",
       "      <td>1.875050</td>\n",
       "    </tr>\n",
       "    <tr>\n",
       "      <th>199997</th>\n",
       "      <td>30.9</td>\n",
       "      <td>2009-06-29 00:42:00+00:00</td>\n",
       "      <td>-73.986017</td>\n",
       "      <td>40.756487</td>\n",
       "      <td>-73.858957</td>\n",
       "      <td>40.692588</td>\n",
       "      <td>2</td>\n",
       "      <td>0</td>\n",
       "      <td>Monday</td>\n",
       "      <td>Night</td>\n",
       "      <td>6</td>\n",
       "      <td>2009</td>\n",
       "      <td>12.850319</td>\n",
       "    </tr>\n",
       "    <tr>\n",
       "      <th>199998</th>\n",
       "      <td>14.5</td>\n",
       "      <td>2015-05-20 14:56:25+00:00</td>\n",
       "      <td>-73.997124</td>\n",
       "      <td>40.725452</td>\n",
       "      <td>-73.983215</td>\n",
       "      <td>40.695415</td>\n",
       "      <td>1</td>\n",
       "      <td>14</td>\n",
       "      <td>Wednesday</td>\n",
       "      <td>Afternoon</td>\n",
       "      <td>5</td>\n",
       "      <td>2015</td>\n",
       "      <td>3.539715</td>\n",
       "    </tr>\n",
       "    <tr>\n",
       "      <th>199999</th>\n",
       "      <td>14.1</td>\n",
       "      <td>2010-05-15 04:08:00+00:00</td>\n",
       "      <td>-73.984395</td>\n",
       "      <td>40.720077</td>\n",
       "      <td>-73.985508</td>\n",
       "      <td>40.768793</td>\n",
       "      <td>1</td>\n",
       "      <td>4</td>\n",
       "      <td>Saturday</td>\n",
       "      <td>Night</td>\n",
       "      <td>5</td>\n",
       "      <td>2010</td>\n",
       "      <td>5.417783</td>\n",
       "    </tr>\n",
       "  </tbody>\n",
       "</table>\n",
       "<p>199999 rows × 13 columns</p>\n",
       "</div>"
      ],
      "text/plain": [
       "        fare_amount           pickup_datetime  pickup_longitude  \\\n",
       "0               7.5 2015-05-07 19:52:06+00:00        -73.999817   \n",
       "1               7.7 2009-07-17 20:04:56+00:00        -73.994355   \n",
       "2              12.9 2009-08-24 21:45:00+00:00        -74.005043   \n",
       "3               5.3 2009-06-26 08:22:21+00:00        -73.976124   \n",
       "4              16.0 2014-08-28 17:47:00+00:00        -73.925023   \n",
       "...             ...                       ...               ...   \n",
       "199995          3.0 2012-10-28 10:49:00+00:00        -73.987042   \n",
       "199996          7.5 2014-03-14 01:09:00+00:00        -73.984722   \n",
       "199997         30.9 2009-06-29 00:42:00+00:00        -73.986017   \n",
       "199998         14.5 2015-05-20 14:56:25+00:00        -73.997124   \n",
       "199999         14.1 2010-05-15 04:08:00+00:00        -73.984395   \n",
       "\n",
       "        pickup_latitude  dropoff_longitude  dropoff_latitude  passenger_count  \\\n",
       "0             40.738354         -73.999512         40.723217                1   \n",
       "1             40.728225         -73.994710         40.750325                1   \n",
       "2             40.740770         -73.962565         40.772647                1   \n",
       "3             40.790844         -73.965316         40.803349                3   \n",
       "4             40.744085         -73.973082         40.761247                5   \n",
       "...                 ...                ...               ...              ...   \n",
       "199995        40.739367         -73.986525         40.740297                1   \n",
       "199996        40.736837         -74.006672         40.739620                1   \n",
       "199997        40.756487         -73.858957         40.692588                2   \n",
       "199998        40.725452         -73.983215         40.695415                1   \n",
       "199999        40.720077         -73.985508         40.768793                1   \n",
       "\n",
       "        pickup_timehour        Day   Day Part  pickup_month  pickup_year  \\\n",
       "0                    19   Thursday    Evening             5         2015   \n",
       "1                    20     Friday    Evening             7         2009   \n",
       "2                    21     Monday    Evening             8         2009   \n",
       "3                     8     Friday    Morning             6         2009   \n",
       "4                    17   Thursday  Afternoon             8         2014   \n",
       "...                 ...        ...        ...           ...          ...   \n",
       "199995               10     Sunday    Morning            10         2012   \n",
       "199996                1     Friday      Night             3         2014   \n",
       "199997                0     Monday      Night             6         2009   \n",
       "199998               14  Wednesday  Afternoon             5         2015   \n",
       "199999                4   Saturday      Night             5         2010   \n",
       "\n",
       "        distance_travelled (KM)  \n",
       "0                      1.683323  \n",
       "1                      2.457590  \n",
       "2                      5.036377  \n",
       "3                      1.661683  \n",
       "4                      4.475450  \n",
       "...                         ...  \n",
       "199995                 0.112210  \n",
       "199996                 1.875050  \n",
       "199997                12.850319  \n",
       "199998                 3.539715  \n",
       "199999                 5.417783  \n",
       "\n",
       "[199999 rows x 13 columns]"
      ]
     },
     "execution_count": 13,
     "metadata": {},
     "output_type": "execute_result"
    }
   ],
   "source": [
    "uber_fare_df_1"
   ]
  },
  {
   "cell_type": "markdown",
   "metadata": {
    "papermill": {
     "duration": 0.071193,
     "end_time": "2022-01-13T10:39:06.237816",
     "exception": false,
     "start_time": "2022-01-13T10:39:06.166623",
     "status": "completed"
    },
    "tags": []
   },
   "source": [
    "### Exploratory Data Analysis (EDA)"
   ]
  },
  {
   "cell_type": "code",
   "execution_count": 14,
   "metadata": {
    "execution": {
     "iopub.execute_input": "2022-01-13T10:39:06.387825Z",
     "iopub.status.busy": "2022-01-13T10:39:06.387089Z",
     "iopub.status.idle": "2022-01-13T10:39:06.500213Z",
     "shell.execute_reply": "2022-01-13T10:39:06.499545Z",
     "shell.execute_reply.started": "2022-01-13T09:06:16.464209Z"
    },
    "papermill": {
     "duration": 0.191146,
     "end_time": "2022-01-13T10:39:06.500366",
     "exception": false,
     "start_time": "2022-01-13T10:39:06.309220",
     "status": "completed"
    },
    "tags": []
   },
   "outputs": [
    {
     "data": {
      "text/html": [
       "<div>\n",
       "<style scoped>\n",
       "    .dataframe tbody tr th:only-of-type {\n",
       "        vertical-align: middle;\n",
       "    }\n",
       "\n",
       "    .dataframe tbody tr th {\n",
       "        vertical-align: top;\n",
       "    }\n",
       "\n",
       "    .dataframe thead th {\n",
       "        text-align: right;\n",
       "    }\n",
       "</style>\n",
       "<table border=\"1\" class=\"dataframe\">\n",
       "  <thead>\n",
       "    <tr style=\"text-align: right;\">\n",
       "      <th></th>\n",
       "      <th>fare_amount</th>\n",
       "      <th>pickup_longitude</th>\n",
       "      <th>pickup_latitude</th>\n",
       "      <th>dropoff_longitude</th>\n",
       "      <th>dropoff_latitude</th>\n",
       "      <th>passenger_count</th>\n",
       "      <th>pickup_timehour</th>\n",
       "      <th>pickup_month</th>\n",
       "      <th>pickup_year</th>\n",
       "      <th>distance_travelled (KM)</th>\n",
       "    </tr>\n",
       "  </thead>\n",
       "  <tbody>\n",
       "    <tr>\n",
       "      <th>count</th>\n",
       "      <td>199999.000000</td>\n",
       "      <td>199999.000000</td>\n",
       "      <td>199999.000000</td>\n",
       "      <td>199999.000000</td>\n",
       "      <td>199999.000000</td>\n",
       "      <td>199999.000000</td>\n",
       "      <td>199999.000000</td>\n",
       "      <td>199999.000000</td>\n",
       "      <td>199999.000000</td>\n",
       "      <td>199999.000000</td>\n",
       "    </tr>\n",
       "    <tr>\n",
       "      <th>mean</th>\n",
       "      <td>11.359892</td>\n",
       "      <td>-72.527631</td>\n",
       "      <td>39.935881</td>\n",
       "      <td>-72.525292</td>\n",
       "      <td>39.923890</td>\n",
       "      <td>1.684543</td>\n",
       "      <td>13.491387</td>\n",
       "      <td>6.281791</td>\n",
       "      <td>2011.742434</td>\n",
       "      <td>20.855350</td>\n",
       "    </tr>\n",
       "    <tr>\n",
       "      <th>std</th>\n",
       "      <td>9.901760</td>\n",
       "      <td>11.437815</td>\n",
       "      <td>7.720558</td>\n",
       "      <td>13.117408</td>\n",
       "      <td>6.794829</td>\n",
       "      <td>1.385995</td>\n",
       "      <td>6.515505</td>\n",
       "      <td>3.438933</td>\n",
       "      <td>1.856400</td>\n",
       "      <td>382.964642</td>\n",
       "    </tr>\n",
       "    <tr>\n",
       "      <th>min</th>\n",
       "      <td>-52.000000</td>\n",
       "      <td>-1340.648410</td>\n",
       "      <td>-74.015515</td>\n",
       "      <td>-3356.666300</td>\n",
       "      <td>-881.985513</td>\n",
       "      <td>0.000000</td>\n",
       "      <td>0.000000</td>\n",
       "      <td>1.000000</td>\n",
       "      <td>2009.000000</td>\n",
       "      <td>0.000000</td>\n",
       "    </tr>\n",
       "    <tr>\n",
       "      <th>25%</th>\n",
       "      <td>6.000000</td>\n",
       "      <td>-73.992065</td>\n",
       "      <td>40.734796</td>\n",
       "      <td>-73.991407</td>\n",
       "      <td>40.733823</td>\n",
       "      <td>1.000000</td>\n",
       "      <td>9.000000</td>\n",
       "      <td>3.000000</td>\n",
       "      <td>2010.000000</td>\n",
       "      <td>1.215222</td>\n",
       "    </tr>\n",
       "    <tr>\n",
       "      <th>50%</th>\n",
       "      <td>8.500000</td>\n",
       "      <td>-73.981823</td>\n",
       "      <td>40.752592</td>\n",
       "      <td>-73.980093</td>\n",
       "      <td>40.753042</td>\n",
       "      <td>1.000000</td>\n",
       "      <td>14.000000</td>\n",
       "      <td>6.000000</td>\n",
       "      <td>2012.000000</td>\n",
       "      <td>2.120992</td>\n",
       "    </tr>\n",
       "    <tr>\n",
       "      <th>75%</th>\n",
       "      <td>12.500000</td>\n",
       "      <td>-73.967154</td>\n",
       "      <td>40.767158</td>\n",
       "      <td>-73.963658</td>\n",
       "      <td>40.768001</td>\n",
       "      <td>2.000000</td>\n",
       "      <td>19.000000</td>\n",
       "      <td>9.000000</td>\n",
       "      <td>2013.000000</td>\n",
       "      <td>3.875169</td>\n",
       "    </tr>\n",
       "    <tr>\n",
       "      <th>max</th>\n",
       "      <td>499.000000</td>\n",
       "      <td>57.418457</td>\n",
       "      <td>1644.421482</td>\n",
       "      <td>1153.572603</td>\n",
       "      <td>872.697628</td>\n",
       "      <td>208.000000</td>\n",
       "      <td>23.000000</td>\n",
       "      <td>12.000000</td>\n",
       "      <td>2015.000000</td>\n",
       "      <td>16409.239135</td>\n",
       "    </tr>\n",
       "  </tbody>\n",
       "</table>\n",
       "</div>"
      ],
      "text/plain": [
       "         fare_amount  pickup_longitude  pickup_latitude  dropoff_longitude  \\\n",
       "count  199999.000000     199999.000000    199999.000000      199999.000000   \n",
       "mean       11.359892        -72.527631        39.935881         -72.525292   \n",
       "std         9.901760         11.437815         7.720558          13.117408   \n",
       "min       -52.000000      -1340.648410       -74.015515       -3356.666300   \n",
       "25%         6.000000        -73.992065        40.734796         -73.991407   \n",
       "50%         8.500000        -73.981823        40.752592         -73.980093   \n",
       "75%        12.500000        -73.967154        40.767158         -73.963658   \n",
       "max       499.000000         57.418457      1644.421482        1153.572603   \n",
       "\n",
       "       dropoff_latitude  passenger_count  pickup_timehour   pickup_month  \\\n",
       "count     199999.000000    199999.000000    199999.000000  199999.000000   \n",
       "mean          39.923890         1.684543        13.491387       6.281791   \n",
       "std            6.794829         1.385995         6.515505       3.438933   \n",
       "min         -881.985513         0.000000         0.000000       1.000000   \n",
       "25%           40.733823         1.000000         9.000000       3.000000   \n",
       "50%           40.753042         1.000000        14.000000       6.000000   \n",
       "75%           40.768001         2.000000        19.000000       9.000000   \n",
       "max          872.697628       208.000000        23.000000      12.000000   \n",
       "\n",
       "         pickup_year  distance_travelled (KM)  \n",
       "count  199999.000000            199999.000000  \n",
       "mean     2011.742434                20.855350  \n",
       "std         1.856400               382.964642  \n",
       "min      2009.000000                 0.000000  \n",
       "25%      2010.000000                 1.215222  \n",
       "50%      2012.000000                 2.120992  \n",
       "75%      2013.000000                 3.875169  \n",
       "max      2015.000000             16409.239135  "
      ]
     },
     "execution_count": 14,
     "metadata": {},
     "output_type": "execute_result"
    }
   ],
   "source": [
    "uber_fare_df_1.describe()"
   ]
  },
  {
   "cell_type": "code",
   "execution_count": 15,
   "metadata": {
    "execution": {
     "iopub.execute_input": "2022-01-13T10:39:06.648624Z",
     "iopub.status.busy": "2022-01-13T10:39:06.647937Z",
     "iopub.status.idle": "2022-01-13T10:39:06.649488Z",
     "shell.execute_reply": "2022-01-13T10:39:06.650044Z",
     "shell.execute_reply.started": "2022-01-13T09:06:16.560957Z"
    },
    "papermill": {
     "duration": 0.077505,
     "end_time": "2022-01-13T10:39:06.650221",
     "exception": false,
     "start_time": "2022-01-13T10:39:06.572716",
     "status": "completed"
    },
    "tags": []
   },
   "outputs": [],
   "source": [
    "#here we can see some data are not real in case ---------------- Final decision\n",
    "\n",
    "### fare cannot be negative (put the data in test )\n",
    "\n",
    "### passenger count is not zero (first remove it and study again using that)\n",
    "\n",
    "#latitude and longitude should not be zero (because location is in middle of Atlantic Ocean, so need to drop all the values )\n"
   ]
  },
  {
   "cell_type": "code",
   "execution_count": 16,
   "metadata": {
    "execution": {
     "iopub.execute_input": "2022-01-13T10:39:06.797555Z",
     "iopub.status.busy": "2022-01-13T10:39:06.796946Z",
     "iopub.status.idle": "2022-01-13T10:39:06.806524Z",
     "shell.execute_reply": "2022-01-13T10:39:06.805928Z",
     "shell.execute_reply.started": "2022-01-13T09:06:16.56624Z"
    },
    "papermill": {
     "duration": 0.083474,
     "end_time": "2022-01-13T10:39:06.806662",
     "exception": false,
     "start_time": "2022-01-13T10:39:06.723188",
     "status": "completed"
    },
    "tags": []
   },
   "outputs": [],
   "source": [
    "outlier_data= uber_fare_df_1[(uber_fare_df_1['fare_amount']<=0)|(uber_fare_df_1['passenger_count']==0)|(uber_fare_df_1['pickup_latitude']==0.000000)]"
   ]
  },
  {
   "cell_type": "code",
   "execution_count": 17,
   "metadata": {
    "execution": {
     "iopub.execute_input": "2022-01-13T10:39:06.957931Z",
     "iopub.status.busy": "2022-01-13T10:39:06.957253Z",
     "iopub.status.idle": "2022-01-13T10:39:06.979391Z",
     "shell.execute_reply": "2022-01-13T10:39:06.979894Z",
     "shell.execute_reply.started": "2022-01-13T09:06:16.580032Z"
    },
    "papermill": {
     "duration": 0.101604,
     "end_time": "2022-01-13T10:39:06.980071",
     "exception": false,
     "start_time": "2022-01-13T10:39:06.878467",
     "status": "completed"
    },
    "tags": []
   },
   "outputs": [
    {
     "data": {
      "text/html": [
       "<div>\n",
       "<style scoped>\n",
       "    .dataframe tbody tr th:only-of-type {\n",
       "        vertical-align: middle;\n",
       "    }\n",
       "\n",
       "    .dataframe tbody tr th {\n",
       "        vertical-align: top;\n",
       "    }\n",
       "\n",
       "    .dataframe thead th {\n",
       "        text-align: right;\n",
       "    }\n",
       "</style>\n",
       "<table border=\"1\" class=\"dataframe\">\n",
       "  <thead>\n",
       "    <tr style=\"text-align: right;\">\n",
       "      <th></th>\n",
       "      <th>fare_amount</th>\n",
       "      <th>pickup_datetime</th>\n",
       "      <th>pickup_longitude</th>\n",
       "      <th>pickup_latitude</th>\n",
       "      <th>dropoff_longitude</th>\n",
       "      <th>dropoff_latitude</th>\n",
       "      <th>passenger_count</th>\n",
       "      <th>pickup_timehour</th>\n",
       "      <th>Day</th>\n",
       "      <th>Day Part</th>\n",
       "      <th>pickup_month</th>\n",
       "      <th>pickup_year</th>\n",
       "      <th>distance_travelled (KM)</th>\n",
       "    </tr>\n",
       "  </thead>\n",
       "  <tbody>\n",
       "    <tr>\n",
       "      <th>20744</th>\n",
       "      <td>0.00</td>\n",
       "      <td>2015-04-22 23:25:07+00:00</td>\n",
       "      <td>-73.658897</td>\n",
       "      <td>40.805199</td>\n",
       "      <td>-73.658897</td>\n",
       "      <td>40.805199</td>\n",
       "      <td>1</td>\n",
       "      <td>23</td>\n",
       "      <td>Wednesday</td>\n",
       "      <td>Night</td>\n",
       "      <td>4</td>\n",
       "      <td>2015</td>\n",
       "      <td>0.000000</td>\n",
       "    </tr>\n",
       "    <tr>\n",
       "      <th>22182</th>\n",
       "      <td>0.00</td>\n",
       "      <td>2010-03-20 02:59:51+00:00</td>\n",
       "      <td>-73.994366</td>\n",
       "      <td>40.755395</td>\n",
       "      <td>-73.998718</td>\n",
       "      <td>40.854853</td>\n",
       "      <td>2</td>\n",
       "      <td>2</td>\n",
       "      <td>Saturday</td>\n",
       "      <td>Night</td>\n",
       "      <td>3</td>\n",
       "      <td>2010</td>\n",
       "      <td>11.065289</td>\n",
       "    </tr>\n",
       "    <tr>\n",
       "      <th>63395</th>\n",
       "      <td>-5.00</td>\n",
       "      <td>2015-03-03 23:07:41+00:00</td>\n",
       "      <td>-73.992249</td>\n",
       "      <td>40.748936</td>\n",
       "      <td>-73.988518</td>\n",
       "      <td>40.748180</td>\n",
       "      <td>1</td>\n",
       "      <td>23</td>\n",
       "      <td>Tuesday</td>\n",
       "      <td>Night</td>\n",
       "      <td>3</td>\n",
       "      <td>2015</td>\n",
       "      <td>0.325306</td>\n",
       "    </tr>\n",
       "    <tr>\n",
       "      <th>71246</th>\n",
       "      <td>-3.30</td>\n",
       "      <td>2010-02-11 21:47:10+00:00</td>\n",
       "      <td>-73.952725</td>\n",
       "      <td>40.768235</td>\n",
       "      <td>-73.949928</td>\n",
       "      <td>40.772208</td>\n",
       "      <td>2</td>\n",
       "      <td>21</td>\n",
       "      <td>Thursday</td>\n",
       "      <td>Evening</td>\n",
       "      <td>2</td>\n",
       "      <td>2010</td>\n",
       "      <td>0.500646</td>\n",
       "    </tr>\n",
       "    <tr>\n",
       "      <th>79903</th>\n",
       "      <td>-3.50</td>\n",
       "      <td>2015-05-01 14:43:02+00:00</td>\n",
       "      <td>-73.982430</td>\n",
       "      <td>40.775024</td>\n",
       "      <td>-73.981750</td>\n",
       "      <td>40.778439</td>\n",
       "      <td>1</td>\n",
       "      <td>14</td>\n",
       "      <td>Friday</td>\n",
       "      <td>Afternoon</td>\n",
       "      <td>5</td>\n",
       "      <td>2015</td>\n",
       "      <td>0.383918</td>\n",
       "    </tr>\n",
       "    <tr>\n",
       "      <th>87467</th>\n",
       "      <td>0.00</td>\n",
       "      <td>2015-01-04 03:51:13+00:00</td>\n",
       "      <td>-73.969475</td>\n",
       "      <td>40.807503</td>\n",
       "      <td>0.000000</td>\n",
       "      <td>0.000000</td>\n",
       "      <td>2</td>\n",
       "      <td>3</td>\n",
       "      <td>Sunday</td>\n",
       "      <td>Night</td>\n",
       "      <td>1</td>\n",
       "      <td>2015</td>\n",
       "      <td>8665.983754</td>\n",
       "    </tr>\n",
       "    <tr>\n",
       "      <th>89322</th>\n",
       "      <td>-49.57</td>\n",
       "      <td>2010-03-09 08:26:10+00:00</td>\n",
       "      <td>-73.972772</td>\n",
       "      <td>40.785657</td>\n",
       "      <td>-73.972867</td>\n",
       "      <td>40.785500</td>\n",
       "      <td>5</td>\n",
       "      <td>8</td>\n",
       "      <td>Tuesday</td>\n",
       "      <td>Morning</td>\n",
       "      <td>3</td>\n",
       "      <td>2010</td>\n",
       "      <td>0.019203</td>\n",
       "    </tr>\n",
       "    <tr>\n",
       "      <th>92063</th>\n",
       "      <td>-23.70</td>\n",
       "      <td>2010-03-12 08:49:10+00:00</td>\n",
       "      <td>-73.952740</td>\n",
       "      <td>40.768233</td>\n",
       "      <td>-74.007028</td>\n",
       "      <td>40.707338</td>\n",
       "      <td>3</td>\n",
       "      <td>8</td>\n",
       "      <td>Friday</td>\n",
       "      <td>Morning</td>\n",
       "      <td>3</td>\n",
       "      <td>2010</td>\n",
       "      <td>8.171296</td>\n",
       "    </tr>\n",
       "    <tr>\n",
       "      <th>98875</th>\n",
       "      <td>-52.00</td>\n",
       "      <td>2015-03-20 21:31:14+00:00</td>\n",
       "      <td>-74.000359</td>\n",
       "      <td>40.728729</td>\n",
       "      <td>-74.005699</td>\n",
       "      <td>40.728680</td>\n",
       "      <td>5</td>\n",
       "      <td>21</td>\n",
       "      <td>Friday</td>\n",
       "      <td>Evening</td>\n",
       "      <td>3</td>\n",
       "      <td>2015</td>\n",
       "      <td>0.450054</td>\n",
       "    </tr>\n",
       "    <tr>\n",
       "      <th>104080</th>\n",
       "      <td>-7.30</td>\n",
       "      <td>2010-03-09 20:25:10+00:00</td>\n",
       "      <td>-73.952623</td>\n",
       "      <td>40.766942</td>\n",
       "      <td>-73.953787</td>\n",
       "      <td>40.784882</td>\n",
       "      <td>1</td>\n",
       "      <td>20</td>\n",
       "      <td>Tuesday</td>\n",
       "      <td>Evening</td>\n",
       "      <td>3</td>\n",
       "      <td>2010</td>\n",
       "      <td>1.997243</td>\n",
       "    </tr>\n",
       "    <tr>\n",
       "      <th>111589</th>\n",
       "      <td>-52.00</td>\n",
       "      <td>2015-02-23 19:26:44+00:00</td>\n",
       "      <td>-73.984665</td>\n",
       "      <td>40.759026</td>\n",
       "      <td>0.000000</td>\n",
       "      <td>0.000000</td>\n",
       "      <td>5</td>\n",
       "      <td>19</td>\n",
       "      <td>Monday</td>\n",
       "      <td>Evening</td>\n",
       "      <td>2</td>\n",
       "      <td>2015</td>\n",
       "      <td>8666.246939</td>\n",
       "    </tr>\n",
       "    <tr>\n",
       "      <th>139272</th>\n",
       "      <td>-6.90</td>\n",
       "      <td>2010-02-23 18:52:10+00:00</td>\n",
       "      <td>-73.988727</td>\n",
       "      <td>40.736445</td>\n",
       "      <td>-73.977622</td>\n",
       "      <td>40.750487</td>\n",
       "      <td>1</td>\n",
       "      <td>18</td>\n",
       "      <td>Tuesday</td>\n",
       "      <td>Evening</td>\n",
       "      <td>2</td>\n",
       "      <td>2010</td>\n",
       "      <td>1.820225</td>\n",
       "    </tr>\n",
       "    <tr>\n",
       "      <th>148803</th>\n",
       "      <td>-5.70</td>\n",
       "      <td>2010-02-12 10:50:10+00:00</td>\n",
       "      <td>-73.977300</td>\n",
       "      <td>40.742783</td>\n",
       "      <td>-73.988837</td>\n",
       "      <td>40.747465</td>\n",
       "      <td>3</td>\n",
       "      <td>10</td>\n",
       "      <td>Friday</td>\n",
       "      <td>Morning</td>\n",
       "      <td>2</td>\n",
       "      <td>2010</td>\n",
       "      <td>1.102572</td>\n",
       "    </tr>\n",
       "    <tr>\n",
       "      <th>150301</th>\n",
       "      <td>-3.00</td>\n",
       "      <td>2015-06-18 07:41:12+00:00</td>\n",
       "      <td>-74.004646</td>\n",
       "      <td>40.707355</td>\n",
       "      <td>-74.004013</td>\n",
       "      <td>40.707699</td>\n",
       "      <td>1</td>\n",
       "      <td>7</td>\n",
       "      <td>Thursday</td>\n",
       "      <td>Morning</td>\n",
       "      <td>6</td>\n",
       "      <td>2015</td>\n",
       "      <td>0.065623</td>\n",
       "    </tr>\n",
       "    <tr>\n",
       "      <th>151681</th>\n",
       "      <td>-10.90</td>\n",
       "      <td>2010-02-17 05:46:10+00:00</td>\n",
       "      <td>-73.964257</td>\n",
       "      <td>40.760630</td>\n",
       "      <td>-73.994222</td>\n",
       "      <td>40.761533</td>\n",
       "      <td>1</td>\n",
       "      <td>5</td>\n",
       "      <td>Wednesday</td>\n",
       "      <td>Morning</td>\n",
       "      <td>2</td>\n",
       "      <td>2010</td>\n",
       "      <td>2.525749</td>\n",
       "    </tr>\n",
       "    <tr>\n",
       "      <th>156738</th>\n",
       "      <td>0.00</td>\n",
       "      <td>2015-02-17 08:48:08+00:00</td>\n",
       "      <td>-73.937714</td>\n",
       "      <td>40.758541</td>\n",
       "      <td>-73.937721</td>\n",
       "      <td>40.758541</td>\n",
       "      <td>1</td>\n",
       "      <td>8</td>\n",
       "      <td>Tuesday</td>\n",
       "      <td>Morning</td>\n",
       "      <td>2</td>\n",
       "      <td>2015</td>\n",
       "      <td>0.000643</td>\n",
       "    </tr>\n",
       "    <tr>\n",
       "      <th>157412</th>\n",
       "      <td>-3.50</td>\n",
       "      <td>2015-05-06 03:47:38+00:00</td>\n",
       "      <td>-73.986084</td>\n",
       "      <td>40.762146</td>\n",
       "      <td>-73.980476</td>\n",
       "      <td>40.759823</td>\n",
       "      <td>1</td>\n",
       "      <td>3</td>\n",
       "      <td>Wednesday</td>\n",
       "      <td>Night</td>\n",
       "      <td>5</td>\n",
       "      <td>2015</td>\n",
       "      <td>0.538322</td>\n",
       "    </tr>\n",
       "    <tr>\n",
       "      <th>164056</th>\n",
       "      <td>-50.50</td>\n",
       "      <td>2010-03-16 15:27:10+00:00</td>\n",
       "      <td>-73.784868</td>\n",
       "      <td>40.648677</td>\n",
       "      <td>-73.976975</td>\n",
       "      <td>40.763522</td>\n",
       "      <td>3</td>\n",
       "      <td>15</td>\n",
       "      <td>Tuesday</td>\n",
       "      <td>Afternoon</td>\n",
       "      <td>3</td>\n",
       "      <td>2010</td>\n",
       "      <td>20.622782</td>\n",
       "    </tr>\n",
       "    <tr>\n",
       "      <th>179111</th>\n",
       "      <td>-3.50</td>\n",
       "      <td>2015-02-12 22:53:28+00:00</td>\n",
       "      <td>-73.989059</td>\n",
       "      <td>40.760181</td>\n",
       "      <td>-73.986649</td>\n",
       "      <td>40.761829</td>\n",
       "      <td>1</td>\n",
       "      <td>22</td>\n",
       "      <td>Thursday</td>\n",
       "      <td>Night</td>\n",
       "      <td>2</td>\n",
       "      <td>2015</td>\n",
       "      <td>0.273512</td>\n",
       "    </tr>\n",
       "    <tr>\n",
       "      <th>180444</th>\n",
       "      <td>-3.00</td>\n",
       "      <td>2015-05-10 04:26:03+00:00</td>\n",
       "      <td>-73.983727</td>\n",
       "      <td>40.725910</td>\n",
       "      <td>-73.986099</td>\n",
       "      <td>40.722450</td>\n",
       "      <td>2</td>\n",
       "      <td>4</td>\n",
       "      <td>Sunday</td>\n",
       "      <td>Night</td>\n",
       "      <td>5</td>\n",
       "      <td>2015</td>\n",
       "      <td>0.433584</td>\n",
       "    </tr>\n",
       "    <tr>\n",
       "      <th>190925</th>\n",
       "      <td>-5.50</td>\n",
       "      <td>2015-05-01 23:25:34+00:00</td>\n",
       "      <td>-73.988701</td>\n",
       "      <td>40.742649</td>\n",
       "      <td>-73.985924</td>\n",
       "      <td>40.735001</td>\n",
       "      <td>1</td>\n",
       "      <td>23</td>\n",
       "      <td>Friday</td>\n",
       "      <td>Night</td>\n",
       "      <td>5</td>\n",
       "      <td>2015</td>\n",
       "      <td>0.882069</td>\n",
       "    </tr>\n",
       "    <tr>\n",
       "      <th>197172</th>\n",
       "      <td>0.00</td>\n",
       "      <td>2015-02-13 07:35:32+00:00</td>\n",
       "      <td>0.000000</td>\n",
       "      <td>0.000000</td>\n",
       "      <td>0.000000</td>\n",
       "      <td>0.000000</td>\n",
       "      <td>5</td>\n",
       "      <td>7</td>\n",
       "      <td>Friday</td>\n",
       "      <td>Morning</td>\n",
       "      <td>2</td>\n",
       "      <td>2015</td>\n",
       "      <td>0.000000</td>\n",
       "    </tr>\n",
       "  </tbody>\n",
       "</table>\n",
       "</div>"
      ],
      "text/plain": [
       "        fare_amount           pickup_datetime  pickup_longitude  \\\n",
       "20744          0.00 2015-04-22 23:25:07+00:00        -73.658897   \n",
       "22182          0.00 2010-03-20 02:59:51+00:00        -73.994366   \n",
       "63395         -5.00 2015-03-03 23:07:41+00:00        -73.992249   \n",
       "71246         -3.30 2010-02-11 21:47:10+00:00        -73.952725   \n",
       "79903         -3.50 2015-05-01 14:43:02+00:00        -73.982430   \n",
       "87467          0.00 2015-01-04 03:51:13+00:00        -73.969475   \n",
       "89322        -49.57 2010-03-09 08:26:10+00:00        -73.972772   \n",
       "92063        -23.70 2010-03-12 08:49:10+00:00        -73.952740   \n",
       "98875        -52.00 2015-03-20 21:31:14+00:00        -74.000359   \n",
       "104080        -7.30 2010-03-09 20:25:10+00:00        -73.952623   \n",
       "111589       -52.00 2015-02-23 19:26:44+00:00        -73.984665   \n",
       "139272        -6.90 2010-02-23 18:52:10+00:00        -73.988727   \n",
       "148803        -5.70 2010-02-12 10:50:10+00:00        -73.977300   \n",
       "150301        -3.00 2015-06-18 07:41:12+00:00        -74.004646   \n",
       "151681       -10.90 2010-02-17 05:46:10+00:00        -73.964257   \n",
       "156738         0.00 2015-02-17 08:48:08+00:00        -73.937714   \n",
       "157412        -3.50 2015-05-06 03:47:38+00:00        -73.986084   \n",
       "164056       -50.50 2010-03-16 15:27:10+00:00        -73.784868   \n",
       "179111        -3.50 2015-02-12 22:53:28+00:00        -73.989059   \n",
       "180444        -3.00 2015-05-10 04:26:03+00:00        -73.983727   \n",
       "190925        -5.50 2015-05-01 23:25:34+00:00        -73.988701   \n",
       "197172         0.00 2015-02-13 07:35:32+00:00          0.000000   \n",
       "\n",
       "        pickup_latitude  dropoff_longitude  dropoff_latitude  passenger_count  \\\n",
       "20744         40.805199         -73.658897         40.805199                1   \n",
       "22182         40.755395         -73.998718         40.854853                2   \n",
       "63395         40.748936         -73.988518         40.748180                1   \n",
       "71246         40.768235         -73.949928         40.772208                2   \n",
       "79903         40.775024         -73.981750         40.778439                1   \n",
       "87467         40.807503           0.000000          0.000000                2   \n",
       "89322         40.785657         -73.972867         40.785500                5   \n",
       "92063         40.768233         -74.007028         40.707338                3   \n",
       "98875         40.728729         -74.005699         40.728680                5   \n",
       "104080        40.766942         -73.953787         40.784882                1   \n",
       "111589        40.759026           0.000000          0.000000                5   \n",
       "139272        40.736445         -73.977622         40.750487                1   \n",
       "148803        40.742783         -73.988837         40.747465                3   \n",
       "150301        40.707355         -74.004013         40.707699                1   \n",
       "151681        40.760630         -73.994222         40.761533                1   \n",
       "156738        40.758541         -73.937721         40.758541                1   \n",
       "157412        40.762146         -73.980476         40.759823                1   \n",
       "164056        40.648677         -73.976975         40.763522                3   \n",
       "179111        40.760181         -73.986649         40.761829                1   \n",
       "180444        40.725910         -73.986099         40.722450                2   \n",
       "190925        40.742649         -73.985924         40.735001                1   \n",
       "197172         0.000000           0.000000          0.000000                5   \n",
       "\n",
       "        pickup_timehour        Day   Day Part  pickup_month  pickup_year  \\\n",
       "20744                23  Wednesday      Night             4         2015   \n",
       "22182                 2   Saturday      Night             3         2010   \n",
       "63395                23    Tuesday      Night             3         2015   \n",
       "71246                21   Thursday    Evening             2         2010   \n",
       "79903                14     Friday  Afternoon             5         2015   \n",
       "87467                 3     Sunday      Night             1         2015   \n",
       "89322                 8    Tuesday    Morning             3         2010   \n",
       "92063                 8     Friday    Morning             3         2010   \n",
       "98875                21     Friday    Evening             3         2015   \n",
       "104080               20    Tuesday    Evening             3         2010   \n",
       "111589               19     Monday    Evening             2         2015   \n",
       "139272               18    Tuesday    Evening             2         2010   \n",
       "148803               10     Friday    Morning             2         2010   \n",
       "150301                7   Thursday    Morning             6         2015   \n",
       "151681                5  Wednesday    Morning             2         2010   \n",
       "156738                8    Tuesday    Morning             2         2015   \n",
       "157412                3  Wednesday      Night             5         2015   \n",
       "164056               15    Tuesday  Afternoon             3         2010   \n",
       "179111               22   Thursday      Night             2         2015   \n",
       "180444                4     Sunday      Night             5         2015   \n",
       "190925               23     Friday      Night             5         2015   \n",
       "197172                7     Friday    Morning             2         2015   \n",
       "\n",
       "        distance_travelled (KM)  \n",
       "20744                  0.000000  \n",
       "22182                 11.065289  \n",
       "63395                  0.325306  \n",
       "71246                  0.500646  \n",
       "79903                  0.383918  \n",
       "87467               8665.983754  \n",
       "89322                  0.019203  \n",
       "92063                  8.171296  \n",
       "98875                  0.450054  \n",
       "104080                 1.997243  \n",
       "111589              8666.246939  \n",
       "139272                 1.820225  \n",
       "148803                 1.102572  \n",
       "150301                 0.065623  \n",
       "151681                 2.525749  \n",
       "156738                 0.000643  \n",
       "157412                 0.538322  \n",
       "164056                20.622782  \n",
       "179111                 0.273512  \n",
       "180444                 0.433584  \n",
       "190925                 0.882069  \n",
       "197172                 0.000000  "
      ]
     },
     "execution_count": 17,
     "metadata": {},
     "output_type": "execute_result"
    }
   ],
   "source": [
    "# checking the fare amount =0\n",
    "outlier_data[outlier_data['fare_amount']<=0]"
   ]
  },
  {
   "cell_type": "code",
   "execution_count": 18,
   "metadata": {
    "execution": {
     "iopub.execute_input": "2022-01-13T10:39:07.129923Z",
     "iopub.status.busy": "2022-01-13T10:39:07.129174Z",
     "iopub.status.idle": "2022-01-13T10:39:07.157952Z",
     "shell.execute_reply": "2022-01-13T10:39:07.158442Z",
     "shell.execute_reply.started": "2022-01-13T09:06:16.608559Z"
    },
    "papermill": {
     "duration": 0.10491,
     "end_time": "2022-01-13T10:39:07.158609",
     "exception": false,
     "start_time": "2022-01-13T10:39:07.053699",
     "status": "completed"
    },
    "tags": []
   },
   "outputs": [
    {
     "data": {
      "text/html": [
       "<div>\n",
       "<style scoped>\n",
       "    .dataframe tbody tr th:only-of-type {\n",
       "        vertical-align: middle;\n",
       "    }\n",
       "\n",
       "    .dataframe tbody tr th {\n",
       "        vertical-align: top;\n",
       "    }\n",
       "\n",
       "    .dataframe thead th {\n",
       "        text-align: right;\n",
       "    }\n",
       "</style>\n",
       "<table border=\"1\" class=\"dataframe\">\n",
       "  <thead>\n",
       "    <tr style=\"text-align: right;\">\n",
       "      <th></th>\n",
       "      <th>fare_amount</th>\n",
       "      <th>pickup_datetime</th>\n",
       "      <th>pickup_longitude</th>\n",
       "      <th>pickup_latitude</th>\n",
       "      <th>dropoff_longitude</th>\n",
       "      <th>dropoff_latitude</th>\n",
       "      <th>passenger_count</th>\n",
       "      <th>pickup_timehour</th>\n",
       "      <th>Day</th>\n",
       "      <th>Day Part</th>\n",
       "      <th>pickup_month</th>\n",
       "      <th>pickup_year</th>\n",
       "      <th>distance_travelled (KM)</th>\n",
       "    </tr>\n",
       "  </thead>\n",
       "  <tbody>\n",
       "    <tr>\n",
       "      <th>7</th>\n",
       "      <td>2.5</td>\n",
       "      <td>2012-12-11 13:52:00+00:00</td>\n",
       "      <td>0.0</td>\n",
       "      <td>0.0</td>\n",
       "      <td>0.0</td>\n",
       "      <td>0.0</td>\n",
       "      <td>1</td>\n",
       "      <td>13</td>\n",
       "      <td>Tuesday</td>\n",
       "      <td>Afternoon</td>\n",
       "      <td>12</td>\n",
       "      <td>2012</td>\n",
       "      <td>0.0</td>\n",
       "    </tr>\n",
       "    <tr>\n",
       "      <th>11</th>\n",
       "      <td>8.5</td>\n",
       "      <td>2011-05-23 22:15:00+00:00</td>\n",
       "      <td>0.0</td>\n",
       "      <td>0.0</td>\n",
       "      <td>0.0</td>\n",
       "      <td>0.0</td>\n",
       "      <td>1</td>\n",
       "      <td>22</td>\n",
       "      <td>Monday</td>\n",
       "      <td>Night</td>\n",
       "      <td>5</td>\n",
       "      <td>2011</td>\n",
       "      <td>0.0</td>\n",
       "    </tr>\n",
       "    <tr>\n",
       "      <th>65</th>\n",
       "      <td>6.0</td>\n",
       "      <td>2014-05-05 19:27:00+00:00</td>\n",
       "      <td>0.0</td>\n",
       "      <td>0.0</td>\n",
       "      <td>0.0</td>\n",
       "      <td>0.0</td>\n",
       "      <td>1</td>\n",
       "      <td>19</td>\n",
       "      <td>Monday</td>\n",
       "      <td>Evening</td>\n",
       "      <td>5</td>\n",
       "      <td>2014</td>\n",
       "      <td>0.0</td>\n",
       "    </tr>\n",
       "    <tr>\n",
       "      <th>92</th>\n",
       "      <td>6.1</td>\n",
       "      <td>2011-12-02 14:07:00+00:00</td>\n",
       "      <td>0.0</td>\n",
       "      <td>0.0</td>\n",
       "      <td>0.0</td>\n",
       "      <td>0.0</td>\n",
       "      <td>1</td>\n",
       "      <td>14</td>\n",
       "      <td>Friday</td>\n",
       "      <td>Afternoon</td>\n",
       "      <td>12</td>\n",
       "      <td>2011</td>\n",
       "      <td>0.0</td>\n",
       "    </tr>\n",
       "    <tr>\n",
       "      <th>120</th>\n",
       "      <td>6.5</td>\n",
       "      <td>2010-08-20 19:39:48+00:00</td>\n",
       "      <td>0.0</td>\n",
       "      <td>0.0</td>\n",
       "      <td>0.0</td>\n",
       "      <td>0.0</td>\n",
       "      <td>1</td>\n",
       "      <td>19</td>\n",
       "      <td>Friday</td>\n",
       "      <td>Evening</td>\n",
       "      <td>8</td>\n",
       "      <td>2010</td>\n",
       "      <td>0.0</td>\n",
       "    </tr>\n",
       "    <tr>\n",
       "      <th>...</th>\n",
       "      <td>...</td>\n",
       "      <td>...</td>\n",
       "      <td>...</td>\n",
       "      <td>...</td>\n",
       "      <td>...</td>\n",
       "      <td>...</td>\n",
       "      <td>...</td>\n",
       "      <td>...</td>\n",
       "      <td>...</td>\n",
       "      <td>...</td>\n",
       "      <td>...</td>\n",
       "      <td>...</td>\n",
       "      <td>...</td>\n",
       "    </tr>\n",
       "    <tr>\n",
       "      <th>199718</th>\n",
       "      <td>4.9</td>\n",
       "      <td>2011-08-19 07:16:00+00:00</td>\n",
       "      <td>0.0</td>\n",
       "      <td>0.0</td>\n",
       "      <td>0.0</td>\n",
       "      <td>0.0</td>\n",
       "      <td>1</td>\n",
       "      <td>7</td>\n",
       "      <td>Friday</td>\n",
       "      <td>Morning</td>\n",
       "      <td>8</td>\n",
       "      <td>2011</td>\n",
       "      <td>0.0</td>\n",
       "    </tr>\n",
       "    <tr>\n",
       "      <th>199724</th>\n",
       "      <td>7.5</td>\n",
       "      <td>2013-10-11 11:25:41+00:00</td>\n",
       "      <td>0.0</td>\n",
       "      <td>0.0</td>\n",
       "      <td>0.0</td>\n",
       "      <td>0.0</td>\n",
       "      <td>1</td>\n",
       "      <td>11</td>\n",
       "      <td>Friday</td>\n",
       "      <td>Morning</td>\n",
       "      <td>10</td>\n",
       "      <td>2013</td>\n",
       "      <td>0.0</td>\n",
       "    </tr>\n",
       "    <tr>\n",
       "      <th>199880</th>\n",
       "      <td>6.5</td>\n",
       "      <td>2014-02-22 06:45:46+00:00</td>\n",
       "      <td>0.0</td>\n",
       "      <td>0.0</td>\n",
       "      <td>0.0</td>\n",
       "      <td>0.0</td>\n",
       "      <td>1</td>\n",
       "      <td>6</td>\n",
       "      <td>Saturday</td>\n",
       "      <td>Morning</td>\n",
       "      <td>2</td>\n",
       "      <td>2014</td>\n",
       "      <td>0.0</td>\n",
       "    </tr>\n",
       "    <tr>\n",
       "      <th>199883</th>\n",
       "      <td>12.5</td>\n",
       "      <td>2012-09-10 17:39:00+00:00</td>\n",
       "      <td>0.0</td>\n",
       "      <td>0.0</td>\n",
       "      <td>0.0</td>\n",
       "      <td>0.0</td>\n",
       "      <td>2</td>\n",
       "      <td>17</td>\n",
       "      <td>Monday</td>\n",
       "      <td>Afternoon</td>\n",
       "      <td>9</td>\n",
       "      <td>2012</td>\n",
       "      <td>0.0</td>\n",
       "    </tr>\n",
       "    <tr>\n",
       "      <th>199963</th>\n",
       "      <td>39.0</td>\n",
       "      <td>2012-09-22 07:46:01+00:00</td>\n",
       "      <td>0.0</td>\n",
       "      <td>0.0</td>\n",
       "      <td>0.0</td>\n",
       "      <td>0.0</td>\n",
       "      <td>1</td>\n",
       "      <td>7</td>\n",
       "      <td>Saturday</td>\n",
       "      <td>Morning</td>\n",
       "      <td>9</td>\n",
       "      <td>2012</td>\n",
       "      <td>0.0</td>\n",
       "    </tr>\n",
       "  </tbody>\n",
       "</table>\n",
       "<p>3779 rows × 13 columns</p>\n",
       "</div>"
      ],
      "text/plain": [
       "        fare_amount           pickup_datetime  pickup_longitude  \\\n",
       "7               2.5 2012-12-11 13:52:00+00:00               0.0   \n",
       "11              8.5 2011-05-23 22:15:00+00:00               0.0   \n",
       "65              6.0 2014-05-05 19:27:00+00:00               0.0   \n",
       "92              6.1 2011-12-02 14:07:00+00:00               0.0   \n",
       "120             6.5 2010-08-20 19:39:48+00:00               0.0   \n",
       "...             ...                       ...               ...   \n",
       "199718          4.9 2011-08-19 07:16:00+00:00               0.0   \n",
       "199724          7.5 2013-10-11 11:25:41+00:00               0.0   \n",
       "199880          6.5 2014-02-22 06:45:46+00:00               0.0   \n",
       "199883         12.5 2012-09-10 17:39:00+00:00               0.0   \n",
       "199963         39.0 2012-09-22 07:46:01+00:00               0.0   \n",
       "\n",
       "        pickup_latitude  dropoff_longitude  dropoff_latitude  passenger_count  \\\n",
       "7                   0.0                0.0               0.0                1   \n",
       "11                  0.0                0.0               0.0                1   \n",
       "65                  0.0                0.0               0.0                1   \n",
       "92                  0.0                0.0               0.0                1   \n",
       "120                 0.0                0.0               0.0                1   \n",
       "...                 ...                ...               ...              ...   \n",
       "199718              0.0                0.0               0.0                1   \n",
       "199724              0.0                0.0               0.0                1   \n",
       "199880              0.0                0.0               0.0                1   \n",
       "199883              0.0                0.0               0.0                2   \n",
       "199963              0.0                0.0               0.0                1   \n",
       "\n",
       "        pickup_timehour       Day   Day Part  pickup_month  pickup_year  \\\n",
       "7                    13   Tuesday  Afternoon            12         2012   \n",
       "11                   22    Monday      Night             5         2011   \n",
       "65                   19    Monday    Evening             5         2014   \n",
       "92                   14    Friday  Afternoon            12         2011   \n",
       "120                  19    Friday    Evening             8         2010   \n",
       "...                 ...       ...        ...           ...          ...   \n",
       "199718                7    Friday    Morning             8         2011   \n",
       "199724               11    Friday    Morning            10         2013   \n",
       "199880                6  Saturday    Morning             2         2014   \n",
       "199883               17    Monday  Afternoon             9         2012   \n",
       "199963                7  Saturday    Morning             9         2012   \n",
       "\n",
       "        distance_travelled (KM)  \n",
       "7                           0.0  \n",
       "11                          0.0  \n",
       "65                          0.0  \n",
       "92                          0.0  \n",
       "120                         0.0  \n",
       "...                         ...  \n",
       "199718                      0.0  \n",
       "199724                      0.0  \n",
       "199880                      0.0  \n",
       "199883                      0.0  \n",
       "199963                      0.0  \n",
       "\n",
       "[3779 rows x 13 columns]"
      ]
     },
     "execution_count": 18,
     "metadata": {},
     "output_type": "execute_result"
    }
   ],
   "source": [
    "outlier_data[(outlier_data['pickup_latitude']==0.000000)&(outlier_data['pickup_longitude']==0.000000)]"
   ]
  },
  {
   "cell_type": "code",
   "execution_count": 19,
   "metadata": {
    "execution": {
     "iopub.execute_input": "2022-01-13T10:39:07.308101Z",
     "iopub.status.busy": "2022-01-13T10:39:07.307416Z",
     "iopub.status.idle": "2022-01-13T10:39:07.585207Z",
     "shell.execute_reply": "2022-01-13T10:39:07.584612Z",
     "shell.execute_reply.started": "2022-01-13T09:06:16.640659Z"
    },
    "papermill": {
     "duration": 0.35367,
     "end_time": "2022-01-13T10:39:07.585363",
     "exception": false,
     "start_time": "2022-01-13T10:39:07.231693",
     "status": "completed"
    },
    "tags": []
   },
   "outputs": [
    {
     "data": {
      "text/plain": [
       "<AxesSubplot:xlabel='dropoff_latitude', ylabel='Count'>"
      ]
     },
     "execution_count": 19,
     "metadata": {},
     "output_type": "execute_result"
    },
    {
     "data": {
      "image/png": "[encoded data removed]",
      "text/plain": [
       "<Figure size 432x288 with 1 Axes>"
      ]
     },
     "metadata": {
      "needs_background": "light"
     },
     "output_type": "display_data"
    }
   ],
   "source": [
    "#distribution of latitude for the outlier data where lattitude==0 and longitude==0\n",
    "sb.histplot(outlier_data[(outlier_data['pickup_latitude']==0.000000)&(outlier_data['pickup_longitude']==0.000000)]['dropoff_latitude'])"
   ]
  },
  {
   "cell_type": "code",
   "execution_count": 20,
   "metadata": {
    "execution": {
     "iopub.execute_input": "2022-01-13T10:39:07.745974Z",
     "iopub.status.busy": "2022-01-13T10:39:07.741073Z",
     "iopub.status.idle": "2022-01-13T10:39:08.960571Z",
     "shell.execute_reply": "2022-01-13T10:39:08.959932Z",
     "shell.execute_reply.started": "2022-01-13T09:06:16.888171Z"
    },
    "papermill": {
     "duration": 1.300755,
     "end_time": "2022-01-13T10:39:08.960708",
     "exception": false,
     "start_time": "2022-01-13T10:39:07.659953",
     "status": "completed"
    },
    "tags": []
   },
   "outputs": [
    {
     "data": {
      "text/plain": [
       "<AxesSubplot:xlabel='fare_amount', ylabel='Count'>"
      ]
     },
     "execution_count": 20,
     "metadata": {},
     "output_type": "execute_result"
    },
    {
     "data": {
      "image/png": "[encoded data removed]",
      "text/plain": [
       "<Figure size 432x288 with 1 Axes>"
      ]
     },
     "metadata": {
      "needs_background": "light"
     },
     "output_type": "display_data"
    }
   ],
   "source": [
    "sb.histplot(outlier_data[(outlier_data['pickup_latitude']==0.000000)&(outlier_data['pickup_longitude']==0.000000)]['fare_amount'],kde=True)"
   ]
  },
  {
   "cell_type": "code",
   "execution_count": 21,
   "metadata": {
    "execution": {
     "iopub.execute_input": "2022-01-13T10:39:09.132660Z",
     "iopub.status.busy": "2022-01-13T10:39:09.119038Z",
     "iopub.status.idle": "2022-01-13T10:39:09.144743Z",
     "shell.execute_reply": "2022-01-13T10:39:09.144197Z",
     "shell.execute_reply.started": "2022-01-13T09:06:17.935653Z"
    },
    "papermill": {
     "duration": 0.107517,
     "end_time": "2022-01-13T10:39:09.144906",
     "exception": false,
     "start_time": "2022-01-13T10:39:09.037389",
     "status": "completed"
    },
    "tags": []
   },
   "outputs": [
    {
     "data": {
      "text/html": [
       "<div>\n",
       "<style scoped>\n",
       "    .dataframe tbody tr th:only-of-type {\n",
       "        vertical-align: middle;\n",
       "    }\n",
       "\n",
       "    .dataframe tbody tr th {\n",
       "        vertical-align: top;\n",
       "    }\n",
       "\n",
       "    .dataframe thead th {\n",
       "        text-align: right;\n",
       "    }\n",
       "</style>\n",
       "<table border=\"1\" class=\"dataframe\">\n",
       "  <thead>\n",
       "    <tr style=\"text-align: right;\">\n",
       "      <th></th>\n",
       "      <th>fare_amount</th>\n",
       "      <th>pickup_datetime</th>\n",
       "      <th>pickup_longitude</th>\n",
       "      <th>pickup_latitude</th>\n",
       "      <th>dropoff_longitude</th>\n",
       "      <th>dropoff_latitude</th>\n",
       "      <th>passenger_count</th>\n",
       "      <th>pickup_timehour</th>\n",
       "      <th>Day</th>\n",
       "      <th>Day Part</th>\n",
       "      <th>pickup_month</th>\n",
       "      <th>pickup_year</th>\n",
       "      <th>distance_travelled (KM)</th>\n",
       "    </tr>\n",
       "  </thead>\n",
       "  <tbody>\n",
       "    <tr>\n",
       "      <th>333</th>\n",
       "      <td>10.1</td>\n",
       "      <td>2011-08-05 07:03:08+00:00</td>\n",
       "      <td>-74.013900</td>\n",
       "      <td>40.707800</td>\n",
       "      <td>-73.992300</td>\n",
       "      <td>40.749300</td>\n",
       "      <td>0</td>\n",
       "      <td>7</td>\n",
       "      <td>Friday</td>\n",
       "      <td>Morning</td>\n",
       "      <td>8</td>\n",
       "      <td>2011</td>\n",
       "      <td>4.960570</td>\n",
       "    </tr>\n",
       "    <tr>\n",
       "      <th>908</th>\n",
       "      <td>11.7</td>\n",
       "      <td>2011-09-06 12:25:19+00:00</td>\n",
       "      <td>-73.981000</td>\n",
       "      <td>40.764600</td>\n",
       "      <td>-73.962900</td>\n",
       "      <td>40.778400</td>\n",
       "      <td>0</td>\n",
       "      <td>12</td>\n",
       "      <td>Tuesday</td>\n",
       "      <td>Morning</td>\n",
       "      <td>9</td>\n",
       "      <td>2011</td>\n",
       "      <td>2.162835</td>\n",
       "    </tr>\n",
       "    <tr>\n",
       "      <th>926</th>\n",
       "      <td>3.3</td>\n",
       "      <td>2012-03-26 18:11:24+00:00</td>\n",
       "      <td>-73.979978</td>\n",
       "      <td>40.765821</td>\n",
       "      <td>-73.983894</td>\n",
       "      <td>40.766873</td>\n",
       "      <td>0</td>\n",
       "      <td>18</td>\n",
       "      <td>Monday</td>\n",
       "      <td>Evening</td>\n",
       "      <td>3</td>\n",
       "      <td>2012</td>\n",
       "      <td>0.349924</td>\n",
       "    </tr>\n",
       "    <tr>\n",
       "      <th>2000</th>\n",
       "      <td>15.7</td>\n",
       "      <td>2012-04-20 15:07:57+00:00</td>\n",
       "      <td>-73.975285</td>\n",
       "      <td>40.750138</td>\n",
       "      <td>-73.974729</td>\n",
       "      <td>40.783151</td>\n",
       "      <td>0</td>\n",
       "      <td>15</td>\n",
       "      <td>Friday</td>\n",
       "      <td>Afternoon</td>\n",
       "      <td>4</td>\n",
       "      <td>2012</td>\n",
       "      <td>3.671177</td>\n",
       "    </tr>\n",
       "    <tr>\n",
       "      <th>3011</th>\n",
       "      <td>6.1</td>\n",
       "      <td>2012-01-07 19:19:08+00:00</td>\n",
       "      <td>-73.977900</td>\n",
       "      <td>40.789100</td>\n",
       "      <td>-73.983700</td>\n",
       "      <td>40.773600</td>\n",
       "      <td>0</td>\n",
       "      <td>19</td>\n",
       "      <td>Saturday</td>\n",
       "      <td>Evening</td>\n",
       "      <td>1</td>\n",
       "      <td>2012</td>\n",
       "      <td>1.791370</td>\n",
       "    </tr>\n",
       "    <tr>\n",
       "      <th>...</th>\n",
       "      <td>...</td>\n",
       "      <td>...</td>\n",
       "      <td>...</td>\n",
       "      <td>...</td>\n",
       "      <td>...</td>\n",
       "      <td>...</td>\n",
       "      <td>...</td>\n",
       "      <td>...</td>\n",
       "      <td>...</td>\n",
       "      <td>...</td>\n",
       "      <td>...</td>\n",
       "      <td>...</td>\n",
       "      <td>...</td>\n",
       "    </tr>\n",
       "    <tr>\n",
       "      <th>196797</th>\n",
       "      <td>3.3</td>\n",
       "      <td>2011-01-17 15:52:26+00:00</td>\n",
       "      <td>-74.000760</td>\n",
       "      <td>40.757637</td>\n",
       "      <td>-74.004852</td>\n",
       "      <td>40.751947</td>\n",
       "      <td>0</td>\n",
       "      <td>15</td>\n",
       "      <td>Monday</td>\n",
       "      <td>Afternoon</td>\n",
       "      <td>1</td>\n",
       "      <td>2011</td>\n",
       "      <td>0.720492</td>\n",
       "    </tr>\n",
       "    <tr>\n",
       "      <th>197103</th>\n",
       "      <td>7.3</td>\n",
       "      <td>2011-12-10 15:33:12+00:00</td>\n",
       "      <td>0.000000</td>\n",
       "      <td>0.000000</td>\n",
       "      <td>0.000000</td>\n",
       "      <td>0.000000</td>\n",
       "      <td>0</td>\n",
       "      <td>15</td>\n",
       "      <td>Saturday</td>\n",
       "      <td>Afternoon</td>\n",
       "      <td>12</td>\n",
       "      <td>2011</td>\n",
       "      <td>0.000000</td>\n",
       "    </tr>\n",
       "    <tr>\n",
       "      <th>198872</th>\n",
       "      <td>5.7</td>\n",
       "      <td>2011-09-20 19:55:05+00:00</td>\n",
       "      <td>-73.980300</td>\n",
       "      <td>40.742800</td>\n",
       "      <td>-73.967900</td>\n",
       "      <td>40.755600</td>\n",
       "      <td>0</td>\n",
       "      <td>19</td>\n",
       "      <td>Tuesday</td>\n",
       "      <td>Evening</td>\n",
       "      <td>9</td>\n",
       "      <td>2011</td>\n",
       "      <td>1.765465</td>\n",
       "    </tr>\n",
       "    <tr>\n",
       "      <th>198902</th>\n",
       "      <td>12.1</td>\n",
       "      <td>2011-08-22 21:10:56+00:00</td>\n",
       "      <td>-73.996700</td>\n",
       "      <td>40.737200</td>\n",
       "      <td>-74.008500</td>\n",
       "      <td>40.704000</td>\n",
       "      <td>0</td>\n",
       "      <td>21</td>\n",
       "      <td>Monday</td>\n",
       "      <td>Evening</td>\n",
       "      <td>8</td>\n",
       "      <td>2011</td>\n",
       "      <td>3.823264</td>\n",
       "    </tr>\n",
       "    <tr>\n",
       "      <th>198953</th>\n",
       "      <td>3.7</td>\n",
       "      <td>2012-04-13 08:30:39+00:00</td>\n",
       "      <td>-73.844310</td>\n",
       "      <td>40.721270</td>\n",
       "      <td>-73.842987</td>\n",
       "      <td>40.713435</td>\n",
       "      <td>0</td>\n",
       "      <td>8</td>\n",
       "      <td>Friday</td>\n",
       "      <td>Morning</td>\n",
       "      <td>4</td>\n",
       "      <td>2012</td>\n",
       "      <td>0.878318</td>\n",
       "    </tr>\n",
       "  </tbody>\n",
       "</table>\n",
       "<p>708 rows × 13 columns</p>\n",
       "</div>"
      ],
      "text/plain": [
       "        fare_amount           pickup_datetime  pickup_longitude  \\\n",
       "333            10.1 2011-08-05 07:03:08+00:00        -74.013900   \n",
       "908            11.7 2011-09-06 12:25:19+00:00        -73.981000   \n",
       "926             3.3 2012-03-26 18:11:24+00:00        -73.979978   \n",
       "2000           15.7 2012-04-20 15:07:57+00:00        -73.975285   \n",
       "3011            6.1 2012-01-07 19:19:08+00:00        -73.977900   \n",
       "...             ...                       ...               ...   \n",
       "196797          3.3 2011-01-17 15:52:26+00:00        -74.000760   \n",
       "197103          7.3 2011-12-10 15:33:12+00:00          0.000000   \n",
       "198872          5.7 2011-09-20 19:55:05+00:00        -73.980300   \n",
       "198902         12.1 2011-08-22 21:10:56+00:00        -73.996700   \n",
       "198953          3.7 2012-04-13 08:30:39+00:00        -73.844310   \n",
       "\n",
       "        pickup_latitude  dropoff_longitude  dropoff_latitude  passenger_count  \\\n",
       "333           40.707800         -73.992300         40.749300                0   \n",
       "908           40.764600         -73.962900         40.778400                0   \n",
       "926           40.765821         -73.983894         40.766873                0   \n",
       "2000          40.750138         -73.974729         40.783151                0   \n",
       "3011          40.789100         -73.983700         40.773600                0   \n",
       "...                 ...                ...               ...              ...   \n",
       "196797        40.757637         -74.004852         40.751947                0   \n",
       "197103         0.000000           0.000000          0.000000                0   \n",
       "198872        40.742800         -73.967900         40.755600                0   \n",
       "198902        40.737200         -74.008500         40.704000                0   \n",
       "198953        40.721270         -73.842987         40.713435                0   \n",
       "\n",
       "        pickup_timehour       Day   Day Part  pickup_month  pickup_year  \\\n",
       "333                   7    Friday    Morning             8         2011   \n",
       "908                  12   Tuesday    Morning             9         2011   \n",
       "926                  18    Monday    Evening             3         2012   \n",
       "2000                 15    Friday  Afternoon             4         2012   \n",
       "3011                 19  Saturday    Evening             1         2012   \n",
       "...                 ...       ...        ...           ...          ...   \n",
       "196797               15    Monday  Afternoon             1         2011   \n",
       "197103               15  Saturday  Afternoon            12         2011   \n",
       "198872               19   Tuesday    Evening             9         2011   \n",
       "198902               21    Monday    Evening             8         2011   \n",
       "198953                8    Friday    Morning             4         2012   \n",
       "\n",
       "        distance_travelled (KM)  \n",
       "333                    4.960570  \n",
       "908                    2.162835  \n",
       "926                    0.349924  \n",
       "2000                   3.671177  \n",
       "3011                   1.791370  \n",
       "...                         ...  \n",
       "196797                 0.720492  \n",
       "197103                 0.000000  \n",
       "198872                 1.765465  \n",
       "198902                 3.823264  \n",
       "198953                 0.878318  \n",
       "\n",
       "[708 rows x 13 columns]"
      ]
     },
     "execution_count": 21,
     "metadata": {},
     "output_type": "execute_result"
    }
   ],
   "source": [
    "outlier_data[outlier_data['passenger_count']==0]"
   ]
  },
  {
   "cell_type": "code",
   "execution_count": 22,
   "metadata": {
    "execution": {
     "iopub.execute_input": "2022-01-13T10:39:09.313838Z",
     "iopub.status.busy": "2022-01-13T10:39:09.312639Z",
     "iopub.status.idle": "2022-01-13T10:39:40.335886Z",
     "shell.execute_reply": "2022-01-13T10:39:40.336408Z",
     "shell.execute_reply.started": "2022-01-13T09:06:17.967001Z"
    },
    "papermill": {
     "duration": 31.115128,
     "end_time": "2022-01-13T10:39:40.336590",
     "exception": false,
     "start_time": "2022-01-13T10:39:09.221462",
     "status": "completed"
    },
    "tags": []
   },
   "outputs": [
    {
     "data": {
      "image/png": "[encoded data removed]",
      "text/plain": [
       "<Figure size 432x288 with 1 Axes>"
      ]
     },
     "metadata": {
      "needs_background": "light"
     },
     "output_type": "display_data"
    }
   ],
   "source": [
    "### study the distribution of distance travelled\n",
    "\n",
    "sb.histplot(outlier_data[outlier_data['passenger_count']==0]['distance_travelled (KM)'])\n",
    "\n",
    "plt.xlim(0,30)\n",
    "plt.show()"
   ]
  },
  {
   "cell_type": "code",
   "execution_count": 23,
   "metadata": {
    "execution": {
     "iopub.execute_input": "2022-01-13T10:39:40.494466Z",
     "iopub.status.busy": "2022-01-13T10:39:40.493490Z",
     "iopub.status.idle": "2022-01-13T10:39:40.498753Z",
     "shell.execute_reply": "2022-01-13T10:39:40.499468Z",
     "shell.execute_reply.started": "2022-01-13T09:06:45.473785Z"
    },
    "papermill": {
     "duration": 0.085752,
     "end_time": "2022-01-13T10:39:40.499704",
     "exception": false,
     "start_time": "2022-01-13T10:39:40.413952",
     "status": "completed"
    },
    "tags": []
   },
   "outputs": [
    {
     "name": "stdout",
     "output_type": "stream",
     "text": [
      "Before dropping (199999, 13)\n"
     ]
    }
   ],
   "source": [
    "print(f'Before dropping {uber_fare_df_1.shape}')"
   ]
  },
  {
   "cell_type": "code",
   "execution_count": 24,
   "metadata": {
    "execution": {
     "iopub.execute_input": "2022-01-13T10:39:40.661565Z",
     "iopub.status.busy": "2022-01-13T10:39:40.660864Z",
     "iopub.status.idle": "2022-01-13T10:39:40.683837Z",
     "shell.execute_reply": "2022-01-13T10:39:40.684340Z",
     "shell.execute_reply.started": "2022-01-13T09:06:45.482671Z"
    },
    "papermill": {
     "duration": 0.10616,
     "end_time": "2022-01-13T10:39:40.684521",
     "exception": false,
     "start_time": "2022-01-13T10:39:40.578361",
     "status": "completed"
    },
    "tags": []
   },
   "outputs": [
    {
     "name": "stdout",
     "output_type": "stream",
     "text": [
      "After dropping the data, the final shape is (196220, 13)\n"
     ]
    }
   ],
   "source": [
    "#remove the data \n",
    "#remove the latitude and longitude ===000, passenger_count=0, fare<=0\n",
    "\n",
    "uber_fare_df_1=uber_fare_df_1[~((uber_fare_df_1['pickup_latitude']==0.000000)&(uber_fare_df_1['pickup_longitude']==0.000000))]\n",
    "print(f'After dropping the data, the final shape is {uber_fare_df_1.shape}')"
   ]
  },
  {
   "cell_type": "code",
   "execution_count": 25,
   "metadata": {
    "execution": {
     "iopub.execute_input": "2022-01-13T10:39:40.848900Z",
     "iopub.status.busy": "2022-01-13T10:39:40.848075Z",
     "iopub.status.idle": "2022-01-13T10:39:40.851239Z",
     "shell.execute_reply": "2022-01-13T10:39:40.851708Z",
     "shell.execute_reply.started": "2022-01-13T09:06:45.513712Z"
    },
    "papermill": {
     "duration": 0.088383,
     "end_time": "2022-01-13T10:39:40.851896",
     "exception": false,
     "start_time": "2022-01-13T10:39:40.763513",
     "status": "completed"
    },
    "tags": []
   },
   "outputs": [
    {
     "data": {
      "text/plain": [
       "3779"
      ]
     },
     "execution_count": 25,
     "metadata": {},
     "output_type": "execute_result"
    }
   ],
   "source": [
    "199999-196220"
   ]
  },
  {
   "cell_type": "code",
   "execution_count": 26,
   "metadata": {
    "execution": {
     "iopub.execute_input": "2022-01-13T10:39:41.014511Z",
     "iopub.status.busy": "2022-01-13T10:39:41.013809Z",
     "iopub.status.idle": "2022-01-13T10:39:41.049637Z",
     "shell.execute_reply": "2022-01-13T10:39:41.048992Z",
     "shell.execute_reply.started": "2022-01-13T09:06:45.521159Z"
    },
    "papermill": {
     "duration": 0.120137,
     "end_time": "2022-01-13T10:39:41.049802",
     "exception": false,
     "start_time": "2022-01-13T10:39:40.929665",
     "status": "completed"
    },
    "tags": []
   },
   "outputs": [
    {
     "name": "stdout",
     "output_type": "stream",
     "text": [
      "After dropping the data, the final shape is (195511, 13)\n"
     ]
    }
   ],
   "source": [
    "uber_fare_df_1=uber_fare_df_1[~(uber_fare_df_1['fare_amount']<=0)]\n",
    "uber_fare_df_1=uber_fare_df_1[~(uber_fare_df_1['passenger_count']==0)]\n",
    "print(f'After dropping the data, the final shape is {uber_fare_df_1.shape}')"
   ]
  },
  {
   "cell_type": "code",
   "execution_count": 27,
   "metadata": {
    "execution": {
     "iopub.execute_input": "2022-01-13T10:39:41.210112Z",
     "iopub.status.busy": "2022-01-13T10:39:41.209462Z",
     "iopub.status.idle": "2022-01-13T10:39:41.227045Z",
     "shell.execute_reply": "2022-01-13T10:39:41.227603Z",
     "shell.execute_reply.started": "2022-01-13T09:06:45.556282Z"
    },
    "papermill": {
     "duration": 0.098715,
     "end_time": "2022-01-13T10:39:41.227829",
     "exception": false,
     "start_time": "2022-01-13T10:39:41.129114",
     "status": "completed"
    },
    "tags": []
   },
   "outputs": [
    {
     "name": "stdout",
     "output_type": "stream",
     "text": [
      "After dropping the data, the final shape is (195510, 13)\n"
     ]
    }
   ],
   "source": [
    "uber_fare_df_1=uber_fare_df_1[~(uber_fare_df_1['passenger_count']==208)]\n",
    "print(f'After dropping the data, the final shape is {uber_fare_df_1.shape}')"
   ]
  },
  {
   "cell_type": "code",
   "execution_count": 28,
   "metadata": {
    "execution": {
     "iopub.execute_input": "2022-01-13T10:39:41.388662Z",
     "iopub.status.busy": "2022-01-13T10:39:41.388046Z",
     "iopub.status.idle": "2022-01-13T10:39:41.630368Z",
     "shell.execute_reply": "2022-01-13T10:39:41.629829Z",
     "shell.execute_reply.started": "2022-01-13T09:06:45.57494Z"
    },
    "papermill": {
     "duration": 0.323846,
     "end_time": "2022-01-13T10:39:41.630516",
     "exception": false,
     "start_time": "2022-01-13T10:39:41.306670",
     "status": "completed"
    },
    "tags": []
   },
   "outputs": [
    {
     "name": "stderr",
     "output_type": "stream",
     "text": [
      "/opt/conda/lib/python3.7/site-packages/seaborn/_decorators.py:43: FutureWarning: Pass the following variable as a keyword arg: x. From version 0.12, the only valid positional argument will be `data`, and passing other arguments without an explicit keyword will result in an error or misinterpretation.\n",
      "  FutureWarning\n"
     ]
    },
    {
     "data": {
      "text/plain": [
       "<AxesSubplot:xlabel='distance_travelled (KM)'>"
      ]
     },
     "execution_count": 28,
     "metadata": {},
     "output_type": "execute_result"
    },
    {
     "data": {
      "image/png": "[encoded data removed]",
      "text/plain": [
       "<Figure size 432x288 with 1 Axes>"
      ]
     },
     "metadata": {
      "needs_background": "light"
     },
     "output_type": "display_data"
    }
   ],
   "source": [
    "sb.boxplot(uber_fare_df_1['distance_travelled (KM)'])"
   ]
  },
  {
   "cell_type": "code",
   "execution_count": 29,
   "metadata": {
    "execution": {
     "iopub.execute_input": "2022-01-13T10:39:41.797868Z",
     "iopub.status.busy": "2022-01-13T10:39:41.797068Z",
     "iopub.status.idle": "2022-01-13T10:39:41.817454Z",
     "shell.execute_reply": "2022-01-13T10:39:41.818019Z",
     "shell.execute_reply.started": "2022-01-13T09:06:45.794267Z"
    },
    "papermill": {
     "duration": 0.106835,
     "end_time": "2022-01-13T10:39:41.818202",
     "exception": false,
     "start_time": "2022-01-13T10:39:41.711367",
     "status": "completed"
    },
    "tags": []
   },
   "outputs": [
    {
     "name": "stdout",
     "output_type": "stream",
     "text": [
      "After dropping the data, the final shape is (195209, 13)\n"
     ]
    }
   ],
   "source": [
    "#let's put a threshold for distance above 500 km as not possible\n",
    "uber_fare_df_1= uber_fare_df_1[uber_fare_df_1['distance_travelled (KM)']<=50]\n",
    "print(f'After dropping the data, the final shape is {uber_fare_df_1.shape}')\n"
   ]
  },
  {
   "cell_type": "code",
   "execution_count": 30,
   "metadata": {
    "execution": {
     "iopub.execute_input": "2022-01-13T10:39:41.982903Z",
     "iopub.status.busy": "2022-01-13T10:39:41.982243Z",
     "iopub.status.idle": "2022-01-13T10:39:41.986854Z",
     "shell.execute_reply": "2022-01-13T10:39:41.987403Z",
     "shell.execute_reply.started": "2022-01-13T09:06:45.815199Z"
    },
    "papermill": {
     "duration": 0.088356,
     "end_time": "2022-01-13T10:39:41.987584",
     "exception": false,
     "start_time": "2022-01-13T10:39:41.899228",
     "status": "completed"
    },
    "tags": []
   },
   "outputs": [
    {
     "data": {
      "text/plain": [
       "709"
      ]
     },
     "execution_count": 30,
     "metadata": {},
     "output_type": "execute_result"
    }
   ],
   "source": [
    "196220-195511"
   ]
  },
  {
   "cell_type": "code",
   "execution_count": 31,
   "metadata": {
    "execution": {
     "iopub.execute_input": "2022-01-13T10:39:42.153083Z",
     "iopub.status.busy": "2022-01-13T10:39:42.152421Z",
     "iopub.status.idle": "2022-01-13T10:39:42.262300Z",
     "shell.execute_reply": "2022-01-13T10:39:42.261574Z",
     "shell.execute_reply.started": "2022-01-13T09:06:45.822486Z"
    },
    "papermill": {
     "duration": 0.193464,
     "end_time": "2022-01-13T10:39:42.262450",
     "exception": false,
     "start_time": "2022-01-13T10:39:42.068986",
     "status": "completed"
    },
    "tags": []
   },
   "outputs": [
    {
     "data": {
      "text/html": [
       "<div>\n",
       "<style scoped>\n",
       "    .dataframe tbody tr th:only-of-type {\n",
       "        vertical-align: middle;\n",
       "    }\n",
       "\n",
       "    .dataframe tbody tr th {\n",
       "        vertical-align: top;\n",
       "    }\n",
       "\n",
       "    .dataframe thead th {\n",
       "        text-align: right;\n",
       "    }\n",
       "</style>\n",
       "<table border=\"1\" class=\"dataframe\">\n",
       "  <thead>\n",
       "    <tr style=\"text-align: right;\">\n",
       "      <th></th>\n",
       "      <th>fare_amount</th>\n",
       "      <th>pickup_longitude</th>\n",
       "      <th>pickup_latitude</th>\n",
       "      <th>dropoff_longitude</th>\n",
       "      <th>dropoff_latitude</th>\n",
       "      <th>passenger_count</th>\n",
       "      <th>pickup_timehour</th>\n",
       "      <th>pickup_month</th>\n",
       "      <th>pickup_year</th>\n",
       "      <th>distance_travelled (KM)</th>\n",
       "    </tr>\n",
       "  </thead>\n",
       "  <tbody>\n",
       "    <tr>\n",
       "      <th>count</th>\n",
       "      <td>195209.000000</td>\n",
       "      <td>195209.000000</td>\n",
       "      <td>195209.000000</td>\n",
       "      <td>195209.000000</td>\n",
       "      <td>195209.000000</td>\n",
       "      <td>195209.000000</td>\n",
       "      <td>195209.000000</td>\n",
       "      <td>195209.000000</td>\n",
       "      <td>195209.000000</td>\n",
       "      <td>195209.000000</td>\n",
       "    </tr>\n",
       "    <tr>\n",
       "      <th>mean</th>\n",
       "      <td>11.347863</td>\n",
       "      <td>-73.908822</td>\n",
       "      <td>40.689697</td>\n",
       "      <td>-73.907851</td>\n",
       "      <td>40.688160</td>\n",
       "      <td>1.690107</td>\n",
       "      <td>13.491325</td>\n",
       "      <td>6.284321</td>\n",
       "      <td>2011.741221</td>\n",
       "      <td>3.316620</td>\n",
       "    </tr>\n",
       "    <tr>\n",
       "      <th>std</th>\n",
       "      <td>9.773993</td>\n",
       "      <td>2.710281</td>\n",
       "      <td>2.768826</td>\n",
       "      <td>2.710367</td>\n",
       "      <td>2.646280</td>\n",
       "      <td>1.306062</td>\n",
       "      <td>6.515514</td>\n",
       "      <td>3.439510</td>\n",
       "      <td>1.861764</td>\n",
       "      <td>3.594855</td>\n",
       "    </tr>\n",
       "    <tr>\n",
       "      <th>min</th>\n",
       "      <td>0.010000</td>\n",
       "      <td>-75.387785</td>\n",
       "      <td>-74.015515</td>\n",
       "      <td>-75.417737</td>\n",
       "      <td>-74.015750</td>\n",
       "      <td>1.000000</td>\n",
       "      <td>0.000000</td>\n",
       "      <td>1.000000</td>\n",
       "      <td>2009.000000</td>\n",
       "      <td>0.000000</td>\n",
       "    </tr>\n",
       "    <tr>\n",
       "      <th>25%</th>\n",
       "      <td>6.000000</td>\n",
       "      <td>-73.992269</td>\n",
       "      <td>40.736397</td>\n",
       "      <td>-73.991594</td>\n",
       "      <td>40.735279</td>\n",
       "      <td>1.000000</td>\n",
       "      <td>9.000000</td>\n",
       "      <td>3.000000</td>\n",
       "      <td>2010.000000</td>\n",
       "      <td>1.255272</td>\n",
       "    </tr>\n",
       "    <tr>\n",
       "      <th>50%</th>\n",
       "      <td>8.500000</td>\n",
       "      <td>-73.982104</td>\n",
       "      <td>40.753275</td>\n",
       "      <td>-73.980526</td>\n",
       "      <td>40.753723</td>\n",
       "      <td>1.000000</td>\n",
       "      <td>14.000000</td>\n",
       "      <td>6.000000</td>\n",
       "      <td>2012.000000</td>\n",
       "      <td>2.156107</td>\n",
       "    </tr>\n",
       "    <tr>\n",
       "      <th>75%</th>\n",
       "      <td>12.500000</td>\n",
       "      <td>-73.968331</td>\n",
       "      <td>40.767532</td>\n",
       "      <td>-73.965332</td>\n",
       "      <td>40.768317</td>\n",
       "      <td>2.000000</td>\n",
       "      <td>19.000000</td>\n",
       "      <td>9.000000</td>\n",
       "      <td>2013.000000</td>\n",
       "      <td>3.906828</td>\n",
       "    </tr>\n",
       "    <tr>\n",
       "      <th>max</th>\n",
       "      <td>499.000000</td>\n",
       "      <td>40.808425</td>\n",
       "      <td>401.066667</td>\n",
       "      <td>40.831932</td>\n",
       "      <td>45.031598</td>\n",
       "      <td>6.000000</td>\n",
       "      <td>23.000000</td>\n",
       "      <td>12.000000</td>\n",
       "      <td>2015.000000</td>\n",
       "      <td>49.003731</td>\n",
       "    </tr>\n",
       "  </tbody>\n",
       "</table>\n",
       "</div>"
      ],
      "text/plain": [
       "         fare_amount  pickup_longitude  pickup_latitude  dropoff_longitude  \\\n",
       "count  195209.000000     195209.000000    195209.000000      195209.000000   \n",
       "mean       11.347863        -73.908822        40.689697         -73.907851   \n",
       "std         9.773993          2.710281         2.768826           2.710367   \n",
       "min         0.010000        -75.387785       -74.015515         -75.417737   \n",
       "25%         6.000000        -73.992269        40.736397         -73.991594   \n",
       "50%         8.500000        -73.982104        40.753275         -73.980526   \n",
       "75%        12.500000        -73.968331        40.767532         -73.965332   \n",
       "max       499.000000         40.808425       401.066667          40.831932   \n",
       "\n",
       "       dropoff_latitude  passenger_count  pickup_timehour   pickup_month  \\\n",
       "count     195209.000000    195209.000000    195209.000000  195209.000000   \n",
       "mean          40.688160         1.690107        13.491325       6.284321   \n",
       "std            2.646280         1.306062         6.515514       3.439510   \n",
       "min          -74.015750         1.000000         0.000000       1.000000   \n",
       "25%           40.735279         1.000000         9.000000       3.000000   \n",
       "50%           40.753723         1.000000        14.000000       6.000000   \n",
       "75%           40.768317         2.000000        19.000000       9.000000   \n",
       "max           45.031598         6.000000        23.000000      12.000000   \n",
       "\n",
       "         pickup_year  distance_travelled (KM)  \n",
       "count  195209.000000            195209.000000  \n",
       "mean     2011.741221                 3.316620  \n",
       "std         1.861764                 3.594855  \n",
       "min      2009.000000                 0.000000  \n",
       "25%      2010.000000                 1.255272  \n",
       "50%      2012.000000                 2.156107  \n",
       "75%      2013.000000                 3.906828  \n",
       "max      2015.000000                49.003731  "
      ]
     },
     "execution_count": 31,
     "metadata": {},
     "output_type": "execute_result"
    }
   ],
   "source": [
    "uber_fare_df_1.describe()"
   ]
  },
  {
   "cell_type": "code",
   "execution_count": 32,
   "metadata": {
    "execution": {
     "iopub.execute_input": "2022-01-13T10:39:42.431420Z",
     "iopub.status.busy": "2022-01-13T10:39:42.430521Z",
     "iopub.status.idle": "2022-01-13T10:39:42.957451Z",
     "shell.execute_reply": "2022-01-13T10:39:42.957934Z",
     "shell.execute_reply.started": "2022-01-13T09:06:45.917923Z"
    },
    "papermill": {
     "duration": 0.613643,
     "end_time": "2022-01-13T10:39:42.958115",
     "exception": false,
     "start_time": "2022-01-13T10:39:42.344472",
     "status": "completed"
    },
    "tags": []
   },
   "outputs": [
    {
     "data": {
      "image/png": "[encoded data removed]",
      "text/plain": [
       "<Figure size 432x288 with 1 Axes>"
      ]
     },
     "metadata": {
      "needs_background": "light"
     },
     "output_type": "display_data"
    }
   ],
   "source": [
    "plt.scatter(uber_fare_df_1['distance_travelled (KM)'],uber_fare_df_1['fare_amount'])\n",
    "plt.xlabel('Distance Travelled (KM)')\n",
    "plt.ylabel('Fare Amount')\n",
    "plt.show()\n"
   ]
  },
  {
   "cell_type": "code",
   "execution_count": 33,
   "metadata": {
    "execution": {
     "iopub.execute_input": "2022-01-13T10:39:43.148419Z",
     "iopub.status.busy": "2022-01-13T10:39:43.147466Z",
     "iopub.status.idle": "2022-01-13T10:39:43.151757Z",
     "shell.execute_reply": "2022-01-13T10:39:43.151244Z",
     "shell.execute_reply.started": "2022-01-13T09:06:46.384786Z"
    },
    "papermill": {
     "duration": 0.112663,
     "end_time": "2022-01-13T10:39:43.151924",
     "exception": false,
     "start_time": "2022-01-13T10:39:43.039261",
     "status": "completed"
    },
    "tags": []
   },
   "outputs": [
    {
     "data": {
      "text/html": [
       "<div>\n",
       "<style scoped>\n",
       "    .dataframe tbody tr th:only-of-type {\n",
       "        vertical-align: middle;\n",
       "    }\n",
       "\n",
       "    .dataframe tbody tr th {\n",
       "        vertical-align: top;\n",
       "    }\n",
       "\n",
       "    .dataframe thead th {\n",
       "        text-align: right;\n",
       "    }\n",
       "</style>\n",
       "<table border=\"1\" class=\"dataframe\">\n",
       "  <thead>\n",
       "    <tr style=\"text-align: right;\">\n",
       "      <th></th>\n",
       "      <th>fare_amount</th>\n",
       "      <th>pickup_datetime</th>\n",
       "      <th>pickup_longitude</th>\n",
       "      <th>pickup_latitude</th>\n",
       "      <th>dropoff_longitude</th>\n",
       "      <th>dropoff_latitude</th>\n",
       "      <th>passenger_count</th>\n",
       "      <th>pickup_timehour</th>\n",
       "      <th>Day</th>\n",
       "      <th>Day Part</th>\n",
       "      <th>pickup_month</th>\n",
       "      <th>pickup_year</th>\n",
       "      <th>distance_travelled (KM)</th>\n",
       "    </tr>\n",
       "  </thead>\n",
       "  <tbody>\n",
       "    <tr>\n",
       "      <th>0</th>\n",
       "      <td>7.5</td>\n",
       "      <td>2015-05-07 19:52:06+00:00</td>\n",
       "      <td>-73.999817</td>\n",
       "      <td>40.738354</td>\n",
       "      <td>-73.999512</td>\n",
       "      <td>40.723217</td>\n",
       "      <td>1</td>\n",
       "      <td>19</td>\n",
       "      <td>Thursday</td>\n",
       "      <td>Evening</td>\n",
       "      <td>5</td>\n",
       "      <td>2015</td>\n",
       "      <td>1.683323</td>\n",
       "    </tr>\n",
       "    <tr>\n",
       "      <th>1</th>\n",
       "      <td>7.7</td>\n",
       "      <td>2009-07-17 20:04:56+00:00</td>\n",
       "      <td>-73.994355</td>\n",
       "      <td>40.728225</td>\n",
       "      <td>-73.994710</td>\n",
       "      <td>40.750325</td>\n",
       "      <td>1</td>\n",
       "      <td>20</td>\n",
       "      <td>Friday</td>\n",
       "      <td>Evening</td>\n",
       "      <td>7</td>\n",
       "      <td>2009</td>\n",
       "      <td>2.457590</td>\n",
       "    </tr>\n",
       "    <tr>\n",
       "      <th>2</th>\n",
       "      <td>12.9</td>\n",
       "      <td>2009-08-24 21:45:00+00:00</td>\n",
       "      <td>-74.005043</td>\n",
       "      <td>40.740770</td>\n",
       "      <td>-73.962565</td>\n",
       "      <td>40.772647</td>\n",
       "      <td>1</td>\n",
       "      <td>21</td>\n",
       "      <td>Monday</td>\n",
       "      <td>Evening</td>\n",
       "      <td>8</td>\n",
       "      <td>2009</td>\n",
       "      <td>5.036377</td>\n",
       "    </tr>\n",
       "    <tr>\n",
       "      <th>3</th>\n",
       "      <td>5.3</td>\n",
       "      <td>2009-06-26 08:22:21+00:00</td>\n",
       "      <td>-73.976124</td>\n",
       "      <td>40.790844</td>\n",
       "      <td>-73.965316</td>\n",
       "      <td>40.803349</td>\n",
       "      <td>3</td>\n",
       "      <td>8</td>\n",
       "      <td>Friday</td>\n",
       "      <td>Morning</td>\n",
       "      <td>6</td>\n",
       "      <td>2009</td>\n",
       "      <td>1.661683</td>\n",
       "    </tr>\n",
       "    <tr>\n",
       "      <th>4</th>\n",
       "      <td>16.0</td>\n",
       "      <td>2014-08-28 17:47:00+00:00</td>\n",
       "      <td>-73.925023</td>\n",
       "      <td>40.744085</td>\n",
       "      <td>-73.973082</td>\n",
       "      <td>40.761247</td>\n",
       "      <td>5</td>\n",
       "      <td>17</td>\n",
       "      <td>Thursday</td>\n",
       "      <td>Afternoon</td>\n",
       "      <td>8</td>\n",
       "      <td>2014</td>\n",
       "      <td>4.475450</td>\n",
       "    </tr>\n",
       "    <tr>\n",
       "      <th>...</th>\n",
       "      <td>...</td>\n",
       "      <td>...</td>\n",
       "      <td>...</td>\n",
       "      <td>...</td>\n",
       "      <td>...</td>\n",
       "      <td>...</td>\n",
       "      <td>...</td>\n",
       "      <td>...</td>\n",
       "      <td>...</td>\n",
       "      <td>...</td>\n",
       "      <td>...</td>\n",
       "      <td>...</td>\n",
       "      <td>...</td>\n",
       "    </tr>\n",
       "    <tr>\n",
       "      <th>199995</th>\n",
       "      <td>3.0</td>\n",
       "      <td>2012-10-28 10:49:00+00:00</td>\n",
       "      <td>-73.987042</td>\n",
       "      <td>40.739367</td>\n",
       "      <td>-73.986525</td>\n",
       "      <td>40.740297</td>\n",
       "      <td>1</td>\n",
       "      <td>10</td>\n",
       "      <td>Sunday</td>\n",
       "      <td>Morning</td>\n",
       "      <td>10</td>\n",
       "      <td>2012</td>\n",
       "      <td>0.112210</td>\n",
       "    </tr>\n",
       "    <tr>\n",
       "      <th>199996</th>\n",
       "      <td>7.5</td>\n",
       "      <td>2014-03-14 01:09:00+00:00</td>\n",
       "      <td>-73.984722</td>\n",
       "      <td>40.736837</td>\n",
       "      <td>-74.006672</td>\n",
       "      <td>40.739620</td>\n",
       "      <td>1</td>\n",
       "      <td>1</td>\n",
       "      <td>Friday</td>\n",
       "      <td>Night</td>\n",
       "      <td>3</td>\n",
       "      <td>2014</td>\n",
       "      <td>1.875050</td>\n",
       "    </tr>\n",
       "    <tr>\n",
       "      <th>199997</th>\n",
       "      <td>30.9</td>\n",
       "      <td>2009-06-29 00:42:00+00:00</td>\n",
       "      <td>-73.986017</td>\n",
       "      <td>40.756487</td>\n",
       "      <td>-73.858957</td>\n",
       "      <td>40.692588</td>\n",
       "      <td>2</td>\n",
       "      <td>0</td>\n",
       "      <td>Monday</td>\n",
       "      <td>Night</td>\n",
       "      <td>6</td>\n",
       "      <td>2009</td>\n",
       "      <td>12.850319</td>\n",
       "    </tr>\n",
       "    <tr>\n",
       "      <th>199998</th>\n",
       "      <td>14.5</td>\n",
       "      <td>2015-05-20 14:56:25+00:00</td>\n",
       "      <td>-73.997124</td>\n",
       "      <td>40.725452</td>\n",
       "      <td>-73.983215</td>\n",
       "      <td>40.695415</td>\n",
       "      <td>1</td>\n",
       "      <td>14</td>\n",
       "      <td>Wednesday</td>\n",
       "      <td>Afternoon</td>\n",
       "      <td>5</td>\n",
       "      <td>2015</td>\n",
       "      <td>3.539715</td>\n",
       "    </tr>\n",
       "    <tr>\n",
       "      <th>199999</th>\n",
       "      <td>14.1</td>\n",
       "      <td>2010-05-15 04:08:00+00:00</td>\n",
       "      <td>-73.984395</td>\n",
       "      <td>40.720077</td>\n",
       "      <td>-73.985508</td>\n",
       "      <td>40.768793</td>\n",
       "      <td>1</td>\n",
       "      <td>4</td>\n",
       "      <td>Saturday</td>\n",
       "      <td>Night</td>\n",
       "      <td>5</td>\n",
       "      <td>2010</td>\n",
       "      <td>5.417783</td>\n",
       "    </tr>\n",
       "  </tbody>\n",
       "</table>\n",
       "<p>195209 rows × 13 columns</p>\n",
       "</div>"
      ],
      "text/plain": [
       "        fare_amount           pickup_datetime  pickup_longitude  \\\n",
       "0               7.5 2015-05-07 19:52:06+00:00        -73.999817   \n",
       "1               7.7 2009-07-17 20:04:56+00:00        -73.994355   \n",
       "2              12.9 2009-08-24 21:45:00+00:00        -74.005043   \n",
       "3               5.3 2009-06-26 08:22:21+00:00        -73.976124   \n",
       "4              16.0 2014-08-28 17:47:00+00:00        -73.925023   \n",
       "...             ...                       ...               ...   \n",
       "199995          3.0 2012-10-28 10:49:00+00:00        -73.987042   \n",
       "199996          7.5 2014-03-14 01:09:00+00:00        -73.984722   \n",
       "199997         30.9 2009-06-29 00:42:00+00:00        -73.986017   \n",
       "199998         14.5 2015-05-20 14:56:25+00:00        -73.997124   \n",
       "199999         14.1 2010-05-15 04:08:00+00:00        -73.984395   \n",
       "\n",
       "        pickup_latitude  dropoff_longitude  dropoff_latitude  passenger_count  \\\n",
       "0             40.738354         -73.999512         40.723217                1   \n",
       "1             40.728225         -73.994710         40.750325                1   \n",
       "2             40.740770         -73.962565         40.772647                1   \n",
       "3             40.790844         -73.965316         40.803349                3   \n",
       "4             40.744085         -73.973082         40.761247                5   \n",
       "...                 ...                ...               ...              ...   \n",
       "199995        40.739367         -73.986525         40.740297                1   \n",
       "199996        40.736837         -74.006672         40.739620                1   \n",
       "199997        40.756487         -73.858957         40.692588                2   \n",
       "199998        40.725452         -73.983215         40.695415                1   \n",
       "199999        40.720077         -73.985508         40.768793                1   \n",
       "\n",
       "        pickup_timehour        Day   Day Part  pickup_month  pickup_year  \\\n",
       "0                    19   Thursday    Evening             5         2015   \n",
       "1                    20     Friday    Evening             7         2009   \n",
       "2                    21     Monday    Evening             8         2009   \n",
       "3                     8     Friday    Morning             6         2009   \n",
       "4                    17   Thursday  Afternoon             8         2014   \n",
       "...                 ...        ...        ...           ...          ...   \n",
       "199995               10     Sunday    Morning            10         2012   \n",
       "199996                1     Friday      Night             3         2014   \n",
       "199997                0     Monday      Night             6         2009   \n",
       "199998               14  Wednesday  Afternoon             5         2015   \n",
       "199999                4   Saturday      Night             5         2010   \n",
       "\n",
       "        distance_travelled (KM)  \n",
       "0                      1.683323  \n",
       "1                      2.457590  \n",
       "2                      5.036377  \n",
       "3                      1.661683  \n",
       "4                      4.475450  \n",
       "...                         ...  \n",
       "199995                 0.112210  \n",
       "199996                 1.875050  \n",
       "199997                12.850319  \n",
       "199998                 3.539715  \n",
       "199999                 5.417783  \n",
       "\n",
       "[195209 rows x 13 columns]"
      ]
     },
     "execution_count": 33,
     "metadata": {},
     "output_type": "execute_result"
    }
   ],
   "source": [
    "uber_fare_df_1"
   ]
  },
  {
   "cell_type": "code",
   "execution_count": 34,
   "metadata": {
    "execution": {
     "iopub.execute_input": "2022-01-13T10:39:43.372226Z",
     "iopub.status.busy": "2022-01-13T10:39:43.366932Z",
     "iopub.status.idle": "2022-01-13T10:39:43.976039Z",
     "shell.execute_reply": "2022-01-13T10:39:43.975415Z",
     "shell.execute_reply.started": "2022-01-13T09:06:46.411025Z"
    },
    "papermill": {
     "duration": 0.74132,
     "end_time": "2022-01-13T10:39:43.976186",
     "exception": false,
     "start_time": "2022-01-13T10:39:43.234866",
     "status": "completed"
    },
    "tags": []
   },
   "outputs": [
    {
     "data": {
      "image/png": "[encoded data removed]",
      "text/plain": [
       "<Figure size 1440x576 with 1 Axes>"
      ]
     },
     "metadata": {
      "needs_background": "light"
     },
     "output_type": "display_data"
    }
   ],
   "source": [
    "#study how much fare for each day in different parts of day \n",
    "plt.figure(figsize=(20,8))\n",
    "sb.histplot(uber_fare_df_1['Day'])\n",
    "plt.ylabel('Trip Count')\n",
    "plt.title('Day vs Trip count')\n",
    "plt.show()"
   ]
  },
  {
   "cell_type": "code",
   "execution_count": 35,
   "metadata": {
    "execution": {
     "iopub.execute_input": "2022-01-13T10:39:44.179095Z",
     "iopub.status.busy": "2022-01-13T10:39:44.149284Z",
     "iopub.status.idle": "2022-01-13T10:39:44.624596Z",
     "shell.execute_reply": "2022-01-13T10:39:44.624090Z",
     "shell.execute_reply.started": "2022-01-13T09:06:46.964798Z"
    },
    "papermill": {
     "duration": 0.563288,
     "end_time": "2022-01-13T10:39:44.624738",
     "exception": false,
     "start_time": "2022-01-13T10:39:44.061450",
     "status": "completed"
    },
    "tags": []
   },
   "outputs": [
    {
     "data": {
      "image/png": "[encoded data removed]",
      "text/plain": [
       "<Figure size 1440x576 with 1 Axes>"
      ]
     },
     "metadata": {
      "needs_background": "light"
     },
     "output_type": "display_data"
    }
   ],
   "source": [
    "#study how much fare for each day in different parts of day \n",
    "plt.figure(figsize=(20,8))\n",
    "sb.histplot(uber_fare_df_1['Day Part'])\n",
    "plt.ylabel('Trip Count')\n",
    "plt.title('Day Part vs Trip count')\n",
    "plt.show()"
   ]
  },
  {
   "cell_type": "code",
   "execution_count": 36,
   "metadata": {
    "execution": {
     "iopub.execute_input": "2022-01-13T10:39:44.808405Z",
     "iopub.status.busy": "2022-01-13T10:39:44.807498Z",
     "iopub.status.idle": "2022-01-13T10:39:44.810889Z",
     "shell.execute_reply": "2022-01-13T10:39:44.811658Z",
     "shell.execute_reply.started": "2022-01-13T09:06:47.375615Z"
    },
    "papermill": {
     "duration": 0.102261,
     "end_time": "2022-01-13T10:39:44.811924",
     "exception": false,
     "start_time": "2022-01-13T10:39:44.709663",
     "status": "completed"
    },
    "scrolled": true,
    "tags": []
   },
   "outputs": [
    {
     "data": {
      "text/plain": [
       "Index(['fare_amount', 'pickup_datetime', 'pickup_longitude', 'pickup_latitude',\n",
       "       'dropoff_longitude', 'dropoff_latitude', 'passenger_count',\n",
       "       'pickup_timehour', 'Day', 'Day Part', 'pickup_month', 'pickup_year',\n",
       "       'distance_travelled (KM)'],\n",
       "      dtype='object')"
      ]
     },
     "execution_count": 36,
     "metadata": {},
     "output_type": "execute_result"
    }
   ],
   "source": [
    "uber_fare_df_1.columns"
   ]
  },
  {
   "cell_type": "code",
   "execution_count": 37,
   "metadata": {
    "execution": {
     "iopub.execute_input": "2022-01-13T10:39:45.000242Z",
     "iopub.status.busy": "2022-01-13T10:39:44.999269Z",
     "iopub.status.idle": "2022-01-13T10:41:04.869123Z",
     "shell.execute_reply": "2022-01-13T10:41:04.869650Z",
     "shell.execute_reply.started": "2022-01-13T09:06:47.384784Z"
    },
    "papermill": {
     "duration": 79.957781,
     "end_time": "2022-01-13T10:41:04.869856",
     "exception": false,
     "start_time": "2022-01-13T10:39:44.912075",
     "status": "completed"
    },
    "tags": []
   },
   "outputs": [
    {
     "data": {
      "image/png": "[encoded data removed]",
      "text/plain": [
       "<Figure size 1440x576 with 1 Axes>"
      ]
     },
     "metadata": {
      "needs_background": "light"
     },
     "output_type": "display_data"
    }
   ],
   "source": [
    "#study how much passenger (in mean) for each day in different parts of day \n",
    "plt.figure(figsize=(20,8))\n",
    "sb.barplot(x=uber_fare_df_1['Day'],y=uber_fare_df_1['passenger_count'],hue=uber_fare_df_1['Day Part'],order=['Monday','Tuesday','Wednesday','Thursday','Friday','Saturday','Sunday'],estimator=sum)\n",
    "plt.ylabel('Passenger Count')\n",
    "plt.title('Day vs Passenger Count ')\n",
    "plt.show()"
   ]
  },
  {
   "cell_type": "code",
   "execution_count": 38,
   "metadata": {
    "execution": {
     "iopub.execute_input": "2022-01-13T10:41:05.049564Z",
     "iopub.status.busy": "2022-01-13T10:41:05.048738Z",
     "iopub.status.idle": "2022-01-13T10:41:07.398740Z",
     "shell.execute_reply": "2022-01-13T10:41:07.398140Z",
     "shell.execute_reply.started": "2022-01-13T09:07:59.077354Z"
    },
    "papermill": {
     "duration": 2.441422,
     "end_time": "2022-01-13T10:41:07.398895",
     "exception": false,
     "start_time": "2022-01-13T10:41:04.957473",
     "status": "completed"
    },
    "tags": []
   },
   "outputs": [
    {
     "data": {
      "image/png": "[encoded data removed]",
      "text/plain": [
       "<Figure size 1440x576 with 1 Axes>"
      ]
     },
     "metadata": {
      "needs_background": "light"
     },
     "output_type": "display_data"
    }
   ],
   "source": [
    "#study how much passenger (in mean) for each day in different parts of day \n",
    "plt.figure(figsize=(20,8))\n",
    "sb.barplot(x=uber_fare_df_1['Day'],y=uber_fare_df_1['distance_travelled (KM)'],hue=uber_fare_df_1['Day Part'],order=['Monday','Tuesday','Wednesday','Thursday','Friday','Saturday','Sunday'])\n",
    "plt.ylabel('Distance Travelled')\n",
    "plt.title('Day vs Distance Travelled ')\n",
    "plt.show()"
   ]
  },
  {
   "cell_type": "code",
   "execution_count": 39,
   "metadata": {
    "execution": {
     "iopub.execute_input": "2022-01-13T10:41:07.579360Z",
     "iopub.status.busy": "2022-01-13T10:41:07.578701Z",
     "iopub.status.idle": "2022-01-13T10:42:24.438033Z",
     "shell.execute_reply": "2022-01-13T10:42:24.438537Z",
     "shell.execute_reply.started": "2022-01-13T09:08:01.108879Z"
    },
    "papermill": {
     "duration": 76.952903,
     "end_time": "2022-01-13T10:42:24.438736",
     "exception": false,
     "start_time": "2022-01-13T10:41:07.485833",
     "status": "completed"
    },
    "tags": []
   },
   "outputs": [
    {
     "data": {
      "image/png": "[encoded data removed]",
      "text/plain": [
       "<Figure size 864x1440 with 1 Axes>"
      ]
     },
     "metadata": {
      "needs_background": "light"
     },
     "output_type": "display_data"
    }
   ],
   "source": [
    "#month wise study \n",
    "plt.figure(figsize=(12,20))\n",
    "plt.title('Month vs fare amount')\n",
    "sb.barplot(x=uber_fare_df_1['pickup_month'],y=uber_fare_df_1['fare_amount'],estimator=sum)\n",
    "plt.xlabel('Month')\n",
    "plt.ylabel('fare amount')\n",
    "plt.show()"
   ]
  },
  {
   "cell_type": "code",
   "execution_count": 40,
   "metadata": {
    "execution": {
     "iopub.execute_input": "2022-01-13T10:42:24.617259Z",
     "iopub.status.busy": "2022-01-13T10:42:24.616291Z",
     "iopub.status.idle": "2022-01-13T10:42:26.233597Z",
     "shell.execute_reply": "2022-01-13T10:42:26.234075Z",
     "shell.execute_reply.started": "2022-01-13T09:09:08.151187Z"
    },
    "papermill": {
     "duration": 1.708533,
     "end_time": "2022-01-13T10:42:26.234257",
     "exception": false,
     "start_time": "2022-01-13T10:42:24.525724",
     "status": "completed"
    },
    "tags": []
   },
   "outputs": [
    {
     "data": {
      "image/png": "[encoded data removed]",
      "text/plain": [
       "<Figure size 864x720 with 1 Axes>"
      ]
     },
     "metadata": {
      "needs_background": "light"
     },
     "output_type": "display_data"
    }
   ],
   "source": [
    "plt.figure(figsize=(12,10))\n",
    "plt.title('Month vs  distance travelled')\n",
    "sb.barplot(x=uber_fare_df_1['pickup_month'],y=uber_fare_df_1['distance_travelled (KM)'],estimator=np.mean)\n",
    "plt.xlabel('Month')\n",
    "plt.ylabel('Distance Travelled (KM)')\n",
    "plt.show()"
   ]
  },
  {
   "cell_type": "code",
   "execution_count": 41,
   "metadata": {
    "execution": {
     "iopub.execute_input": "2022-01-13T10:42:26.414855Z",
     "iopub.status.busy": "2022-01-13T10:42:26.413843Z",
     "iopub.status.idle": "2022-01-13T10:42:27.954153Z",
     "shell.execute_reply": "2022-01-13T10:42:27.954650Z",
     "shell.execute_reply.started": "2022-01-13T09:09:09.563531Z"
    },
    "papermill": {
     "duration": 1.632385,
     "end_time": "2022-01-13T10:42:27.954852",
     "exception": false,
     "start_time": "2022-01-13T10:42:26.322467",
     "status": "completed"
    },
    "tags": []
   },
   "outputs": [
    {
     "data": {
      "image/png": "[encoded data removed]",
      "text/plain": [
       "<Figure size 864x1440 with 1 Axes>"
      ]
     },
     "metadata": {
      "needs_background": "light"
     },
     "output_type": "display_data"
    }
   ],
   "source": [
    "#year wise study \n",
    "plt.figure(figsize=(12,20))\n",
    "plt.title('year vs fare amount')\n",
    "sb.barplot(x=uber_fare_df_1['pickup_year'],y=uber_fare_df_1['fare_amount'])\n",
    "plt.xlabel('Year')\n",
    "plt.ylabel('Average fare amount')\n",
    "plt.show()"
   ]
  },
  {
   "cell_type": "code",
   "execution_count": 42,
   "metadata": {
    "execution": {
     "iopub.execute_input": "2022-01-13T10:42:28.138890Z",
     "iopub.status.busy": "2022-01-13T10:42:28.137753Z",
     "iopub.status.idle": "2022-01-13T10:43:45.091237Z",
     "shell.execute_reply": "2022-01-13T10:43:45.091754Z",
     "shell.execute_reply.started": "2022-01-13T09:09:10.935796Z"
    },
    "papermill": {
     "duration": 77.047063,
     "end_time": "2022-01-13T10:43:45.091948",
     "exception": false,
     "start_time": "2022-01-13T10:42:28.044885",
     "status": "completed"
    },
    "tags": []
   },
   "outputs": [
    {
     "data": {
      "image/png": "[encoded data removed]",
      "text/plain": [
       "<Figure size 864x576 with 1 Axes>"
      ]
     },
     "metadata": {
      "needs_background": "light"
     },
     "output_type": "display_data"
    }
   ],
   "source": [
    "#year wise study \n",
    "plt.figure(figsize=(12,8))\n",
    "plt.title('year vs passenger count')\n",
    "sb.barplot(x=uber_fare_df_1['pickup_year'],y=uber_fare_df_1['passenger_count'],estimator=sum)\n",
    "plt.xlabel('Year')\n",
    "plt.ylabel('Total Passenger count')\n",
    "plt.show()"
   ]
  },
  {
   "cell_type": "code",
   "execution_count": 43,
   "metadata": {
    "execution": {
     "iopub.execute_input": "2022-01-13T10:43:45.275869Z",
     "iopub.status.busy": "2022-01-13T10:43:45.274888Z",
     "iopub.status.idle": "2022-01-13T10:43:46.809284Z",
     "shell.execute_reply": "2022-01-13T10:43:46.809853Z",
     "shell.execute_reply.started": "2022-01-13T09:10:18.790706Z"
    },
    "papermill": {
     "duration": 1.628039,
     "end_time": "2022-01-13T10:43:46.810036",
     "exception": false,
     "start_time": "2022-01-13T10:43:45.181997",
     "status": "completed"
    },
    "tags": []
   },
   "outputs": [
    {
     "data": {
      "image/png": "[encoded data removed]",
      "text/plain": [
       "<Figure size 864x576 with 1 Axes>"
      ]
     },
     "metadata": {
      "needs_background": "light"
     },
     "output_type": "display_data"
    }
   ],
   "source": [
    "#year wise study \n",
    "plt.figure(figsize=(12,8))\n",
    "plt.title('year vs average distance travelled')\n",
    "sb.barplot(x=uber_fare_df_1['pickup_year'],y=uber_fare_df_1['distance_travelled (KM)'])\n",
    "plt.xlabel('Year')\n",
    "plt.ylabel('Average Distance Travelled')\n",
    "plt.show()"
   ]
  },
  {
   "cell_type": "markdown",
   "metadata": {
    "papermill": {
     "duration": 0.097745,
     "end_time": "2022-01-13T10:43:47.018675",
     "exception": false,
     "start_time": "2022-01-13T10:43:46.920930",
     "status": "completed"
    },
    "tags": []
   },
   "source": [
    "#### Feature modification & Feature selection"
   ]
  },
  {
   "cell_type": "code",
   "execution_count": 44,
   "metadata": {
    "execution": {
     "iopub.execute_input": "2022-01-13T10:43:47.228597Z",
     "iopub.status.busy": "2022-01-13T10:43:47.227645Z",
     "iopub.status.idle": "2022-01-13T10:43:47.231073Z",
     "shell.execute_reply": "2022-01-13T10:43:47.231566Z",
     "shell.execute_reply.started": "2022-01-13T09:10:20.084375Z"
    },
    "papermill": {
     "duration": 0.120462,
     "end_time": "2022-01-13T10:43:47.231735",
     "exception": false,
     "start_time": "2022-01-13T10:43:47.111273",
     "status": "completed"
    },
    "tags": []
   },
   "outputs": [
    {
     "data": {
      "text/html": [
       "<div>\n",
       "<style scoped>\n",
       "    .dataframe tbody tr th:only-of-type {\n",
       "        vertical-align: middle;\n",
       "    }\n",
       "\n",
       "    .dataframe tbody tr th {\n",
       "        vertical-align: top;\n",
       "    }\n",
       "\n",
       "    .dataframe thead th {\n",
       "        text-align: right;\n",
       "    }\n",
       "</style>\n",
       "<table border=\"1\" class=\"dataframe\">\n",
       "  <thead>\n",
       "    <tr style=\"text-align: right;\">\n",
       "      <th></th>\n",
       "      <th>fare_amount</th>\n",
       "      <th>pickup_datetime</th>\n",
       "      <th>pickup_longitude</th>\n",
       "      <th>pickup_latitude</th>\n",
       "      <th>dropoff_longitude</th>\n",
       "      <th>dropoff_latitude</th>\n",
       "      <th>passenger_count</th>\n",
       "      <th>pickup_timehour</th>\n",
       "      <th>Day</th>\n",
       "      <th>Day Part</th>\n",
       "      <th>pickup_month</th>\n",
       "      <th>pickup_year</th>\n",
       "      <th>distance_travelled (KM)</th>\n",
       "    </tr>\n",
       "  </thead>\n",
       "  <tbody>\n",
       "    <tr>\n",
       "      <th>0</th>\n",
       "      <td>7.5</td>\n",
       "      <td>2015-05-07 19:52:06+00:00</td>\n",
       "      <td>-73.999817</td>\n",
       "      <td>40.738354</td>\n",
       "      <td>-73.999512</td>\n",
       "      <td>40.723217</td>\n",
       "      <td>1</td>\n",
       "      <td>19</td>\n",
       "      <td>Thursday</td>\n",
       "      <td>Evening</td>\n",
       "      <td>5</td>\n",
       "      <td>2015</td>\n",
       "      <td>1.683323</td>\n",
       "    </tr>\n",
       "    <tr>\n",
       "      <th>1</th>\n",
       "      <td>7.7</td>\n",
       "      <td>2009-07-17 20:04:56+00:00</td>\n",
       "      <td>-73.994355</td>\n",
       "      <td>40.728225</td>\n",
       "      <td>-73.994710</td>\n",
       "      <td>40.750325</td>\n",
       "      <td>1</td>\n",
       "      <td>20</td>\n",
       "      <td>Friday</td>\n",
       "      <td>Evening</td>\n",
       "      <td>7</td>\n",
       "      <td>2009</td>\n",
       "      <td>2.457590</td>\n",
       "    </tr>\n",
       "    <tr>\n",
       "      <th>2</th>\n",
       "      <td>12.9</td>\n",
       "      <td>2009-08-24 21:45:00+00:00</td>\n",
       "      <td>-74.005043</td>\n",
       "      <td>40.740770</td>\n",
       "      <td>-73.962565</td>\n",
       "      <td>40.772647</td>\n",
       "      <td>1</td>\n",
       "      <td>21</td>\n",
       "      <td>Monday</td>\n",
       "      <td>Evening</td>\n",
       "      <td>8</td>\n",
       "      <td>2009</td>\n",
       "      <td>5.036377</td>\n",
       "    </tr>\n",
       "    <tr>\n",
       "      <th>3</th>\n",
       "      <td>5.3</td>\n",
       "      <td>2009-06-26 08:22:21+00:00</td>\n",
       "      <td>-73.976124</td>\n",
       "      <td>40.790844</td>\n",
       "      <td>-73.965316</td>\n",
       "      <td>40.803349</td>\n",
       "      <td>3</td>\n",
       "      <td>8</td>\n",
       "      <td>Friday</td>\n",
       "      <td>Morning</td>\n",
       "      <td>6</td>\n",
       "      <td>2009</td>\n",
       "      <td>1.661683</td>\n",
       "    </tr>\n",
       "    <tr>\n",
       "      <th>4</th>\n",
       "      <td>16.0</td>\n",
       "      <td>2014-08-28 17:47:00+00:00</td>\n",
       "      <td>-73.925023</td>\n",
       "      <td>40.744085</td>\n",
       "      <td>-73.973082</td>\n",
       "      <td>40.761247</td>\n",
       "      <td>5</td>\n",
       "      <td>17</td>\n",
       "      <td>Thursday</td>\n",
       "      <td>Afternoon</td>\n",
       "      <td>8</td>\n",
       "      <td>2014</td>\n",
       "      <td>4.475450</td>\n",
       "    </tr>\n",
       "    <tr>\n",
       "      <th>...</th>\n",
       "      <td>...</td>\n",
       "      <td>...</td>\n",
       "      <td>...</td>\n",
       "      <td>...</td>\n",
       "      <td>...</td>\n",
       "      <td>...</td>\n",
       "      <td>...</td>\n",
       "      <td>...</td>\n",
       "      <td>...</td>\n",
       "      <td>...</td>\n",
       "      <td>...</td>\n",
       "      <td>...</td>\n",
       "      <td>...</td>\n",
       "    </tr>\n",
       "    <tr>\n",
       "      <th>199995</th>\n",
       "      <td>3.0</td>\n",
       "      <td>2012-10-28 10:49:00+00:00</td>\n",
       "      <td>-73.987042</td>\n",
       "      <td>40.739367</td>\n",
       "      <td>-73.986525</td>\n",
       "      <td>40.740297</td>\n",
       "      <td>1</td>\n",
       "      <td>10</td>\n",
       "      <td>Sunday</td>\n",
       "      <td>Morning</td>\n",
       "      <td>10</td>\n",
       "      <td>2012</td>\n",
       "      <td>0.112210</td>\n",
       "    </tr>\n",
       "    <tr>\n",
       "      <th>199996</th>\n",
       "      <td>7.5</td>\n",
       "      <td>2014-03-14 01:09:00+00:00</td>\n",
       "      <td>-73.984722</td>\n",
       "      <td>40.736837</td>\n",
       "      <td>-74.006672</td>\n",
       "      <td>40.739620</td>\n",
       "      <td>1</td>\n",
       "      <td>1</td>\n",
       "      <td>Friday</td>\n",
       "      <td>Night</td>\n",
       "      <td>3</td>\n",
       "      <td>2014</td>\n",
       "      <td>1.875050</td>\n",
       "    </tr>\n",
       "    <tr>\n",
       "      <th>199997</th>\n",
       "      <td>30.9</td>\n",
       "      <td>2009-06-29 00:42:00+00:00</td>\n",
       "      <td>-73.986017</td>\n",
       "      <td>40.756487</td>\n",
       "      <td>-73.858957</td>\n",
       "      <td>40.692588</td>\n",
       "      <td>2</td>\n",
       "      <td>0</td>\n",
       "      <td>Monday</td>\n",
       "      <td>Night</td>\n",
       "      <td>6</td>\n",
       "      <td>2009</td>\n",
       "      <td>12.850319</td>\n",
       "    </tr>\n",
       "    <tr>\n",
       "      <th>199998</th>\n",
       "      <td>14.5</td>\n",
       "      <td>2015-05-20 14:56:25+00:00</td>\n",
       "      <td>-73.997124</td>\n",
       "      <td>40.725452</td>\n",
       "      <td>-73.983215</td>\n",
       "      <td>40.695415</td>\n",
       "      <td>1</td>\n",
       "      <td>14</td>\n",
       "      <td>Wednesday</td>\n",
       "      <td>Afternoon</td>\n",
       "      <td>5</td>\n",
       "      <td>2015</td>\n",
       "      <td>3.539715</td>\n",
       "    </tr>\n",
       "    <tr>\n",
       "      <th>199999</th>\n",
       "      <td>14.1</td>\n",
       "      <td>2010-05-15 04:08:00+00:00</td>\n",
       "      <td>-73.984395</td>\n",
       "      <td>40.720077</td>\n",
       "      <td>-73.985508</td>\n",
       "      <td>40.768793</td>\n",
       "      <td>1</td>\n",
       "      <td>4</td>\n",
       "      <td>Saturday</td>\n",
       "      <td>Night</td>\n",
       "      <td>5</td>\n",
       "      <td>2010</td>\n",
       "      <td>5.417783</td>\n",
       "    </tr>\n",
       "  </tbody>\n",
       "</table>\n",
       "<p>195209 rows × 13 columns</p>\n",
       "</div>"
      ],
      "text/plain": [
       "        fare_amount           pickup_datetime  pickup_longitude  \\\n",
       "0               7.5 2015-05-07 19:52:06+00:00        -73.999817   \n",
       "1               7.7 2009-07-17 20:04:56+00:00        -73.994355   \n",
       "2              12.9 2009-08-24 21:45:00+00:00        -74.005043   \n",
       "3               5.3 2009-06-26 08:22:21+00:00        -73.976124   \n",
       "4              16.0 2014-08-28 17:47:00+00:00        -73.925023   \n",
       "...             ...                       ...               ...   \n",
       "199995          3.0 2012-10-28 10:49:00+00:00        -73.987042   \n",
       "199996          7.5 2014-03-14 01:09:00+00:00        -73.984722   \n",
       "199997         30.9 2009-06-29 00:42:00+00:00        -73.986017   \n",
       "199998         14.5 2015-05-20 14:56:25+00:00        -73.997124   \n",
       "199999         14.1 2010-05-15 04:08:00+00:00        -73.984395   \n",
       "\n",
       "        pickup_latitude  dropoff_longitude  dropoff_latitude  passenger_count  \\\n",
       "0             40.738354         -73.999512         40.723217                1   \n",
       "1             40.728225         -73.994710         40.750325                1   \n",
       "2             40.740770         -73.962565         40.772647                1   \n",
       "3             40.790844         -73.965316         40.803349                3   \n",
       "4             40.744085         -73.973082         40.761247                5   \n",
       "...                 ...                ...               ...              ...   \n",
       "199995        40.739367         -73.986525         40.740297                1   \n",
       "199996        40.736837         -74.006672         40.739620                1   \n",
       "199997        40.756487         -73.858957         40.692588                2   \n",
       "199998        40.725452         -73.983215         40.695415                1   \n",
       "199999        40.720077         -73.985508         40.768793                1   \n",
       "\n",
       "        pickup_timehour        Day   Day Part  pickup_month  pickup_year  \\\n",
       "0                    19   Thursday    Evening             5         2015   \n",
       "1                    20     Friday    Evening             7         2009   \n",
       "2                    21     Monday    Evening             8         2009   \n",
       "3                     8     Friday    Morning             6         2009   \n",
       "4                    17   Thursday  Afternoon             8         2014   \n",
       "...                 ...        ...        ...           ...          ...   \n",
       "199995               10     Sunday    Morning            10         2012   \n",
       "199996                1     Friday      Night             3         2014   \n",
       "199997                0     Monday      Night             6         2009   \n",
       "199998               14  Wednesday  Afternoon             5         2015   \n",
       "199999                4   Saturday      Night             5         2010   \n",
       "\n",
       "        distance_travelled (KM)  \n",
       "0                      1.683323  \n",
       "1                      2.457590  \n",
       "2                      5.036377  \n",
       "3                      1.661683  \n",
       "4                      4.475450  \n",
       "...                         ...  \n",
       "199995                 0.112210  \n",
       "199996                 1.875050  \n",
       "199997                12.850319  \n",
       "199998                 3.539715  \n",
       "199999                 5.417783  \n",
       "\n",
       "[195209 rows x 13 columns]"
      ]
     },
     "execution_count": 44,
     "metadata": {},
     "output_type": "execute_result"
    }
   ],
   "source": [
    "uber_fare_df_1"
   ]
  },
  {
   "cell_type": "code",
   "execution_count": 45,
   "metadata": {
    "execution": {
     "iopub.execute_input": "2022-01-13T10:43:47.419660Z",
     "iopub.status.busy": "2022-01-13T10:43:47.418749Z",
     "iopub.status.idle": "2022-01-13T10:43:47.432837Z",
     "shell.execute_reply": "2022-01-13T10:43:47.433387Z",
     "shell.execute_reply.started": "2022-01-13T09:10:20.11264Z"
    },
    "papermill": {
     "duration": 0.110338,
     "end_time": "2022-01-13T10:43:47.433578",
     "exception": false,
     "start_time": "2022-01-13T10:43:47.323240",
     "status": "completed"
    },
    "tags": []
   },
   "outputs": [],
   "source": [
    "uber_df_2= uber_fare_df_1.copy()"
   ]
  },
  {
   "cell_type": "code",
   "execution_count": 46,
   "metadata": {
    "execution": {
     "iopub.execute_input": "2022-01-13T10:43:47.627282Z",
     "iopub.status.busy": "2022-01-13T10:43:47.626608Z",
     "iopub.status.idle": "2022-01-13T10:43:47.637623Z",
     "shell.execute_reply": "2022-01-13T10:43:47.638174Z",
     "shell.execute_reply.started": "2022-01-13T07:33:58.182365Z"
    },
    "papermill": {
     "duration": 0.109013,
     "end_time": "2022-01-13T10:43:47.638354",
     "exception": false,
     "start_time": "2022-01-13T10:43:47.529341",
     "status": "completed"
    },
    "tags": []
   },
   "outputs": [],
   "source": [
    "X= uber_fare_df_1.drop(['pickup_datetime','pickup_longitude','pickup_latitude','dropoff_longitude','dropoff_latitude','pickup_timehour','fare_amount'],axis=1)\n",
    "y = uber_fare_df_1['fare_amount']"
   ]
  },
  {
   "cell_type": "code",
   "execution_count": 47,
   "metadata": {
    "execution": {
     "iopub.execute_input": "2022-01-13T10:43:47.828998Z",
     "iopub.status.busy": "2022-01-13T10:43:47.828191Z",
     "iopub.status.idle": "2022-01-13T10:43:47.973339Z",
     "shell.execute_reply": "2022-01-13T10:43:47.972601Z",
     "shell.execute_reply.started": "2022-01-13T07:33:58.19507Z"
    },
    "papermill": {
     "duration": 0.242835,
     "end_time": "2022-01-13T10:43:47.973504",
     "exception": false,
     "start_time": "2022-01-13T10:43:47.730669",
     "status": "completed"
    },
    "tags": []
   },
   "outputs": [
    {
     "data": {
      "text/html": [
       "<div>\n",
       "<style scoped>\n",
       "    .dataframe tbody tr th:only-of-type {\n",
       "        vertical-align: middle;\n",
       "    }\n",
       "\n",
       "    .dataframe tbody tr th {\n",
       "        vertical-align: top;\n",
       "    }\n",
       "\n",
       "    .dataframe thead th {\n",
       "        text-align: right;\n",
       "    }\n",
       "</style>\n",
       "<table border=\"1\" class=\"dataframe\">\n",
       "  <thead>\n",
       "    <tr style=\"text-align: right;\">\n",
       "      <th></th>\n",
       "      <th>fare_amount</th>\n",
       "      <th>pickup_datetime</th>\n",
       "      <th>pickup_longitude</th>\n",
       "      <th>pickup_latitude</th>\n",
       "      <th>dropoff_longitude</th>\n",
       "      <th>dropoff_latitude</th>\n",
       "      <th>passenger_count</th>\n",
       "      <th>pickup_timehour</th>\n",
       "      <th>Day</th>\n",
       "      <th>Day Part</th>\n",
       "      <th>...</th>\n",
       "      <th>distance_travelled (KM)</th>\n",
       "      <th>Day_Monday</th>\n",
       "      <th>Day_Saturday</th>\n",
       "      <th>Day_Sunday</th>\n",
       "      <th>Day_Thursday</th>\n",
       "      <th>Day_Tuesday</th>\n",
       "      <th>Day_Wednesday</th>\n",
       "      <th>Day Part_Evening</th>\n",
       "      <th>Day Part_Morning</th>\n",
       "      <th>Day Part_Night</th>\n",
       "    </tr>\n",
       "  </thead>\n",
       "  <tbody>\n",
       "    <tr>\n",
       "      <th>0</th>\n",
       "      <td>7.5</td>\n",
       "      <td>2015-05-07 19:52:06+00:00</td>\n",
       "      <td>-73.999817</td>\n",
       "      <td>40.738354</td>\n",
       "      <td>-73.999512</td>\n",
       "      <td>40.723217</td>\n",
       "      <td>1</td>\n",
       "      <td>19</td>\n",
       "      <td>Thursday</td>\n",
       "      <td>Evening</td>\n",
       "      <td>...</td>\n",
       "      <td>1.683323</td>\n",
       "      <td>0</td>\n",
       "      <td>0</td>\n",
       "      <td>0</td>\n",
       "      <td>1</td>\n",
       "      <td>0</td>\n",
       "      <td>0</td>\n",
       "      <td>1</td>\n",
       "      <td>0</td>\n",
       "      <td>0</td>\n",
       "    </tr>\n",
       "    <tr>\n",
       "      <th>1</th>\n",
       "      <td>7.7</td>\n",
       "      <td>2009-07-17 20:04:56+00:00</td>\n",
       "      <td>-73.994355</td>\n",
       "      <td>40.728225</td>\n",
       "      <td>-73.994710</td>\n",
       "      <td>40.750325</td>\n",
       "      <td>1</td>\n",
       "      <td>20</td>\n",
       "      <td>Friday</td>\n",
       "      <td>Evening</td>\n",
       "      <td>...</td>\n",
       "      <td>2.457590</td>\n",
       "      <td>0</td>\n",
       "      <td>0</td>\n",
       "      <td>0</td>\n",
       "      <td>0</td>\n",
       "      <td>0</td>\n",
       "      <td>0</td>\n",
       "      <td>1</td>\n",
       "      <td>0</td>\n",
       "      <td>0</td>\n",
       "    </tr>\n",
       "    <tr>\n",
       "      <th>2</th>\n",
       "      <td>12.9</td>\n",
       "      <td>2009-08-24 21:45:00+00:00</td>\n",
       "      <td>-74.005043</td>\n",
       "      <td>40.740770</td>\n",
       "      <td>-73.962565</td>\n",
       "      <td>40.772647</td>\n",
       "      <td>1</td>\n",
       "      <td>21</td>\n",
       "      <td>Monday</td>\n",
       "      <td>Evening</td>\n",
       "      <td>...</td>\n",
       "      <td>5.036377</td>\n",
       "      <td>1</td>\n",
       "      <td>0</td>\n",
       "      <td>0</td>\n",
       "      <td>0</td>\n",
       "      <td>0</td>\n",
       "      <td>0</td>\n",
       "      <td>1</td>\n",
       "      <td>0</td>\n",
       "      <td>0</td>\n",
       "    </tr>\n",
       "    <tr>\n",
       "      <th>3</th>\n",
       "      <td>5.3</td>\n",
       "      <td>2009-06-26 08:22:21+00:00</td>\n",
       "      <td>-73.976124</td>\n",
       "      <td>40.790844</td>\n",
       "      <td>-73.965316</td>\n",
       "      <td>40.803349</td>\n",
       "      <td>3</td>\n",
       "      <td>8</td>\n",
       "      <td>Friday</td>\n",
       "      <td>Morning</td>\n",
       "      <td>...</td>\n",
       "      <td>1.661683</td>\n",
       "      <td>0</td>\n",
       "      <td>0</td>\n",
       "      <td>0</td>\n",
       "      <td>0</td>\n",
       "      <td>0</td>\n",
       "      <td>0</td>\n",
       "      <td>0</td>\n",
       "      <td>1</td>\n",
       "      <td>0</td>\n",
       "    </tr>\n",
       "    <tr>\n",
       "      <th>4</th>\n",
       "      <td>16.0</td>\n",
       "      <td>2014-08-28 17:47:00+00:00</td>\n",
       "      <td>-73.925023</td>\n",
       "      <td>40.744085</td>\n",
       "      <td>-73.973082</td>\n",
       "      <td>40.761247</td>\n",
       "      <td>5</td>\n",
       "      <td>17</td>\n",
       "      <td>Thursday</td>\n",
       "      <td>Afternoon</td>\n",
       "      <td>...</td>\n",
       "      <td>4.475450</td>\n",
       "      <td>0</td>\n",
       "      <td>0</td>\n",
       "      <td>0</td>\n",
       "      <td>1</td>\n",
       "      <td>0</td>\n",
       "      <td>0</td>\n",
       "      <td>0</td>\n",
       "      <td>0</td>\n",
       "      <td>0</td>\n",
       "    </tr>\n",
       "    <tr>\n",
       "      <th>...</th>\n",
       "      <td>...</td>\n",
       "      <td>...</td>\n",
       "      <td>...</td>\n",
       "      <td>...</td>\n",
       "      <td>...</td>\n",
       "      <td>...</td>\n",
       "      <td>...</td>\n",
       "      <td>...</td>\n",
       "      <td>...</td>\n",
       "      <td>...</td>\n",
       "      <td>...</td>\n",
       "      <td>...</td>\n",
       "      <td>...</td>\n",
       "      <td>...</td>\n",
       "      <td>...</td>\n",
       "      <td>...</td>\n",
       "      <td>...</td>\n",
       "      <td>...</td>\n",
       "      <td>...</td>\n",
       "      <td>...</td>\n",
       "      <td>...</td>\n",
       "    </tr>\n",
       "    <tr>\n",
       "      <th>199995</th>\n",
       "      <td>3.0</td>\n",
       "      <td>2012-10-28 10:49:00+00:00</td>\n",
       "      <td>-73.987042</td>\n",
       "      <td>40.739367</td>\n",
       "      <td>-73.986525</td>\n",
       "      <td>40.740297</td>\n",
       "      <td>1</td>\n",
       "      <td>10</td>\n",
       "      <td>Sunday</td>\n",
       "      <td>Morning</td>\n",
       "      <td>...</td>\n",
       "      <td>0.112210</td>\n",
       "      <td>0</td>\n",
       "      <td>0</td>\n",
       "      <td>1</td>\n",
       "      <td>0</td>\n",
       "      <td>0</td>\n",
       "      <td>0</td>\n",
       "      <td>0</td>\n",
       "      <td>1</td>\n",
       "      <td>0</td>\n",
       "    </tr>\n",
       "    <tr>\n",
       "      <th>199996</th>\n",
       "      <td>7.5</td>\n",
       "      <td>2014-03-14 01:09:00+00:00</td>\n",
       "      <td>-73.984722</td>\n",
       "      <td>40.736837</td>\n",
       "      <td>-74.006672</td>\n",
       "      <td>40.739620</td>\n",
       "      <td>1</td>\n",
       "      <td>1</td>\n",
       "      <td>Friday</td>\n",
       "      <td>Night</td>\n",
       "      <td>...</td>\n",
       "      <td>1.875050</td>\n",
       "      <td>0</td>\n",
       "      <td>0</td>\n",
       "      <td>0</td>\n",
       "      <td>0</td>\n",
       "      <td>0</td>\n",
       "      <td>0</td>\n",
       "      <td>0</td>\n",
       "      <td>0</td>\n",
       "      <td>1</td>\n",
       "    </tr>\n",
       "    <tr>\n",
       "      <th>199997</th>\n",
       "      <td>30.9</td>\n",
       "      <td>2009-06-29 00:42:00+00:00</td>\n",
       "      <td>-73.986017</td>\n",
       "      <td>40.756487</td>\n",
       "      <td>-73.858957</td>\n",
       "      <td>40.692588</td>\n",
       "      <td>2</td>\n",
       "      <td>0</td>\n",
       "      <td>Monday</td>\n",
       "      <td>Night</td>\n",
       "      <td>...</td>\n",
       "      <td>12.850319</td>\n",
       "      <td>1</td>\n",
       "      <td>0</td>\n",
       "      <td>0</td>\n",
       "      <td>0</td>\n",
       "      <td>0</td>\n",
       "      <td>0</td>\n",
       "      <td>0</td>\n",
       "      <td>0</td>\n",
       "      <td>1</td>\n",
       "    </tr>\n",
       "    <tr>\n",
       "      <th>199998</th>\n",
       "      <td>14.5</td>\n",
       "      <td>2015-05-20 14:56:25+00:00</td>\n",
       "      <td>-73.997124</td>\n",
       "      <td>40.725452</td>\n",
       "      <td>-73.983215</td>\n",
       "      <td>40.695415</td>\n",
       "      <td>1</td>\n",
       "      <td>14</td>\n",
       "      <td>Wednesday</td>\n",
       "      <td>Afternoon</td>\n",
       "      <td>...</td>\n",
       "      <td>3.539715</td>\n",
       "      <td>0</td>\n",
       "      <td>0</td>\n",
       "      <td>0</td>\n",
       "      <td>0</td>\n",
       "      <td>0</td>\n",
       "      <td>1</td>\n",
       "      <td>0</td>\n",
       "      <td>0</td>\n",
       "      <td>0</td>\n",
       "    </tr>\n",
       "    <tr>\n",
       "      <th>199999</th>\n",
       "      <td>14.1</td>\n",
       "      <td>2010-05-15 04:08:00+00:00</td>\n",
       "      <td>-73.984395</td>\n",
       "      <td>40.720077</td>\n",
       "      <td>-73.985508</td>\n",
       "      <td>40.768793</td>\n",
       "      <td>1</td>\n",
       "      <td>4</td>\n",
       "      <td>Saturday</td>\n",
       "      <td>Night</td>\n",
       "      <td>...</td>\n",
       "      <td>5.417783</td>\n",
       "      <td>0</td>\n",
       "      <td>1</td>\n",
       "      <td>0</td>\n",
       "      <td>0</td>\n",
       "      <td>0</td>\n",
       "      <td>0</td>\n",
       "      <td>0</td>\n",
       "      <td>0</td>\n",
       "      <td>1</td>\n",
       "    </tr>\n",
       "  </tbody>\n",
       "</table>\n",
       "<p>195209 rows × 22 columns</p>\n",
       "</div>"
      ],
      "text/plain": [
       "        fare_amount           pickup_datetime  pickup_longitude  \\\n",
       "0               7.5 2015-05-07 19:52:06+00:00        -73.999817   \n",
       "1               7.7 2009-07-17 20:04:56+00:00        -73.994355   \n",
       "2              12.9 2009-08-24 21:45:00+00:00        -74.005043   \n",
       "3               5.3 2009-06-26 08:22:21+00:00        -73.976124   \n",
       "4              16.0 2014-08-28 17:47:00+00:00        -73.925023   \n",
       "...             ...                       ...               ...   \n",
       "199995          3.0 2012-10-28 10:49:00+00:00        -73.987042   \n",
       "199996          7.5 2014-03-14 01:09:00+00:00        -73.984722   \n",
       "199997         30.9 2009-06-29 00:42:00+00:00        -73.986017   \n",
       "199998         14.5 2015-05-20 14:56:25+00:00        -73.997124   \n",
       "199999         14.1 2010-05-15 04:08:00+00:00        -73.984395   \n",
       "\n",
       "        pickup_latitude  dropoff_longitude  dropoff_latitude  passenger_count  \\\n",
       "0             40.738354         -73.999512         40.723217                1   \n",
       "1             40.728225         -73.994710         40.750325                1   \n",
       "2             40.740770         -73.962565         40.772647                1   \n",
       "3             40.790844         -73.965316         40.803349                3   \n",
       "4             40.744085         -73.973082         40.761247                5   \n",
       "...                 ...                ...               ...              ...   \n",
       "199995        40.739367         -73.986525         40.740297                1   \n",
       "199996        40.736837         -74.006672         40.739620                1   \n",
       "199997        40.756487         -73.858957         40.692588                2   \n",
       "199998        40.725452         -73.983215         40.695415                1   \n",
       "199999        40.720077         -73.985508         40.768793                1   \n",
       "\n",
       "        pickup_timehour        Day   Day Part  ...  distance_travelled (KM)  \\\n",
       "0                    19   Thursday    Evening  ...                 1.683323   \n",
       "1                    20     Friday    Evening  ...                 2.457590   \n",
       "2                    21     Monday    Evening  ...                 5.036377   \n",
       "3                     8     Friday    Morning  ...                 1.661683   \n",
       "4                    17   Thursday  Afternoon  ...                 4.475450   \n",
       "...                 ...        ...        ...  ...                      ...   \n",
       "199995               10     Sunday    Morning  ...                 0.112210   \n",
       "199996                1     Friday      Night  ...                 1.875050   \n",
       "199997                0     Monday      Night  ...                12.850319   \n",
       "199998               14  Wednesday  Afternoon  ...                 3.539715   \n",
       "199999                4   Saturday      Night  ...                 5.417783   \n",
       "\n",
       "        Day_Monday  Day_Saturday  Day_Sunday  Day_Thursday  Day_Tuesday  \\\n",
       "0                0             0           0             1            0   \n",
       "1                0             0           0             0            0   \n",
       "2                1             0           0             0            0   \n",
       "3                0             0           0             0            0   \n",
       "4                0             0           0             1            0   \n",
       "...            ...           ...         ...           ...          ...   \n",
       "199995           0             0           1             0            0   \n",
       "199996           0             0           0             0            0   \n",
       "199997           1             0           0             0            0   \n",
       "199998           0             0           0             0            0   \n",
       "199999           0             1           0             0            0   \n",
       "\n",
       "        Day_Wednesday  Day Part_Evening  Day Part_Morning  Day Part_Night  \n",
       "0                   0                 1                 0               0  \n",
       "1                   0                 1                 0               0  \n",
       "2                   0                 1                 0               0  \n",
       "3                   0                 0                 1               0  \n",
       "4                   0                 0                 0               0  \n",
       "...               ...               ...               ...             ...  \n",
       "199995              0                 0                 1               0  \n",
       "199996              0                 0                 0               1  \n",
       "199997              0                 0                 0               1  \n",
       "199998              1                 0                 0               0  \n",
       "199999              0                 0                 0               1  \n",
       "\n",
       "[195209 rows x 22 columns]"
      ]
     },
     "execution_count": 47,
     "metadata": {},
     "output_type": "execute_result"
    }
   ],
   "source": [
    "df_temp= pd.get_dummies(uber_fare_df_1[['Day','Day Part']],drop_first=True)\n",
    "uber_fare_df_1 = pd.concat([uber_fare_df_1,df_temp],axis=1)\n",
    "uber_fare_df_1"
   ]
  },
  {
   "cell_type": "code",
   "execution_count": 48,
   "metadata": {
    "execution": {
     "iopub.execute_input": "2022-01-13T10:43:48.165679Z",
     "iopub.status.busy": "2022-01-13T10:43:48.164991Z",
     "iopub.status.idle": "2022-01-13T10:43:48.180917Z",
     "shell.execute_reply": "2022-01-13T10:43:48.181522Z",
     "shell.execute_reply.started": "2022-01-13T07:33:58.306659Z"
    },
    "papermill": {
     "duration": 0.114396,
     "end_time": "2022-01-13T10:43:48.181697",
     "exception": false,
     "start_time": "2022-01-13T10:43:48.067301",
     "status": "completed"
    },
    "tags": []
   },
   "outputs": [],
   "source": [
    "uber_fare_df_1.drop(['Day','Day Part'],axis=1,inplace=True)"
   ]
  },
  {
   "cell_type": "code",
   "execution_count": 49,
   "metadata": {
    "execution": {
     "iopub.execute_input": "2022-01-13T10:43:48.386866Z",
     "iopub.status.busy": "2022-01-13T10:43:48.385512Z",
     "iopub.status.idle": "2022-01-13T10:43:48.393715Z",
     "shell.execute_reply": "2022-01-13T10:43:48.394244Z",
     "shell.execute_reply.started": "2022-01-13T07:33:58.328888Z"
    },
    "papermill": {
     "duration": 0.113947,
     "end_time": "2022-01-13T10:43:48.394476",
     "exception": false,
     "start_time": "2022-01-13T10:43:48.280529",
     "status": "completed"
    },
    "tags": []
   },
   "outputs": [],
   "source": [
    "X= uber_fare_df_1.drop(['pickup_datetime','pickup_longitude','pickup_latitude','dropoff_longitude','dropoff_latitude','pickup_timehour','fare_amount'],axis=1)\n",
    "y = uber_fare_df_1['fare_amount']\n",
    "X_1=X.copy()\n"
   ]
  },
  {
   "cell_type": "code",
   "execution_count": 50,
   "metadata": {
    "execution": {
     "iopub.execute_input": "2022-01-13T10:43:48.585411Z",
     "iopub.status.busy": "2022-01-13T10:43:48.584349Z",
     "iopub.status.idle": "2022-01-13T10:43:52.331800Z",
     "shell.execute_reply": "2022-01-13T10:43:52.330848Z",
     "shell.execute_reply.started": "2022-01-13T07:33:58.340271Z"
    },
    "papermill": {
     "duration": 3.843965,
     "end_time": "2022-01-13T10:43:52.332064",
     "exception": false,
     "start_time": "2022-01-13T10:43:48.488099",
     "status": "completed"
    },
    "tags": []
   },
   "outputs": [
    {
     "data": {
      "text/html": [
       "<div>\n",
       "<style scoped>\n",
       "    .dataframe tbody tr th:only-of-type {\n",
       "        vertical-align: middle;\n",
       "    }\n",
       "\n",
       "    .dataframe tbody tr th {\n",
       "        vertical-align: top;\n",
       "    }\n",
       "\n",
       "    .dataframe thead th {\n",
       "        text-align: right;\n",
       "    }\n",
       "</style>\n",
       "<table border=\"1\" class=\"dataframe\">\n",
       "  <thead>\n",
       "    <tr style=\"text-align: right;\">\n",
       "      <th></th>\n",
       "      <th>Feature Name</th>\n",
       "      <th>Vif Factor</th>\n",
       "    </tr>\n",
       "  </thead>\n",
       "  <tbody>\n",
       "    <tr>\n",
       "      <th>0</th>\n",
       "      <td>passenger_count</td>\n",
       "      <td>2.683303</td>\n",
       "    </tr>\n",
       "    <tr>\n",
       "      <th>1</th>\n",
       "      <td>pickup_month</td>\n",
       "      <td>4.338310</td>\n",
       "    </tr>\n",
       "    <tr>\n",
       "      <th>2</th>\n",
       "      <td>pickup_year</td>\n",
       "      <td>15.469962</td>\n",
       "    </tr>\n",
       "    <tr>\n",
       "      <th>3</th>\n",
       "      <td>distance_travelled (KM)</td>\n",
       "      <td>1.860976</td>\n",
       "    </tr>\n",
       "    <tr>\n",
       "      <th>4</th>\n",
       "      <td>Day_Monday</td>\n",
       "      <td>1.820472</td>\n",
       "    </tr>\n",
       "    <tr>\n",
       "      <th>5</th>\n",
       "      <td>Day_Saturday</td>\n",
       "      <td>1.989928</td>\n",
       "    </tr>\n",
       "    <tr>\n",
       "      <th>6</th>\n",
       "      <td>Day_Sunday</td>\n",
       "      <td>1.867957</td>\n",
       "    </tr>\n",
       "    <tr>\n",
       "      <th>7</th>\n",
       "      <td>Day_Thursday</td>\n",
       "      <td>1.973527</td>\n",
       "    </tr>\n",
       "    <tr>\n",
       "      <th>8</th>\n",
       "      <td>Day_Tuesday</td>\n",
       "      <td>1.914514</td>\n",
       "    </tr>\n",
       "    <tr>\n",
       "      <th>9</th>\n",
       "      <td>Day_Wednesday</td>\n",
       "      <td>1.940982</td>\n",
       "    </tr>\n",
       "    <tr>\n",
       "      <th>10</th>\n",
       "      <td>Day Part_Evening</td>\n",
       "      <td>2.012880</td>\n",
       "    </tr>\n",
       "    <tr>\n",
       "      <th>11</th>\n",
       "      <td>Day Part_Morning</td>\n",
       "      <td>2.278168</td>\n",
       "    </tr>\n",
       "    <tr>\n",
       "      <th>12</th>\n",
       "      <td>Day Part_Night</td>\n",
       "      <td>1.965373</td>\n",
       "    </tr>\n",
       "  </tbody>\n",
       "</table>\n",
       "</div>"
      ],
      "text/plain": [
       "               Feature Name  Vif Factor\n",
       "0           passenger_count    2.683303\n",
       "1              pickup_month    4.338310\n",
       "2               pickup_year   15.469962\n",
       "3   distance_travelled (KM)    1.860976\n",
       "4                Day_Monday    1.820472\n",
       "5              Day_Saturday    1.989928\n",
       "6                Day_Sunday    1.867957\n",
       "7              Day_Thursday    1.973527\n",
       "8               Day_Tuesday    1.914514\n",
       "9             Day_Wednesday    1.940982\n",
       "10         Day Part_Evening    2.012880\n",
       "11         Day Part_Morning    2.278168\n",
       "12           Day Part_Night    1.965373"
      ]
     },
     "execution_count": 50,
     "metadata": {},
     "output_type": "execute_result"
    }
   ],
   "source": [
    "def vif_creation(X):\n",
    "    vif_df= pd.DataFrame()\n",
    "    vif_df['Feature Name'] = X.columns\n",
    "    vif_df['Vif Factor']= [variance_inflation_factor(X.values,i) for i in range(X.shape[1])]\n",
    "    return vif_df\n",
    "\n",
    "vif_df= vif_creation(X_1)\n",
    "vif_df"
   ]
  },
  {
   "cell_type": "code",
   "execution_count": 51,
   "metadata": {
    "execution": {
     "iopub.execute_input": "2022-01-13T10:43:52.573433Z",
     "iopub.status.busy": "2022-01-13T10:43:52.572716Z",
     "iopub.status.idle": "2022-01-13T10:43:54.903008Z",
     "shell.execute_reply": "2022-01-13T10:43:54.903929Z",
     "shell.execute_reply.started": "2022-01-13T07:34:02.052525Z"
    },
    "papermill": {
     "duration": 2.429696,
     "end_time": "2022-01-13T10:43:54.904227",
     "exception": false,
     "start_time": "2022-01-13T10:43:52.474531",
     "status": "completed"
    },
    "tags": []
   },
   "outputs": [
    {
     "data": {
      "text/html": [
       "<div>\n",
       "<style scoped>\n",
       "    .dataframe tbody tr th:only-of-type {\n",
       "        vertical-align: middle;\n",
       "    }\n",
       "\n",
       "    .dataframe tbody tr th {\n",
       "        vertical-align: top;\n",
       "    }\n",
       "\n",
       "    .dataframe thead th {\n",
       "        text-align: right;\n",
       "    }\n",
       "</style>\n",
       "<table border=\"1\" class=\"dataframe\">\n",
       "  <thead>\n",
       "    <tr style=\"text-align: right;\">\n",
       "      <th></th>\n",
       "      <th>Feature Name</th>\n",
       "      <th>Vif Factor</th>\n",
       "    </tr>\n",
       "  </thead>\n",
       "  <tbody>\n",
       "    <tr>\n",
       "      <th>0</th>\n",
       "      <td>passenger_count</td>\n",
       "      <td>2.321785</td>\n",
       "    </tr>\n",
       "    <tr>\n",
       "      <th>1</th>\n",
       "      <td>distance_travelled (KM)</td>\n",
       "      <td>1.743921</td>\n",
       "    </tr>\n",
       "    <tr>\n",
       "      <th>2</th>\n",
       "      <td>Day_Monday</td>\n",
       "      <td>1.373170</td>\n",
       "    </tr>\n",
       "    <tr>\n",
       "      <th>3</th>\n",
       "      <td>Day_Saturday</td>\n",
       "      <td>1.476097</td>\n",
       "    </tr>\n",
       "    <tr>\n",
       "      <th>4</th>\n",
       "      <td>Day_Sunday</td>\n",
       "      <td>1.419891</td>\n",
       "    </tr>\n",
       "    <tr>\n",
       "      <th>5</th>\n",
       "      <td>Day_Thursday</td>\n",
       "      <td>1.455754</td>\n",
       "    </tr>\n",
       "    <tr>\n",
       "      <th>6</th>\n",
       "      <td>Day_Tuesday</td>\n",
       "      <td>1.416736</td>\n",
       "    </tr>\n",
       "    <tr>\n",
       "      <th>7</th>\n",
       "      <td>Day_Wednesday</td>\n",
       "      <td>1.431394</td>\n",
       "    </tr>\n",
       "    <tr>\n",
       "      <th>8</th>\n",
       "      <td>Day Part_Evening</td>\n",
       "      <td>1.656385</td>\n",
       "    </tr>\n",
       "    <tr>\n",
       "      <th>9</th>\n",
       "      <td>Day Part_Morning</td>\n",
       "      <td>1.805066</td>\n",
       "    </tr>\n",
       "    <tr>\n",
       "      <th>10</th>\n",
       "      <td>Day Part_Night</td>\n",
       "      <td>1.653602</td>\n",
       "    </tr>\n",
       "  </tbody>\n",
       "</table>\n",
       "</div>"
      ],
      "text/plain": [
       "               Feature Name  Vif Factor\n",
       "0           passenger_count    2.321785\n",
       "1   distance_travelled (KM)    1.743921\n",
       "2                Day_Monday    1.373170\n",
       "3              Day_Saturday    1.476097\n",
       "4                Day_Sunday    1.419891\n",
       "5              Day_Thursday    1.455754\n",
       "6               Day_Tuesday    1.416736\n",
       "7             Day_Wednesday    1.431394\n",
       "8          Day Part_Evening    1.656385\n",
       "9          Day Part_Morning    1.805066\n",
       "10           Day Part_Night    1.653602"
      ]
     },
     "execution_count": 51,
     "metadata": {},
     "output_type": "execute_result"
    }
   ],
   "source": [
    "X_1.drop(['pickup_year','pickup_month'],axis=1,inplace=True)\n",
    "vif_df=vif_creation(X_1)\n",
    "vif_df"
   ]
  },
  {
   "cell_type": "code",
   "execution_count": 52,
   "metadata": {
    "execution": {
     "iopub.execute_input": "2022-01-13T10:43:55.145353Z",
     "iopub.status.busy": "2022-01-13T10:43:55.144703Z",
     "iopub.status.idle": "2022-01-13T10:43:55.177689Z",
     "shell.execute_reply": "2022-01-13T10:43:55.178182Z",
     "shell.execute_reply.started": "2022-01-13T07:34:03.948539Z"
    },
    "papermill": {
     "duration": 0.132225,
     "end_time": "2022-01-13T10:43:55.178362",
     "exception": false,
     "start_time": "2022-01-13T10:43:55.046137",
     "status": "completed"
    },
    "tags": []
   },
   "outputs": [
    {
     "data": {
      "text/plain": [
       "passenger_count            1.980725\n",
       "pickup_month               0.107955\n",
       "pickup_year                0.061436\n",
       "distance_travelled (KM)    2.945248\n",
       "Day_Monday                 2.253445\n",
       "Day_Saturday               1.945656\n",
       "Day_Sunday                 2.171049\n",
       "Day_Thursday               1.958010\n",
       "Day_Tuesday                2.066908\n",
       "Day_Wednesday              2.016853\n",
       "Day Part_Evening           1.221164\n",
       "Day Part_Morning           0.870902\n",
       "Day Part_Night             1.329978\n",
       "dtype: float64"
      ]
     },
     "execution_count": 52,
     "metadata": {},
     "output_type": "execute_result"
    }
   ],
   "source": [
    "X.skew(axis=0)"
   ]
  },
  {
   "cell_type": "code",
   "execution_count": 53,
   "metadata": {
    "execution": {
     "iopub.execute_input": "2022-01-13T10:43:55.369956Z",
     "iopub.status.busy": "2022-01-13T10:43:55.369260Z",
     "iopub.status.idle": "2022-01-13T10:43:55.435955Z",
     "shell.execute_reply": "2022-01-13T10:43:55.435368Z",
     "shell.execute_reply.started": "2022-01-13T07:34:04.001042Z"
    },
    "papermill": {
     "duration": 0.163647,
     "end_time": "2022-01-13T10:43:55.436119",
     "exception": false,
     "start_time": "2022-01-13T10:43:55.272472",
     "status": "completed"
    },
    "tags": []
   },
   "outputs": [],
   "source": [
    "from sklearn.preprocessing import MinMaxScaler\n",
    "scaler=MinMaxScaler()"
   ]
  },
  {
   "cell_type": "code",
   "execution_count": 54,
   "metadata": {
    "execution": {
     "iopub.execute_input": "2022-01-13T10:43:55.628234Z",
     "iopub.status.busy": "2022-01-13T10:43:55.627189Z",
     "iopub.status.idle": "2022-01-13T10:43:55.708619Z",
     "shell.execute_reply": "2022-01-13T10:43:55.708094Z",
     "shell.execute_reply.started": "2022-01-13T07:34:04.06984Z"
    },
    "papermill": {
     "duration": 0.178808,
     "end_time": "2022-01-13T10:43:55.708754",
     "exception": false,
     "start_time": "2022-01-13T10:43:55.529946",
     "status": "completed"
    },
    "tags": []
   },
   "outputs": [
    {
     "name": "stderr",
     "output_type": "stream",
     "text": [
      "/opt/conda/lib/python3.7/site-packages/ipykernel_launcher.py:4: SettingWithCopyWarning: \n",
      "A value is trying to be set on a copy of a slice from a DataFrame.\n",
      "Try using .loc[row_indexer,col_indexer] = value instead\n",
      "\n",
      "See the caveats in the documentation: https://pandas.pydata.org/pandas-docs/stable/user_guide/indexing.html#returning-a-view-versus-a-copy\n",
      "  after removing the cwd from sys.path.\n",
      "/opt/conda/lib/python3.7/site-packages/ipykernel_launcher.py:5: SettingWithCopyWarning: \n",
      "A value is trying to be set on a copy of a slice from a DataFrame.\n",
      "Try using .loc[row_indexer,col_indexer] = value instead\n",
      "\n",
      "See the caveats in the documentation: https://pandas.pydata.org/pandas-docs/stable/user_guide/indexing.html#returning-a-view-versus-a-copy\n",
      "  \"\"\"\n"
     ]
    }
   ],
   "source": [
    "from sklearn.model_selection import train_test_split\n",
    "#X_1=sm.add_constant(X_1)\n",
    "X_train,X_test,y_train,y_test= train_test_split(X_1,y,test_size=0.3,random_state=100)\n",
    "X_train['distance_travelled (KM)']=scaler.fit_transform(X_train['distance_travelled (KM)'].values.reshape(-1,1))\n",
    "X_test['distance_travelled (KM)'] = scaler.transform(X_test['distance_travelled (KM)'].values.reshape(-1,1))"
   ]
  },
  {
   "cell_type": "code",
   "execution_count": null,
   "metadata": {
    "papermill": {
     "duration": 0.094497,
     "end_time": "2022-01-13T10:43:55.898064",
     "exception": false,
     "start_time": "2022-01-13T10:43:55.803567",
     "status": "completed"
    },
    "tags": []
   },
   "outputs": [],
   "source": []
  },
  {
   "cell_type": "code",
   "execution_count": 55,
   "metadata": {
    "execution": {
     "iopub.execute_input": "2022-01-13T10:43:56.092524Z",
     "iopub.status.busy": "2022-01-13T10:43:56.091910Z",
     "iopub.status.idle": "2022-01-13T10:43:56.163118Z",
     "shell.execute_reply": "2022-01-13T10:43:56.162579Z",
     "shell.execute_reply.started": "2022-01-13T07:34:04.133051Z"
    },
    "papermill": {
     "duration": 0.169155,
     "end_time": "2022-01-13T10:43:56.163267",
     "exception": false,
     "start_time": "2022-01-13T10:43:55.994112",
     "status": "completed"
    },
    "tags": []
   },
   "outputs": [
    {
     "data": {
      "text/html": [
       "<div>\n",
       "<style scoped>\n",
       "    .dataframe tbody tr th:only-of-type {\n",
       "        vertical-align: middle;\n",
       "    }\n",
       "\n",
       "    .dataframe tbody tr th {\n",
       "        vertical-align: top;\n",
       "    }\n",
       "\n",
       "    .dataframe thead th {\n",
       "        text-align: right;\n",
       "    }\n",
       "</style>\n",
       "<table border=\"1\" class=\"dataframe\">\n",
       "  <thead>\n",
       "    <tr style=\"text-align: right;\">\n",
       "      <th></th>\n",
       "      <th>passenger_count</th>\n",
       "      <th>distance_travelled (KM)</th>\n",
       "      <th>Day_Monday</th>\n",
       "      <th>Day_Saturday</th>\n",
       "      <th>Day_Sunday</th>\n",
       "      <th>Day_Thursday</th>\n",
       "      <th>Day_Tuesday</th>\n",
       "      <th>Day_Wednesday</th>\n",
       "      <th>Day Part_Evening</th>\n",
       "      <th>Day Part_Morning</th>\n",
       "      <th>Day Part_Night</th>\n",
       "    </tr>\n",
       "  </thead>\n",
       "  <tbody>\n",
       "    <tr>\n",
       "      <th>count</th>\n",
       "      <td>136646.000000</td>\n",
       "      <td>136646.000000</td>\n",
       "      <td>136646.000000</td>\n",
       "      <td>136646.000000</td>\n",
       "      <td>136646.000000</td>\n",
       "      <td>136646.000000</td>\n",
       "      <td>136646.000000</td>\n",
       "      <td>136646.000000</td>\n",
       "      <td>136646.000000</td>\n",
       "      <td>136646.000000</td>\n",
       "      <td>136646.000000</td>\n",
       "    </tr>\n",
       "    <tr>\n",
       "      <th>mean</th>\n",
       "      <td>1.690997</td>\n",
       "      <td>0.068195</td>\n",
       "      <td>0.125426</td>\n",
       "      <td>0.151918</td>\n",
       "      <td>0.131537</td>\n",
       "      <td>0.150506</td>\n",
       "      <td>0.141029</td>\n",
       "      <td>0.144834</td>\n",
       "      <td>0.239422</td>\n",
       "      <td>0.300689</td>\n",
       "      <td>0.223014</td>\n",
       "    </tr>\n",
       "    <tr>\n",
       "      <th>std</th>\n",
       "      <td>1.307087</td>\n",
       "      <td>0.073951</td>\n",
       "      <td>0.331203</td>\n",
       "      <td>0.358943</td>\n",
       "      <td>0.337988</td>\n",
       "      <td>0.357568</td>\n",
       "      <td>0.348052</td>\n",
       "      <td>0.351935</td>\n",
       "      <td>0.426732</td>\n",
       "      <td>0.458559</td>\n",
       "      <td>0.416269</td>\n",
       "    </tr>\n",
       "    <tr>\n",
       "      <th>min</th>\n",
       "      <td>1.000000</td>\n",
       "      <td>0.000000</td>\n",
       "      <td>0.000000</td>\n",
       "      <td>0.000000</td>\n",
       "      <td>0.000000</td>\n",
       "      <td>0.000000</td>\n",
       "      <td>0.000000</td>\n",
       "      <td>0.000000</td>\n",
       "      <td>0.000000</td>\n",
       "      <td>0.000000</td>\n",
       "      <td>0.000000</td>\n",
       "    </tr>\n",
       "    <tr>\n",
       "      <th>25%</th>\n",
       "      <td>1.000000</td>\n",
       "      <td>0.025808</td>\n",
       "      <td>0.000000</td>\n",
       "      <td>0.000000</td>\n",
       "      <td>0.000000</td>\n",
       "      <td>0.000000</td>\n",
       "      <td>0.000000</td>\n",
       "      <td>0.000000</td>\n",
       "      <td>0.000000</td>\n",
       "      <td>0.000000</td>\n",
       "      <td>0.000000</td>\n",
       "    </tr>\n",
       "    <tr>\n",
       "      <th>50%</th>\n",
       "      <td>1.000000</td>\n",
       "      <td>0.044332</td>\n",
       "      <td>0.000000</td>\n",
       "      <td>0.000000</td>\n",
       "      <td>0.000000</td>\n",
       "      <td>0.000000</td>\n",
       "      <td>0.000000</td>\n",
       "      <td>0.000000</td>\n",
       "      <td>0.000000</td>\n",
       "      <td>0.000000</td>\n",
       "      <td>0.000000</td>\n",
       "    </tr>\n",
       "    <tr>\n",
       "      <th>75%</th>\n",
       "      <td>2.000000</td>\n",
       "      <td>0.080301</td>\n",
       "      <td>0.000000</td>\n",
       "      <td>0.000000</td>\n",
       "      <td>0.000000</td>\n",
       "      <td>0.000000</td>\n",
       "      <td>0.000000</td>\n",
       "      <td>0.000000</td>\n",
       "      <td>0.000000</td>\n",
       "      <td>1.000000</td>\n",
       "      <td>0.000000</td>\n",
       "    </tr>\n",
       "    <tr>\n",
       "      <th>max</th>\n",
       "      <td>6.000000</td>\n",
       "      <td>1.000000</td>\n",
       "      <td>1.000000</td>\n",
       "      <td>1.000000</td>\n",
       "      <td>1.000000</td>\n",
       "      <td>1.000000</td>\n",
       "      <td>1.000000</td>\n",
       "      <td>1.000000</td>\n",
       "      <td>1.000000</td>\n",
       "      <td>1.000000</td>\n",
       "      <td>1.000000</td>\n",
       "    </tr>\n",
       "  </tbody>\n",
       "</table>\n",
       "</div>"
      ],
      "text/plain": [
       "       passenger_count  distance_travelled (KM)     Day_Monday   Day_Saturday  \\\n",
       "count    136646.000000            136646.000000  136646.000000  136646.000000   \n",
       "mean          1.690997                 0.068195       0.125426       0.151918   \n",
       "std           1.307087                 0.073951       0.331203       0.358943   \n",
       "min           1.000000                 0.000000       0.000000       0.000000   \n",
       "25%           1.000000                 0.025808       0.000000       0.000000   \n",
       "50%           1.000000                 0.044332       0.000000       0.000000   \n",
       "75%           2.000000                 0.080301       0.000000       0.000000   \n",
       "max           6.000000                 1.000000       1.000000       1.000000   \n",
       "\n",
       "          Day_Sunday   Day_Thursday    Day_Tuesday  Day_Wednesday  \\\n",
       "count  136646.000000  136646.000000  136646.000000  136646.000000   \n",
       "mean        0.131537       0.150506       0.141029       0.144834   \n",
       "std         0.337988       0.357568       0.348052       0.351935   \n",
       "min         0.000000       0.000000       0.000000       0.000000   \n",
       "25%         0.000000       0.000000       0.000000       0.000000   \n",
       "50%         0.000000       0.000000       0.000000       0.000000   \n",
       "75%         0.000000       0.000000       0.000000       0.000000   \n",
       "max         1.000000       1.000000       1.000000       1.000000   \n",
       "\n",
       "       Day Part_Evening  Day Part_Morning  Day Part_Night  \n",
       "count     136646.000000     136646.000000   136646.000000  \n",
       "mean           0.239422          0.300689        0.223014  \n",
       "std            0.426732          0.458559        0.416269  \n",
       "min            0.000000          0.000000        0.000000  \n",
       "25%            0.000000          0.000000        0.000000  \n",
       "50%            0.000000          0.000000        0.000000  \n",
       "75%            0.000000          1.000000        0.000000  \n",
       "max            1.000000          1.000000        1.000000  "
      ]
     },
     "execution_count": 55,
     "metadata": {},
     "output_type": "execute_result"
    }
   ],
   "source": [
    "X_train.describe()"
   ]
  },
  {
   "cell_type": "markdown",
   "metadata": {
    "papermill": {
     "duration": 0.095533,
     "end_time": "2022-01-13T10:43:56.356117",
     "exception": false,
     "start_time": "2022-01-13T10:43:56.260584",
     "status": "completed"
    },
    "tags": []
   },
   "source": [
    "### Linear Regression Model"
   ]
  },
  {
   "cell_type": "code",
   "execution_count": 56,
   "metadata": {
    "execution": {
     "iopub.execute_input": "2022-01-13T10:43:56.549893Z",
     "iopub.status.busy": "2022-01-13T10:43:56.549250Z",
     "iopub.status.idle": "2022-01-13T10:43:56.672317Z",
     "shell.execute_reply": "2022-01-13T10:43:56.672797Z",
     "shell.execute_reply.started": "2022-01-13T07:34:04.194616Z"
    },
    "papermill": {
     "duration": 0.221295,
     "end_time": "2022-01-13T10:43:56.672980",
     "exception": false,
     "start_time": "2022-01-13T10:43:56.451685",
     "status": "completed"
    },
    "tags": []
   },
   "outputs": [
    {
     "data": {
      "text/plain": [
       "LinearRegression()"
      ]
     },
     "execution_count": 56,
     "metadata": {},
     "output_type": "execute_result"
    }
   ],
   "source": [
    "##model building \n",
    "from sklearn.linear_model import LinearRegression\n",
    "lr_model= LinearRegression()\n",
    "lr_model.fit(X_train,y_train)"
   ]
  },
  {
   "cell_type": "code",
   "execution_count": 57,
   "metadata": {
    "execution": {
     "iopub.execute_input": "2022-01-13T10:43:56.882567Z",
     "iopub.status.busy": "2022-01-13T10:43:56.875192Z",
     "iopub.status.idle": "2022-01-13T10:43:56.891697Z",
     "shell.execute_reply": "2022-01-13T10:43:56.892610Z",
     "shell.execute_reply.started": "2022-01-13T07:34:04.294616Z"
    },
    "papermill": {
     "duration": 0.123292,
     "end_time": "2022-01-13T10:43:56.892897",
     "exception": false,
     "start_time": "2022-01-13T10:43:56.769605",
     "status": "completed"
    },
    "tags": []
   },
   "outputs": [
    {
     "name": "stdout",
     "output_type": "stream",
     "text": [
      "The train accurcay of linear regression model is 0.7233943738807849 and test score is 0.7570552240821654\n"
     ]
    }
   ],
   "source": [
    "print(f'The train accurcay of linear regression model is {lr_model.score(X_train,y_train)} and test score is {lr_model.score(X_test,y_test)}')"
   ]
  },
  {
   "cell_type": "code",
   "execution_count": 58,
   "metadata": {
    "execution": {
     "iopub.execute_input": "2022-01-13T10:43:57.143703Z",
     "iopub.status.busy": "2022-01-13T10:43:57.143030Z",
     "iopub.status.idle": "2022-01-13T10:43:57.145361Z",
     "shell.execute_reply": "2022-01-13T10:43:57.144585Z",
     "shell.execute_reply.started": "2022-01-13T07:34:04.319048Z"
    },
    "papermill": {
     "duration": 0.102947,
     "end_time": "2022-01-13T10:43:57.145575",
     "exception": false,
     "start_time": "2022-01-13T10:43:57.042628",
     "status": "completed"
    },
    "tags": []
   },
   "outputs": [],
   "source": [
    "#model seems to be good but preents overfitting.But needs to be improved"
   ]
  },
  {
   "cell_type": "code",
   "execution_count": null,
   "metadata": {
    "papermill": {
     "duration": 0.095908,
     "end_time": "2022-01-13T10:43:57.337273",
     "exception": false,
     "start_time": "2022-01-13T10:43:57.241365",
     "status": "completed"
    },
    "tags": []
   },
   "outputs": [],
   "source": []
  },
  {
   "cell_type": "markdown",
   "metadata": {
    "papermill": {
     "duration": 0.095513,
     "end_time": "2022-01-13T10:43:57.529033",
     "exception": false,
     "start_time": "2022-01-13T10:43:57.433520",
     "status": "completed"
    },
    "tags": []
   },
   "source": [
    "### KNN "
   ]
  },
  {
   "cell_type": "code",
   "execution_count": 59,
   "metadata": {
    "execution": {
     "iopub.execute_input": "2022-01-13T10:43:57.727751Z",
     "iopub.status.busy": "2022-01-13T10:43:57.727104Z",
     "iopub.status.idle": "2022-01-13T10:43:57.733983Z",
     "shell.execute_reply": "2022-01-13T10:43:57.733375Z",
     "shell.execute_reply.started": "2022-01-13T07:34:04.332393Z"
    },
    "papermill": {
     "duration": 0.107533,
     "end_time": "2022-01-13T10:43:57.734129",
     "exception": false,
     "start_time": "2022-01-13T10:43:57.626596",
     "status": "completed"
    },
    "tags": []
   },
   "outputs": [],
   "source": [
    "X_2= X.copy()\n",
    "\n",
    "X_2.drop(['pickup_year','pickup_month','passenger_count'],axis=1,inplace=True)"
   ]
  },
  {
   "cell_type": "code",
   "execution_count": 60,
   "metadata": {
    "execution": {
     "iopub.execute_input": "2022-01-13T10:43:57.958528Z",
     "iopub.status.busy": "2022-01-13T10:43:57.957875Z",
     "iopub.status.idle": "2022-01-13T10:43:59.749231Z",
     "shell.execute_reply": "2022-01-13T10:43:59.750284Z",
     "shell.execute_reply.started": "2022-01-13T07:34:04.347651Z"
    },
    "papermill": {
     "duration": 1.905772,
     "end_time": "2022-01-13T10:43:59.750587",
     "exception": false,
     "start_time": "2022-01-13T10:43:57.844815",
     "status": "completed"
    },
    "tags": []
   },
   "outputs": [
    {
     "data": {
      "text/html": [
       "<div>\n",
       "<style scoped>\n",
       "    .dataframe tbody tr th:only-of-type {\n",
       "        vertical-align: middle;\n",
       "    }\n",
       "\n",
       "    .dataframe tbody tr th {\n",
       "        vertical-align: top;\n",
       "    }\n",
       "\n",
       "    .dataframe thead th {\n",
       "        text-align: right;\n",
       "    }\n",
       "</style>\n",
       "<table border=\"1\" class=\"dataframe\">\n",
       "  <thead>\n",
       "    <tr style=\"text-align: right;\">\n",
       "      <th></th>\n",
       "      <th>Feature Name</th>\n",
       "      <th>Vif Factor</th>\n",
       "    </tr>\n",
       "  </thead>\n",
       "  <tbody>\n",
       "    <tr>\n",
       "      <th>0</th>\n",
       "      <td>distance_travelled (KM)</td>\n",
       "      <td>1.723150</td>\n",
       "    </tr>\n",
       "    <tr>\n",
       "      <th>1</th>\n",
       "      <td>Day_Monday</td>\n",
       "      <td>1.307179</td>\n",
       "    </tr>\n",
       "    <tr>\n",
       "      <th>2</th>\n",
       "      <td>Day_Saturday</td>\n",
       "      <td>1.377700</td>\n",
       "    </tr>\n",
       "    <tr>\n",
       "      <th>3</th>\n",
       "      <td>Day_Sunday</td>\n",
       "      <td>1.337157</td>\n",
       "    </tr>\n",
       "    <tr>\n",
       "      <th>4</th>\n",
       "      <td>Day_Thursday</td>\n",
       "      <td>1.379269</td>\n",
       "    </tr>\n",
       "    <tr>\n",
       "      <th>5</th>\n",
       "      <td>Day_Tuesday</td>\n",
       "      <td>1.343517</td>\n",
       "    </tr>\n",
       "    <tr>\n",
       "      <th>6</th>\n",
       "      <td>Day_Wednesday</td>\n",
       "      <td>1.357944</td>\n",
       "    </tr>\n",
       "    <tr>\n",
       "      <th>7</th>\n",
       "      <td>Day Part_Evening</td>\n",
       "      <td>1.594953</td>\n",
       "    </tr>\n",
       "    <tr>\n",
       "      <th>8</th>\n",
       "      <td>Day Part_Morning</td>\n",
       "      <td>1.747488</td>\n",
       "    </tr>\n",
       "    <tr>\n",
       "      <th>9</th>\n",
       "      <td>Day Part_Night</td>\n",
       "      <td>1.596603</td>\n",
       "    </tr>\n",
       "  </tbody>\n",
       "</table>\n",
       "</div>"
      ],
      "text/plain": [
       "              Feature Name  Vif Factor\n",
       "0  distance_travelled (KM)    1.723150\n",
       "1               Day_Monday    1.307179\n",
       "2             Day_Saturday    1.377700\n",
       "3               Day_Sunday    1.337157\n",
       "4             Day_Thursday    1.379269\n",
       "5              Day_Tuesday    1.343517\n",
       "6            Day_Wednesday    1.357944\n",
       "7         Day Part_Evening    1.594953\n",
       "8         Day Part_Morning    1.747488\n",
       "9           Day Part_Night    1.596603"
      ]
     },
     "execution_count": 60,
     "metadata": {},
     "output_type": "execute_result"
    }
   ],
   "source": [
    "vif_creation(X_2)"
   ]
  },
  {
   "cell_type": "code",
   "execution_count": 61,
   "metadata": {
    "execution": {
     "iopub.execute_input": "2022-01-13T10:43:59.998911Z",
     "iopub.status.busy": "2022-01-13T10:43:59.998194Z",
     "iopub.status.idle": "2022-01-13T10:44:00.022982Z",
     "shell.execute_reply": "2022-01-13T10:44:00.022353Z",
     "shell.execute_reply.started": "2022-01-13T07:34:05.868492Z"
    },
    "papermill": {
     "duration": 0.127297,
     "end_time": "2022-01-13T10:44:00.023124",
     "exception": false,
     "start_time": "2022-01-13T10:43:59.895827",
     "status": "completed"
    },
    "tags": []
   },
   "outputs": [],
   "source": [
    "from sklearn.model_selection import train_test_split\n",
    "X_train,X_test,y_train,y_test= train_test_split(X_2,y,test_size=0.3,random_state=100)"
   ]
  },
  {
   "cell_type": "code",
   "execution_count": 62,
   "metadata": {
    "execution": {
     "iopub.execute_input": "2022-01-13T10:44:00.220706Z",
     "iopub.status.busy": "2022-01-13T10:44:00.220060Z",
     "iopub.status.idle": "2022-01-13T10:44:00.229885Z",
     "shell.execute_reply": "2022-01-13T10:44:00.229181Z",
     "shell.execute_reply.started": "2022-01-13T07:34:05.90684Z"
    },
    "papermill": {
     "duration": 0.109583,
     "end_time": "2022-01-13T10:44:00.230031",
     "exception": false,
     "start_time": "2022-01-13T10:44:00.120448",
     "status": "completed"
    },
    "tags": []
   },
   "outputs": [
    {
     "name": "stderr",
     "output_type": "stream",
     "text": [
      "/opt/conda/lib/python3.7/site-packages/ipykernel_launcher.py:2: SettingWithCopyWarning: \n",
      "A value is trying to be set on a copy of a slice from a DataFrame.\n",
      "Try using .loc[row_indexer,col_indexer] = value instead\n",
      "\n",
      "See the caveats in the documentation: https://pandas.pydata.org/pandas-docs/stable/user_guide/indexing.html#returning-a-view-versus-a-copy\n",
      "  \n",
      "/opt/conda/lib/python3.7/site-packages/ipykernel_launcher.py:3: SettingWithCopyWarning: \n",
      "A value is trying to be set on a copy of a slice from a DataFrame.\n",
      "Try using .loc[row_indexer,col_indexer] = value instead\n",
      "\n",
      "See the caveats in the documentation: https://pandas.pydata.org/pandas-docs/stable/user_guide/indexing.html#returning-a-view-versus-a-copy\n",
      "  This is separate from the ipykernel package so we can avoid doing imports until\n"
     ]
    }
   ],
   "source": [
    "scaler= MinMaxScaler()\n",
    "X_train['distance_travelled (KM)']=scaler.fit_transform(X_train['distance_travelled (KM)'].values.reshape(-1,1))\n",
    "X_test['distance_travelled (KM)'] = scaler.transform(X_test['distance_travelled (KM)'].values.reshape(-1,1))"
   ]
  },
  {
   "cell_type": "code",
   "execution_count": 63,
   "metadata": {
    "execution": {
     "iopub.execute_input": "2022-01-13T10:44:00.428865Z",
     "iopub.status.busy": "2022-01-13T10:44:00.428060Z",
     "iopub.status.idle": "2022-01-13T10:45:04.918095Z",
     "shell.execute_reply": "2022-01-13T10:45:04.918611Z",
     "shell.execute_reply.started": "2022-01-13T07:34:05.920597Z"
    },
    "papermill": {
     "duration": 64.592031,
     "end_time": "2022-01-13T10:45:04.918807",
     "exception": false,
     "start_time": "2022-01-13T10:44:00.326776",
     "status": "completed"
    },
    "tags": []
   },
   "outputs": [
    {
     "name": "stdout",
     "output_type": "stream",
     "text": [
      "The train accurcay of KNN model is 0.7918612324566131 and test score is 0.7347595271722538\n"
     ]
    }
   ],
   "source": [
    "from sklearn.neighbors import KNeighborsRegressor\n",
    "knn_model= KNeighborsRegressor()\n",
    "knn_model.fit(X_train,y_train)\n",
    "print(f'The train accurcay of KNN model is {knn_model.score(X_train,y_train)} and test score is {knn_model.score(X_test,y_test)}')"
   ]
  },
  {
   "cell_type": "code",
   "execution_count": 64,
   "metadata": {
    "execution": {
     "iopub.execute_input": "2022-01-13T10:45:05.121954Z",
     "iopub.status.busy": "2022-01-13T10:45:05.121221Z",
     "iopub.status.idle": "2022-01-13T10:45:05.124954Z",
     "shell.execute_reply": "2022-01-13T10:45:05.124433Z",
     "shell.execute_reply.started": "2022-01-13T07:34:50.584128Z"
    },
    "papermill": {
     "duration": 0.106585,
     "end_time": "2022-01-13T10:45:05.125102",
     "exception": false,
     "start_time": "2022-01-13T10:45:05.018517",
     "status": "completed"
    },
    "tags": []
   },
   "outputs": [],
   "source": [
    "### based on default parameters, knn model is fine but is little overfitting"
   ]
  },
  {
   "cell_type": "code",
   "execution_count": 65,
   "metadata": {
    "execution": {
     "iopub.execute_input": "2022-01-13T10:45:05.329628Z",
     "iopub.status.busy": "2022-01-13T10:45:05.328848Z",
     "iopub.status.idle": "2022-01-13T11:14:56.790335Z",
     "shell.execute_reply": "2022-01-13T11:14:56.791032Z",
     "shell.execute_reply.started": "2022-01-13T07:34:50.592003Z"
    },
    "papermill": {
     "duration": 1791.568197,
     "end_time": "2022-01-13T11:14:56.791289",
     "exception": false,
     "start_time": "2022-01-13T10:45:05.223092",
     "status": "completed"
    },
    "tags": []
   },
   "outputs": [
    {
     "data": {
      "text/plain": [
       "RandomizedSearchCV(cv=5, estimator=KNeighborsRegressor(), n_jobs=-1,\n",
       "                   param_distributions={'metric': ['euclidean', 'minkowski'],\n",
       "                                        'n_neighbors': [50, 100, 150, 200, 250,\n",
       "                                                        300],\n",
       "                                        'weights': ['uniform', 'distance']},\n",
       "                   return_train_score=True, scoring='r2')"
      ]
     },
     "execution_count": 65,
     "metadata": {},
     "output_type": "execute_result"
    }
   ],
   "source": [
    "from sklearn.model_selection import RandomizedSearchCV\n",
    "params = {'n_neighbors':[50,100,150,200,250,300],'weights':['uniform', 'distance'],'metric':['euclidean','minkowski']}\n",
    "grid_model_knn= RandomizedSearchCV(estimator=knn_model,param_distributions=params,cv=5,scoring='r2',return_train_score=True,n_jobs=-1)\n",
    "grid_model_knn.fit(X_train,y_train)\n",
    "    \n",
    "    \n",
    "\n",
    "\n"
   ]
  },
  {
   "cell_type": "code",
   "execution_count": 66,
   "metadata": {
    "execution": {
     "iopub.execute_input": "2022-01-13T11:14:57.022839Z",
     "iopub.status.busy": "2022-01-13T11:14:57.021960Z",
     "iopub.status.idle": "2022-01-13T11:14:57.029356Z",
     "shell.execute_reply": "2022-01-13T11:14:57.028673Z",
     "shell.execute_reply.started": "2022-01-13T08:08:57.613353Z"
    },
    "papermill": {
     "duration": 0.116589,
     "end_time": "2022-01-13T11:14:57.029519",
     "exception": false,
     "start_time": "2022-01-13T11:14:56.912930",
     "status": "completed"
    },
    "tags": []
   },
   "outputs": [
    {
     "data": {
      "text/plain": [
       "{'weights': 'uniform', 'n_neighbors': 100, 'metric': 'euclidean'}"
      ]
     },
     "execution_count": 66,
     "metadata": {},
     "output_type": "execute_result"
    }
   ],
   "source": [
    "grid_model_knn.best_params_"
   ]
  },
  {
   "cell_type": "code",
   "execution_count": 67,
   "metadata": {
    "execution": {
     "iopub.execute_input": "2022-01-13T11:14:57.236078Z",
     "iopub.status.busy": "2022-01-13T11:14:57.235207Z",
     "iopub.status.idle": "2022-01-13T11:14:57.240491Z",
     "shell.execute_reply": "2022-01-13T11:14:57.241124Z",
     "shell.execute_reply.started": "2022-01-13T08:08:57.622388Z"
    },
    "papermill": {
     "duration": 0.109054,
     "end_time": "2022-01-13T11:14:57.241319",
     "exception": false,
     "start_time": "2022-01-13T11:14:57.132265",
     "status": "completed"
    },
    "tags": []
   },
   "outputs": [
    {
     "data": {
      "text/plain": [
       "0.7331929349502031"
      ]
     },
     "execution_count": 67,
     "metadata": {},
     "output_type": "execute_result"
    }
   ],
   "source": [
    "grid_model_knn.best_score_"
   ]
  },
  {
   "cell_type": "code",
   "execution_count": 68,
   "metadata": {
    "execution": {
     "iopub.execute_input": "2022-01-13T11:14:57.458039Z",
     "iopub.status.busy": "2022-01-13T11:14:57.457027Z",
     "iopub.status.idle": "2022-01-13T11:16:35.261464Z",
     "shell.execute_reply": "2022-01-13T11:16:35.262007Z",
     "shell.execute_reply.started": "2022-01-13T08:08:57.635781Z"
    },
    "papermill": {
     "duration": 97.914772,
     "end_time": "2022-01-13T11:16:35.262201",
     "exception": false,
     "start_time": "2022-01-13T11:14:57.347429",
     "status": "completed"
    },
    "tags": []
   },
   "outputs": [
    {
     "name": "stdout",
     "output_type": "stream",
     "text": [
      "The train accurcay of KNN model is 0.7405555829255657 and test score is 0.7644292667204042\n"
     ]
    }
   ],
   "source": [
    "#building the model with the above params\n",
    "knn_model=KNeighborsRegressor(**grid_model_knn.best_params_)\n",
    "knn_model.fit(X_train,y_train)\n",
    "print(f'The train accurcay of KNN model is {knn_model.score(X_train,y_train)} and test score is {knn_model.score(X_test,y_test)}')"
   ]
  },
  {
   "cell_type": "code",
   "execution_count": 69,
   "metadata": {
    "execution": {
     "iopub.execute_input": "2022-01-13T11:16:35.466261Z",
     "iopub.status.busy": "2022-01-13T11:16:35.465551Z",
     "iopub.status.idle": "2022-01-13T11:16:35.468283Z",
     "shell.execute_reply": "2022-01-13T11:16:35.467780Z",
     "shell.execute_reply.started": "2022-01-13T08:09:52.94356Z"
    },
    "papermill": {
     "duration": 0.105531,
     "end_time": "2022-01-13T11:16:35.468436",
     "exception": false,
     "start_time": "2022-01-13T11:16:35.362905",
     "status": "completed"
    },
    "tags": []
   },
   "outputs": [],
   "source": [
    "### KNN model seems to have almost simmilar accuracy to linear regression, but there is little increment in scores!"
   ]
  },
  {
   "cell_type": "markdown",
   "metadata": {
    "papermill": {
     "duration": 0.098666,
     "end_time": "2022-01-13T11:16:35.664985",
     "exception": false,
     "start_time": "2022-01-13T11:16:35.566319",
     "status": "completed"
    },
    "tags": []
   },
   "source": [
    "### Random Forest Regressor"
   ]
  },
  {
   "cell_type": "code",
   "execution_count": 70,
   "metadata": {
    "execution": {
     "iopub.execute_input": "2022-01-13T11:16:35.900341Z",
     "iopub.status.busy": "2022-01-13T11:16:35.896726Z",
     "iopub.status.idle": "2022-01-13T11:16:35.912901Z",
     "shell.execute_reply": "2022-01-13T11:16:35.913512Z",
     "shell.execute_reply.started": "2022-01-13T09:10:20.12681Z"
    },
    "papermill": {
     "duration": 0.150613,
     "end_time": "2022-01-13T11:16:35.913705",
     "exception": false,
     "start_time": "2022-01-13T11:16:35.763092",
     "status": "completed"
    },
    "tags": []
   },
   "outputs": [],
   "source": [
    "#### study the data with using RandomForestRegressor\n",
    "X= uber_df_2.drop(['pickup_datetime','pickup_longitude','pickup_latitude','dropoff_longitude','dropoff_latitude','pickup_timehour','fare_amount'],axis=1)\n",
    "y =uber_df_2['fare_amount']"
   ]
  },
  {
   "cell_type": "code",
   "execution_count": 71,
   "metadata": {
    "execution": {
     "iopub.execute_input": "2022-01-13T11:16:36.118754Z",
     "iopub.status.busy": "2022-01-13T11:16:36.118073Z",
     "iopub.status.idle": "2022-01-13T11:16:36.271580Z",
     "shell.execute_reply": "2022-01-13T11:16:36.272139Z",
     "shell.execute_reply.started": "2022-01-13T09:10:20.141007Z"
    },
    "papermill": {
     "duration": 0.259168,
     "end_time": "2022-01-13T11:16:36.272317",
     "exception": false,
     "start_time": "2022-01-13T11:16:36.013149",
     "status": "completed"
    },
    "tags": []
   },
   "outputs": [],
   "source": [
    "from sklearn.preprocessing import LabelEncoder\n",
    "label_encoder= LabelEncoder()\n",
    "X[['Day','Day Part']]= X[['Day','Day Part']].apply(label_encoder.fit_transform)"
   ]
  },
  {
   "cell_type": "code",
   "execution_count": 72,
   "metadata": {
    "execution": {
     "iopub.execute_input": "2022-01-13T11:16:36.472554Z",
     "iopub.status.busy": "2022-01-13T11:16:36.471876Z",
     "iopub.status.idle": "2022-01-13T11:16:36.512315Z",
     "shell.execute_reply": "2022-01-13T11:16:36.512877Z",
     "shell.execute_reply.started": "2022-01-13T09:10:20.278985Z"
    },
    "papermill": {
     "duration": 0.142383,
     "end_time": "2022-01-13T11:16:36.513068",
     "exception": false,
     "start_time": "2022-01-13T11:16:36.370685",
     "status": "completed"
    },
    "tags": []
   },
   "outputs": [
    {
     "name": "stderr",
     "output_type": "stream",
     "text": [
      "/opt/conda/lib/python3.7/site-packages/ipykernel_launcher.py:5: SettingWithCopyWarning: \n",
      "A value is trying to be set on a copy of a slice from a DataFrame.\n",
      "Try using .loc[row_indexer,col_indexer] = value instead\n",
      "\n",
      "See the caveats in the documentation: https://pandas.pydata.org/pandas-docs/stable/user_guide/indexing.html#returning-a-view-versus-a-copy\n",
      "  \"\"\"\n",
      "/opt/conda/lib/python3.7/site-packages/ipykernel_launcher.py:6: SettingWithCopyWarning: \n",
      "A value is trying to be set on a copy of a slice from a DataFrame.\n",
      "Try using .loc[row_indexer,col_indexer] = value instead\n",
      "\n",
      "See the caveats in the documentation: https://pandas.pydata.org/pandas-docs/stable/user_guide/indexing.html#returning-a-view-versus-a-copy\n",
      "  \n"
     ]
    }
   ],
   "source": [
    "from sklearn.model_selection import train_test_split\n",
    "from sklearn.preprocessing import StandardScaler\n",
    "X_train,X_test,y_train,y_test= train_test_split(X,y,test_size=0.3,random_state=100)\n",
    "sc_1= StandardScaler()\n",
    "X_train['distance_travelled (KM)']= sc_1.fit_transform(X_train['distance_travelled (KM)'].values.reshape(-1,1))\n",
    "X_test['distance_travelled (KM)']= sc_1.transform(X_test['distance_travelled (KM)'].values.reshape(-1,1))"
   ]
  },
  {
   "cell_type": "code",
   "execution_count": 73,
   "metadata": {
    "execution": {
     "iopub.execute_input": "2022-01-13T11:16:36.714735Z",
     "iopub.status.busy": "2022-01-13T11:16:36.714043Z",
     "iopub.status.idle": "2022-01-13T11:16:46.443976Z",
     "shell.execute_reply": "2022-01-13T11:16:46.443282Z",
     "shell.execute_reply.started": "2022-01-13T09:10:20.311134Z"
    },
    "papermill": {
     "duration": 9.832029,
     "end_time": "2022-01-13T11:16:46.444136",
     "exception": false,
     "start_time": "2022-01-13T11:16:36.612107",
     "status": "completed"
    },
    "tags": []
   },
   "outputs": [
    {
     "data": {
      "text/plain": [
       "RandomForestRegressor(max_depth=3)"
      ]
     },
     "execution_count": 73,
     "metadata": {},
     "output_type": "execute_result"
    }
   ],
   "source": [
    "#studying with default parameters\n",
    "from sklearn.ensemble import RandomForestRegressor\n",
    "rf_reg = RandomForestRegressor(max_depth=3)\n",
    "rf_reg.fit(X_train,y_train)"
   ]
  },
  {
   "cell_type": "code",
   "execution_count": 74,
   "metadata": {
    "execution": {
     "iopub.execute_input": "2022-01-13T11:16:46.646712Z",
     "iopub.status.busy": "2022-01-13T11:16:46.646075Z",
     "iopub.status.idle": "2022-01-13T11:16:47.019486Z",
     "shell.execute_reply": "2022-01-13T11:16:47.018732Z",
     "shell.execute_reply.started": "2022-01-13T09:10:27.399759Z"
    },
    "papermill": {
     "duration": 0.475677,
     "end_time": "2022-01-13T11:16:47.019657",
     "exception": false,
     "start_time": "2022-01-13T11:16:46.543980",
     "status": "completed"
    },
    "tags": []
   },
   "outputs": [
    {
     "data": {
      "text/plain": [
       "0.7260667015958092"
      ]
     },
     "execution_count": 74,
     "metadata": {},
     "output_type": "execute_result"
    }
   ],
   "source": [
    "rf_reg.score(X_train,y_train)"
   ]
  },
  {
   "cell_type": "code",
   "execution_count": 75,
   "metadata": {
    "execution": {
     "iopub.execute_input": "2022-01-13T11:16:47.232525Z",
     "iopub.status.busy": "2022-01-13T11:16:47.231862Z",
     "iopub.status.idle": "2022-01-13T11:16:47.398476Z",
     "shell.execute_reply": "2022-01-13T11:16:47.399031Z",
     "shell.execute_reply.started": "2022-01-13T09:10:27.690374Z"
    },
    "papermill": {
     "duration": 0.270254,
     "end_time": "2022-01-13T11:16:47.399222",
     "exception": false,
     "start_time": "2022-01-13T11:16:47.128968",
     "status": "completed"
    },
    "tags": []
   },
   "outputs": [
    {
     "data": {
      "text/plain": [
       "0.7556328465952908"
      ]
     },
     "execution_count": 75,
     "metadata": {},
     "output_type": "execute_result"
    }
   ],
   "source": [
    "rf_reg.score(X_test,y_test)"
   ]
  },
  {
   "cell_type": "code",
   "execution_count": 76,
   "metadata": {
    "execution": {
     "iopub.execute_input": "2022-01-13T11:16:47.608052Z",
     "iopub.status.busy": "2022-01-13T11:16:47.607055Z",
     "iopub.status.idle": "2022-01-13T12:14:48.544591Z",
     "shell.execute_reply": "2022-01-13T12:14:48.545153Z",
     "shell.execute_reply.started": "2022-01-13T10:23:59.349393Z"
    },
    "papermill": {
     "duration": 3481.043339,
     "end_time": "2022-01-13T12:14:48.545348",
     "exception": false,
     "start_time": "2022-01-13T11:16:47.502009",
     "status": "completed"
    },
    "tags": []
   },
   "outputs": [
    {
     "data": {
      "text/plain": [
       "RandomizedSearchCV(cv=5, estimator=RandomForestRegressor(),\n",
       "                   param_distributions={'max_depth': [2, 7, 12, 17],\n",
       "                                        'min_samples_leaf': [10, 20, 30, 40,\n",
       "                                                             50],\n",
       "                                        'min_samples_split': [3, 4, 5, 7, 10,\n",
       "                                                              20],\n",
       "                                        'n_estimators': [100, 400, 700, 1000,\n",
       "                                                         1300]},\n",
       "                   return_train_score=True, scoring='r2')"
      ]
     },
     "execution_count": 76,
     "metadata": {},
     "output_type": "execute_result"
    }
   ],
   "source": [
    "#let's study the model randomforestregressor using the n_estimators\n",
    "from sklearn.model_selection import RandomizedSearchCV\n",
    "rf_reg= RandomForestRegressor()\n",
    "parameters= {'n_estimators':[i for i in range(100,1500,300)],'max_depth':[i for i in range(2,20,5)],'min_samples_split':[3,4,5,7,10,20],'min_samples_leaf':[10,20,30,40,50]}\n",
    "n_folds=5\n",
    "grid_model= RandomizedSearchCV(estimator=rf_reg,param_distributions=parameters,cv=n_folds,scoring='r2',return_train_score=True)\n",
    "grid_model.fit(X_train,y_train)"
   ]
  },
  {
   "cell_type": "code",
   "execution_count": 77,
   "metadata": {
    "execution": {
     "iopub.execute_input": "2022-01-13T12:14:48.753386Z",
     "iopub.status.busy": "2022-01-13T12:14:48.752713Z",
     "iopub.status.idle": "2022-01-13T12:14:48.758375Z",
     "shell.execute_reply": "2022-01-13T12:14:48.758917Z",
     "shell.execute_reply.started": "2022-01-13T10:23:58.932923Z"
    },
    "papermill": {
     "duration": 0.111572,
     "end_time": "2022-01-13T12:14:48.759102",
     "exception": false,
     "start_time": "2022-01-13T12:14:48.647530",
     "status": "completed"
    },
    "tags": []
   },
   "outputs": [
    {
     "data": {
      "text/plain": [
       "{'n_estimators': 100,\n",
       " 'min_samples_split': 3,\n",
       " 'min_samples_leaf': 10,\n",
       " 'max_depth': 12}"
      ]
     },
     "execution_count": 77,
     "metadata": {},
     "output_type": "execute_result"
    }
   ],
   "source": [
    "grid_model.best_params_"
   ]
  },
  {
   "cell_type": "code",
   "execution_count": 78,
   "metadata": {
    "execution": {
     "iopub.execute_input": "2022-01-13T12:14:48.966120Z",
     "iopub.status.busy": "2022-01-13T12:14:48.965417Z",
     "iopub.status.idle": "2022-01-13T12:14:48.971364Z",
     "shell.execute_reply": "2022-01-13T12:14:48.970852Z",
     "shell.execute_reply.started": "2022-01-13T10:23:58.934876Z"
    },
    "papermill": {
     "duration": 0.110055,
     "end_time": "2022-01-13T12:14:48.971510",
     "exception": false,
     "start_time": "2022-01-13T12:14:48.861455",
     "status": "completed"
    },
    "tags": []
   },
   "outputs": [
    {
     "data": {
      "text/plain": [
       "0.7707842547469512"
      ]
     },
     "execution_count": 78,
     "metadata": {},
     "output_type": "execute_result"
    }
   ],
   "source": [
    "grid_model.best_score_"
   ]
  },
  {
   "cell_type": "code",
   "execution_count": 79,
   "metadata": {
    "execution": {
     "iopub.execute_input": "2022-01-13T12:14:49.181844Z",
     "iopub.status.busy": "2022-01-13T12:14:49.181156Z",
     "iopub.status.idle": "2022-01-13T12:14:49.187093Z",
     "shell.execute_reply": "2022-01-13T12:14:49.187684Z",
     "shell.execute_reply.started": "2022-01-13T10:23:58.936984Z"
    },
    "papermill": {
     "duration": 0.111752,
     "end_time": "2022-01-13T12:14:49.187884",
     "exception": false,
     "start_time": "2022-01-13T12:14:49.076132",
     "status": "completed"
    },
    "tags": []
   },
   "outputs": [],
   "source": [
    "df_nestimators= pd.DataFrame(grid_model.cv_results_)"
   ]
  },
  {
   "cell_type": "code",
   "execution_count": 80,
   "metadata": {
    "execution": {
     "iopub.execute_input": "2022-01-13T12:14:49.398062Z",
     "iopub.status.busy": "2022-01-13T12:14:49.397359Z",
     "iopub.status.idle": "2022-01-13T12:14:49.431585Z",
     "shell.execute_reply": "2022-01-13T12:14:49.432205Z",
     "shell.execute_reply.started": "2022-01-13T10:23:58.938691Z"
    },
    "papermill": {
     "duration": 0.14141,
     "end_time": "2022-01-13T12:14:49.432381",
     "exception": false,
     "start_time": "2022-01-13T12:14:49.290971",
     "status": "completed"
    },
    "tags": []
   },
   "outputs": [
    {
     "data": {
      "text/html": [
       "<div>\n",
       "<style scoped>\n",
       "    .dataframe tbody tr th:only-of-type {\n",
       "        vertical-align: middle;\n",
       "    }\n",
       "\n",
       "    .dataframe tbody tr th {\n",
       "        vertical-align: top;\n",
       "    }\n",
       "\n",
       "    .dataframe thead th {\n",
       "        text-align: right;\n",
       "    }\n",
       "</style>\n",
       "<table border=\"1\" class=\"dataframe\">\n",
       "  <thead>\n",
       "    <tr style=\"text-align: right;\">\n",
       "      <th></th>\n",
       "      <th>mean_fit_time</th>\n",
       "      <th>std_fit_time</th>\n",
       "      <th>mean_score_time</th>\n",
       "      <th>std_score_time</th>\n",
       "      <th>param_n_estimators</th>\n",
       "      <th>param_min_samples_split</th>\n",
       "      <th>param_min_samples_leaf</th>\n",
       "      <th>param_max_depth</th>\n",
       "      <th>params</th>\n",
       "      <th>split0_test_score</th>\n",
       "      <th>...</th>\n",
       "      <th>mean_test_score</th>\n",
       "      <th>std_test_score</th>\n",
       "      <th>rank_test_score</th>\n",
       "      <th>split0_train_score</th>\n",
       "      <th>split1_train_score</th>\n",
       "      <th>split2_train_score</th>\n",
       "      <th>split3_train_score</th>\n",
       "      <th>split4_train_score</th>\n",
       "      <th>mean_train_score</th>\n",
       "      <th>std_train_score</th>\n",
       "    </tr>\n",
       "  </thead>\n",
       "  <tbody>\n",
       "    <tr>\n",
       "      <th>0</th>\n",
       "      <td>23.482520</td>\n",
       "      <td>1.013024</td>\n",
       "      <td>0.355164</td>\n",
       "      <td>0.002680</td>\n",
       "      <td>100</td>\n",
       "      <td>3</td>\n",
       "      <td>10</td>\n",
       "      <td>12</td>\n",
       "      <td>{'n_estimators': 100, 'min_samples_split': 3, ...</td>\n",
       "      <td>0.774692</td>\n",
       "      <td>...</td>\n",
       "      <td>0.770784</td>\n",
       "      <td>0.033557</td>\n",
       "      <td>1</td>\n",
       "      <td>0.808124</td>\n",
       "      <td>0.803560</td>\n",
       "      <td>0.802234</td>\n",
       "      <td>0.806239</td>\n",
       "      <td>0.823687</td>\n",
       "      <td>0.808769</td>\n",
       "      <td>0.007736</td>\n",
       "    </tr>\n",
       "    <tr>\n",
       "      <th>1</th>\n",
       "      <td>15.059767</td>\n",
       "      <td>0.097877</td>\n",
       "      <td>0.174905</td>\n",
       "      <td>0.002362</td>\n",
       "      <td>100</td>\n",
       "      <td>7</td>\n",
       "      <td>40</td>\n",
       "      <td>7</td>\n",
       "      <td>{'n_estimators': 100, 'min_samples_split': 7, ...</td>\n",
       "      <td>0.770594</td>\n",
       "      <td>...</td>\n",
       "      <td>0.767084</td>\n",
       "      <td>0.031716</td>\n",
       "      <td>6</td>\n",
       "      <td>0.772272</td>\n",
       "      <td>0.768585</td>\n",
       "      <td>0.766272</td>\n",
       "      <td>0.771270</td>\n",
       "      <td>0.788758</td>\n",
       "      <td>0.773431</td>\n",
       "      <td>0.007946</td>\n",
       "    </tr>\n",
       "    <tr>\n",
       "      <th>2</th>\n",
       "      <td>15.234936</td>\n",
       "      <td>0.130955</td>\n",
       "      <td>0.175193</td>\n",
       "      <td>0.000868</td>\n",
       "      <td>100</td>\n",
       "      <td>10</td>\n",
       "      <td>50</td>\n",
       "      <td>7</td>\n",
       "      <td>{'n_estimators': 100, 'min_samples_split': 10,...</td>\n",
       "      <td>0.770687</td>\n",
       "      <td>...</td>\n",
       "      <td>0.766316</td>\n",
       "      <td>0.032489</td>\n",
       "      <td>7</td>\n",
       "      <td>0.771220</td>\n",
       "      <td>0.767501</td>\n",
       "      <td>0.765096</td>\n",
       "      <td>0.769618</td>\n",
       "      <td>0.787668</td>\n",
       "      <td>0.772221</td>\n",
       "      <td>0.007993</td>\n",
       "    </tr>\n",
       "    <tr>\n",
       "      <th>3</th>\n",
       "      <td>27.848377</td>\n",
       "      <td>0.186322</td>\n",
       "      <td>0.517044</td>\n",
       "      <td>0.007434</td>\n",
       "      <td>100</td>\n",
       "      <td>5</td>\n",
       "      <td>10</td>\n",
       "      <td>17</td>\n",
       "      <td>{'n_estimators': 100, 'min_samples_split': 5, ...</td>\n",
       "      <td>0.774227</td>\n",
       "      <td>...</td>\n",
       "      <td>0.770035</td>\n",
       "      <td>0.033223</td>\n",
       "      <td>2</td>\n",
       "      <td>0.816569</td>\n",
       "      <td>0.813850</td>\n",
       "      <td>0.811831</td>\n",
       "      <td>0.815612</td>\n",
       "      <td>0.833140</td>\n",
       "      <td>0.818200</td>\n",
       "      <td>0.007642</td>\n",
       "    </tr>\n",
       "    <tr>\n",
       "      <th>4</th>\n",
       "      <td>89.849948</td>\n",
       "      <td>0.526834</td>\n",
       "      <td>1.312870</td>\n",
       "      <td>0.010542</td>\n",
       "      <td>400</td>\n",
       "      <td>10</td>\n",
       "      <td>40</td>\n",
       "      <td>12</td>\n",
       "      <td>{'n_estimators': 400, 'min_samples_split': 10,...</td>\n",
       "      <td>0.772483</td>\n",
       "      <td>...</td>\n",
       "      <td>0.769670</td>\n",
       "      <td>0.031842</td>\n",
       "      <td>4</td>\n",
       "      <td>0.781571</td>\n",
       "      <td>0.778038</td>\n",
       "      <td>0.775824</td>\n",
       "      <td>0.780282</td>\n",
       "      <td>0.798421</td>\n",
       "      <td>0.782827</td>\n",
       "      <td>0.008040</td>\n",
       "    </tr>\n",
       "    <tr>\n",
       "      <th>5</th>\n",
       "      <td>154.857090</td>\n",
       "      <td>0.246616</td>\n",
       "      <td>1.730361</td>\n",
       "      <td>0.005773</td>\n",
       "      <td>1000</td>\n",
       "      <td>7</td>\n",
       "      <td>30</td>\n",
       "      <td>7</td>\n",
       "      <td>{'n_estimators': 1000, 'min_samples_split': 7,...</td>\n",
       "      <td>0.771372</td>\n",
       "      <td>...</td>\n",
       "      <td>0.767479</td>\n",
       "      <td>0.032325</td>\n",
       "      <td>5</td>\n",
       "      <td>0.774470</td>\n",
       "      <td>0.770440</td>\n",
       "      <td>0.768209</td>\n",
       "      <td>0.772834</td>\n",
       "      <td>0.790418</td>\n",
       "      <td>0.775274</td>\n",
       "      <td>0.007864</td>\n",
       "    </tr>\n",
       "    <tr>\n",
       "      <th>6</th>\n",
       "      <td>35.342692</td>\n",
       "      <td>0.216609</td>\n",
       "      <td>0.326413</td>\n",
       "      <td>0.001196</td>\n",
       "      <td>700</td>\n",
       "      <td>7</td>\n",
       "      <td>50</td>\n",
       "      <td>2</td>\n",
       "      <td>{'n_estimators': 700, 'min_samples_split': 7, ...</td>\n",
       "      <td>0.698324</td>\n",
       "      <td>...</td>\n",
       "      <td>0.686464</td>\n",
       "      <td>0.035543</td>\n",
       "      <td>9</td>\n",
       "      <td>0.682985</td>\n",
       "      <td>0.679955</td>\n",
       "      <td>0.676577</td>\n",
       "      <td>0.683845</td>\n",
       "      <td>0.704939</td>\n",
       "      <td>0.685660</td>\n",
       "      <td>0.009972</td>\n",
       "    </tr>\n",
       "    <tr>\n",
       "      <th>7</th>\n",
       "      <td>244.841611</td>\n",
       "      <td>1.012130</td>\n",
       "      <td>3.946294</td>\n",
       "      <td>0.014801</td>\n",
       "      <td>1000</td>\n",
       "      <td>5</td>\n",
       "      <td>40</td>\n",
       "      <td>17</td>\n",
       "      <td>{'n_estimators': 1000, 'min_samples_split': 5,...</td>\n",
       "      <td>0.772321</td>\n",
       "      <td>...</td>\n",
       "      <td>0.769714</td>\n",
       "      <td>0.031849</td>\n",
       "      <td>3</td>\n",
       "      <td>0.782760</td>\n",
       "      <td>0.779303</td>\n",
       "      <td>0.776960</td>\n",
       "      <td>0.781638</td>\n",
       "      <td>0.799637</td>\n",
       "      <td>0.784060</td>\n",
       "      <td>0.008040</td>\n",
       "    </tr>\n",
       "    <tr>\n",
       "      <th>8</th>\n",
       "      <td>35.093532</td>\n",
       "      <td>0.242400</td>\n",
       "      <td>0.330676</td>\n",
       "      <td>0.010409</td>\n",
       "      <td>700</td>\n",
       "      <td>4</td>\n",
       "      <td>20</td>\n",
       "      <td>2</td>\n",
       "      <td>{'n_estimators': 700, 'min_samples_split': 4, ...</td>\n",
       "      <td>0.698362</td>\n",
       "      <td>...</td>\n",
       "      <td>0.686403</td>\n",
       "      <td>0.035478</td>\n",
       "      <td>10</td>\n",
       "      <td>0.683026</td>\n",
       "      <td>0.680015</td>\n",
       "      <td>0.676121</td>\n",
       "      <td>0.683948</td>\n",
       "      <td>0.704942</td>\n",
       "      <td>0.685610</td>\n",
       "      <td>0.010045</td>\n",
       "    </tr>\n",
       "    <tr>\n",
       "      <th>9</th>\n",
       "      <td>4.980615</td>\n",
       "      <td>0.046608</td>\n",
       "      <td>0.049542</td>\n",
       "      <td>0.001066</td>\n",
       "      <td>100</td>\n",
       "      <td>7</td>\n",
       "      <td>50</td>\n",
       "      <td>2</td>\n",
       "      <td>{'n_estimators': 100, 'min_samples_split': 7, ...</td>\n",
       "      <td>0.697607</td>\n",
       "      <td>...</td>\n",
       "      <td>0.686620</td>\n",
       "      <td>0.035532</td>\n",
       "      <td>8</td>\n",
       "      <td>0.682369</td>\n",
       "      <td>0.680392</td>\n",
       "      <td>0.676893</td>\n",
       "      <td>0.684286</td>\n",
       "      <td>0.705193</td>\n",
       "      <td>0.685827</td>\n",
       "      <td>0.009987</td>\n",
       "    </tr>\n",
       "  </tbody>\n",
       "</table>\n",
       "<p>10 rows × 24 columns</p>\n",
       "</div>"
      ],
      "text/plain": [
       "   mean_fit_time  std_fit_time  mean_score_time  std_score_time  \\\n",
       "0      23.482520      1.013024         0.355164        0.002680   \n",
       "1      15.059767      0.097877         0.174905        0.002362   \n",
       "2      15.234936      0.130955         0.175193        0.000868   \n",
       "3      27.848377      0.186322         0.517044        0.007434   \n",
       "4      89.849948      0.526834         1.312870        0.010542   \n",
       "5     154.857090      0.246616         1.730361        0.005773   \n",
       "6      35.342692      0.216609         0.326413        0.001196   \n",
       "7     244.841611      1.012130         3.946294        0.014801   \n",
       "8      35.093532      0.242400         0.330676        0.010409   \n",
       "9       4.980615      0.046608         0.049542        0.001066   \n",
       "\n",
       "  param_n_estimators param_min_samples_split param_min_samples_leaf  \\\n",
       "0                100                       3                     10   \n",
       "1                100                       7                     40   \n",
       "2                100                      10                     50   \n",
       "3                100                       5                     10   \n",
       "4                400                      10                     40   \n",
       "5               1000                       7                     30   \n",
       "6                700                       7                     50   \n",
       "7               1000                       5                     40   \n",
       "8                700                       4                     20   \n",
       "9                100                       7                     50   \n",
       "\n",
       "  param_max_depth                                             params  \\\n",
       "0              12  {'n_estimators': 100, 'min_samples_split': 3, ...   \n",
       "1               7  {'n_estimators': 100, 'min_samples_split': 7, ...   \n",
       "2               7  {'n_estimators': 100, 'min_samples_split': 10,...   \n",
       "3              17  {'n_estimators': 100, 'min_samples_split': 5, ...   \n",
       "4              12  {'n_estimators': 400, 'min_samples_split': 10,...   \n",
       "5               7  {'n_estimators': 1000, 'min_samples_split': 7,...   \n",
       "6               2  {'n_estimators': 700, 'min_samples_split': 7, ...   \n",
       "7              17  {'n_estimators': 1000, 'min_samples_split': 5,...   \n",
       "8               2  {'n_estimators': 700, 'min_samples_split': 4, ...   \n",
       "9               2  {'n_estimators': 100, 'min_samples_split': 7, ...   \n",
       "\n",
       "   split0_test_score  ...  mean_test_score  std_test_score  rank_test_score  \\\n",
       "0           0.774692  ...         0.770784        0.033557                1   \n",
       "1           0.770594  ...         0.767084        0.031716                6   \n",
       "2           0.770687  ...         0.766316        0.032489                7   \n",
       "3           0.774227  ...         0.770035        0.033223                2   \n",
       "4           0.772483  ...         0.769670        0.031842                4   \n",
       "5           0.771372  ...         0.767479        0.032325                5   \n",
       "6           0.698324  ...         0.686464        0.035543                9   \n",
       "7           0.772321  ...         0.769714        0.031849                3   \n",
       "8           0.698362  ...         0.686403        0.035478               10   \n",
       "9           0.697607  ...         0.686620        0.035532                8   \n",
       "\n",
       "   split0_train_score  split1_train_score  split2_train_score  \\\n",
       "0            0.808124            0.803560            0.802234   \n",
       "1            0.772272            0.768585            0.766272   \n",
       "2            0.771220            0.767501            0.765096   \n",
       "3            0.816569            0.813850            0.811831   \n",
       "4            0.781571            0.778038            0.775824   \n",
       "5            0.774470            0.770440            0.768209   \n",
       "6            0.682985            0.679955            0.676577   \n",
       "7            0.782760            0.779303            0.776960   \n",
       "8            0.683026            0.680015            0.676121   \n",
       "9            0.682369            0.680392            0.676893   \n",
       "\n",
       "   split3_train_score  split4_train_score  mean_train_score  std_train_score  \n",
       "0            0.806239            0.823687          0.808769         0.007736  \n",
       "1            0.771270            0.788758          0.773431         0.007946  \n",
       "2            0.769618            0.787668          0.772221         0.007993  \n",
       "3            0.815612            0.833140          0.818200         0.007642  \n",
       "4            0.780282            0.798421          0.782827         0.008040  \n",
       "5            0.772834            0.790418          0.775274         0.007864  \n",
       "6            0.683845            0.704939          0.685660         0.009972  \n",
       "7            0.781638            0.799637          0.784060         0.008040  \n",
       "8            0.683948            0.704942          0.685610         0.010045  \n",
       "9            0.684286            0.705193          0.685827         0.009987  \n",
       "\n",
       "[10 rows x 24 columns]"
      ]
     },
     "execution_count": 80,
     "metadata": {},
     "output_type": "execute_result"
    }
   ],
   "source": [
    "df_nestimators"
   ]
  },
  {
   "cell_type": "code",
   "execution_count": 81,
   "metadata": {
    "execution": {
     "iopub.execute_input": "2022-01-13T12:14:49.644032Z",
     "iopub.status.busy": "2022-01-13T12:14:49.640381Z",
     "iopub.status.idle": "2022-01-13T12:15:22.802559Z",
     "shell.execute_reply": "2022-01-13T12:15:22.803104Z",
     "shell.execute_reply.started": "2022-01-13T10:23:58.940594Z"
    },
    "papermill": {
     "duration": 33.267856,
     "end_time": "2022-01-13T12:15:22.803280",
     "exception": false,
     "start_time": "2022-01-13T12:14:49.535424",
     "status": "completed"
    },
    "tags": []
   },
   "outputs": [
    {
     "name": "stdout",
     "output_type": "stream",
     "text": [
      "The test score of random forest regression model is 0.7967878716011342 and train score is 0.8076526998278893\n"
     ]
    }
   ],
   "source": [
    "### creating a model out of the obtained parameters\n",
    "rf_reg = RandomForestRegressor(**grid_model.best_params_)\n",
    "rf_reg.fit(X_train,y_train)\n",
    "\n",
    "print(f'The test score of random forest regression model is {rf_reg.score(X_test,y_test)} and train score is {rf_reg.score(X_train,y_train)}')"
   ]
  },
  {
   "cell_type": "markdown",
   "metadata": {
    "papermill": {
     "duration": 0.106755,
     "end_time": "2022-01-13T12:15:23.015207",
     "exception": false,
     "start_time": "2022-01-13T12:15:22.908452",
     "status": "completed"
    },
    "tags": []
   },
   "source": [
    "### From the above studies these are my findings,\n",
    "\n",
    "#### 1. saw the improvement in accuracy when distance >50km is removed \n",
    "\n",
    "#### 2. For the linear regression model, The train accurcay of linear regression model is 0.7233943738807849 and test score is 0.7570552240821654.\n",
    "\n",
    "#### 3. For KNN after Randomizedsearch, The train accurcay of KNN model is 0.7405555829255657 and test score is 0.7644292667204042\n",
    "\n",
    "#### 4. For RandomForest Tree Regressor, he test score of random forest regression model is 0.7967878716011342 and train score is 0.8076526998278893\n",
    "\n",
    "\n",
    "\n",
    "#### from these overall random forest tree regressor is having a good score with less/no overfitting."
   ]
  },
  {
   "cell_type": "code",
   "execution_count": null,
   "metadata": {},
   "outputs": [],
   "source": []
  }
 ],
 "metadata": {
  "kernelspec": {
   "display_name": "Python 3",
   "language": "python",
   "name": "python3"
  },
  "language_info": {
   "codemirror_mode": {
    "name": "ipython",
    "version": 3
   },
   "file_extension": ".py",
   "mimetype": "text/x-python",
   "name": "python",
   "nbconvert_exporter": "python",
   "pygments_lexer": "ipython3",
   "version": "3.8.5"
  },
  "papermill": {
   "default_parameters": {},
   "duration": 5849.470419,
   "end_time": "2022-01-13T12:15:25.372233",
   "environment_variables": {},
   "exception": null,
   "input_path": "__notebook__.ipynb",
   "output_path": "__notebook__.ipynb",
   "parameters": {},
   "start_time": "2022-01-13T10:37:55.901814",
   "version": "2.3.3"
  }
 },
 "nbformat": 4,
 "nbformat_minor": 5
}
